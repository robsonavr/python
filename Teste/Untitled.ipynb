{
 "cells": [
  {
   "cell_type": "code",
   "execution_count": 12,
   "id": "e09f87e5-d636-4652-8324-c4f7ae17b0cd",
   "metadata": {},
   "outputs": [
    {
     "name": "stdout",
     "output_type": "stream",
     "text": [
      "Conversor de Moedas: \n"
     ]
    },
    {
     "name": "stdin",
     "output_type": "stream",
     "text": [
      "Valor a ser Convertido:  1.00\n",
      "Converter R$ em Dolar, Euro ou Libra:  peso\n"
     ]
    },
    {
     "name": "stdout",
     "output_type": "stream",
     "text": [
      "Moda não encontrada\n"
     ]
    }
   ],
   "source": [
    "print (\"Conversor de Moedas: \")\n",
    "\n",
    "cotacao = {'DOLAR': [5.15, '$'], 'EURO': [6.30, '€'], 'LIBRA': [7.10, '£']}\n",
    "\n",
    "valor = float(input(\"Valor a ser Convertido: \"))\n",
    "moeda = input(\"Converter R$ em Dolar, Euro ou Libra: \").upper()\n",
    "\n",
    "if moeda in cotacao.keys():\n",
    "    n = valor / cotacao[moeda][0]\n",
    "    print(f\"O valor de {valor} R$ equivale a {round(n,2)} {cotacao[moeda][1]}\")\n",
    "else:\n",
    "    print('Moda não encontrada')\n"
   ]
  },
  {
   "cell_type": "code",
   "execution_count": null,
   "id": "6c92a44f-d2ad-4599-9fa6-19779ac311b7",
   "metadata": {},
   "outputs": [],
   "source": []
  }
 ],
 "metadata": {
  "kernelspec": {
   "display_name": "Python 3",
   "language": "python",
   "name": "python3"
  },
  "language_info": {
   "codemirror_mode": {
    "name": "ipython",
    "version": 3
   },
   "file_extension": ".py",
   "mimetype": "text/x-python",
   "name": "python",
   "nbconvert_exporter": "python",
   "pygments_lexer": "ipython3",
   "version": "3.9.2"
  }
 },
 "nbformat": 4,
 "nbformat_minor": 5
}
