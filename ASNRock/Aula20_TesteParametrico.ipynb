{
 "cells": [
  {
   "cell_type": "markdown",
   "id": "374de478",
   "metadata": {},
   "source": [
    "# AULA #020 - Como fazer um teste paramétrico no Python\n",
    "\n",
    "https://www.youtube.com/watch?v=jS_mzUK0rjo&t=2756s&ab_channel=ASN.Rocks"
   ]
  },
  {
   "cell_type": "code",
   "execution_count": 1,
   "id": "52a04a93",
   "metadata": {
    "ExecuteTime": {
     "end_time": "2023-06-22T22:48:41.730746Z",
     "start_time": "2023-06-22T22:48:33.395167Z"
    },
    "vscode": {
     "languageId": "python"
    }
   },
   "outputs": [
    {
     "name": "stderr",
     "output_type": "stream",
     "text": [
      "Matplotlib is building the font cache; this may take a moment.\n"
     ]
    }
   ],
   "source": [
    "import pandas as pd\n",
    "import numpy as np\n",
    "import scipy.stats as stats\n",
    "\n",
    "import matplotlib.pyplot as plt\n",
    "import seaborn as sns"
   ]
  },
  {
   "cell_type": "code",
   "execution_count": 33,
   "id": "6557539c",
   "metadata": {
    "ExecuteTime": {
     "end_time": "2023-06-22T22:48:41.742565Z",
     "start_time": "2023-06-22T22:48:41.738085Z"
    },
    "vscode": {
     "languageId": "python"
    }
   },
   "outputs": [],
   "source": [
    "# criando um array com uma distribuiçao normal com 1000 amostras\n",
    "#distribuiçao Z\n",
    "mu = 0\n",
    "sigma = 1 \n",
    "x = np.random.normal(size=1000)"
   ]
  },
  {
   "cell_type": "code",
   "execution_count": 34,
   "id": "2de4c25e",
   "metadata": {
    "ExecuteTime": {
     "end_time": "2023-06-22T22:48:42.781526Z",
     "start_time": "2023-06-22T22:48:41.745779Z"
    },
    "collapsed": true,
    "vscode": {
     "languageId": "python"
    }
   },
   "outputs": [
    {
     "name": "stderr",
     "output_type": "stream",
     "text": [
      "/home/residencial/anaconda3/envs/mybase/lib/python3.9/site-packages/seaborn/axisgrid.py:118: UserWarning: The figure layout has changed to tight\n",
      "  self._figure.tight_layout(*args, **kwargs)\n"
     ]
    },
    {
     "data": {
      "text/plain": [
       "<seaborn.axisgrid.FacetGrid at 0x7f6699aee730>"
      ]
     },
     "execution_count": 34,
     "metadata": {},
     "output_type": "execute_result"
    },
    {
     "data": {
      "image/png": "[encoded data removed]",
      "text/plain": [
       "<Figure size 500x500 with 1 Axes>"
      ]
     },
     "metadata": {},
     "output_type": "display_data"
    }
   ],
   "source": [
    "sns.displot(x)"
   ]
  },
  {
   "cell_type": "code",
   "execution_count": 38,
   "id": "374e6093",
   "metadata": {
    "ExecuteTime": {
     "end_time": "2023-06-22T22:48:42.817565Z",
     "start_time": "2023-06-22T22:48:42.786321Z"
    },
    "vscode": {
     "languageId": "python"
    }
   },
   "outputs": [
    {
     "data": {
      "text/plain": [
       "KstestResult(statistic=0.026987365178634204, pvalue=0.4522952337362244, statistic_location=0.7454913633108041, statistic_sign=1)"
      ]
     },
     "execution_count": 38,
     "metadata": {},
     "output_type": "execute_result"
    }
   ],
   "source": [
    "# Teste de normalidade Kolmogorov-Smimov para verificar se segue uma distribuiçao normal\n",
    "# Qnd nao informado o teste de sinificancia eh de 0.05\n",
    "stats.kstest(x, 'norm')"
   ]
  },
  {
   "cell_type": "code",
   "execution_count": 5,
   "id": "54a14cb9",
   "metadata": {
    "ExecuteTime": {
     "end_time": "2023-06-22T22:48:42.936031Z",
     "start_time": "2023-06-22T22:48:42.820358Z"
    },
    "vscode": {
     "languageId": "python"
    }
   },
   "outputs": [
    {
     "data": {
      "text/plain": [
       "ShapiroResult(statistic=0.9985212087631226, pvalue=0.568554162979126)"
      ]
     },
     "execution_count": 5,
     "metadata": {},
     "output_type": "execute_result"
    }
   ],
   "source": [
    "# Teste de normalidade Shapiro-Wilk para verificar se segue uma distribuiçao normal\n",
    "# Qnd nao informado o teste de significancia eh de 0.05\n",
    "stats.shapiro(x)"
   ]
  },
  {
   "cell_type": "code",
   "execution_count": 6,
   "id": "152bb844",
   "metadata": {
    "ExecuteTime": {
     "end_time": "2023-06-22T22:48:43.010621Z",
     "start_time": "2023-06-22T22:48:42.940187Z"
    },
    "vscode": {
     "languageId": "python"
    }
   },
   "outputs": [],
   "source": [
    "w = np.random.uniform(size=2300)"
   ]
  },
  {
   "cell_type": "code",
   "execution_count": 7,
   "id": "019463e7",
   "metadata": {
    "ExecuteTime": {
     "end_time": "2023-06-22T22:48:43.397558Z",
     "start_time": "2023-06-22T22:48:43.012971Z"
    },
    "collapsed": true,
    "vscode": {
     "languageId": "python"
    }
   },
   "outputs": [
    {
     "data": {
      "text/plain": [
       "<Axes: ylabel='Count'>"
      ]
     },
     "execution_count": 7,
     "metadata": {},
     "output_type": "execute_result"
    },
    {
     "data": {
      "image/png": "[encoded data removed]",
      "text/plain": [
       "<Figure size 640x480 with 1 Axes>"
      ]
     },
     "metadata": {},
     "output_type": "display_data"
    }
   ],
   "source": [
    "sns.histplot(w)"
   ]
  },
  {
   "cell_type": "code",
   "execution_count": 8,
   "id": "91f509c8",
   "metadata": {
    "ExecuteTime": {
     "end_time": "2023-06-22T22:48:43.407207Z",
     "start_time": "2023-06-22T22:48:43.400379Z"
    },
    "vscode": {
     "languageId": "python"
    }
   },
   "outputs": [
    {
     "data": {
      "text/plain": [
       "0.0"
      ]
     },
     "execution_count": 8,
     "metadata": {},
     "output_type": "execute_result"
    }
   ],
   "source": [
    "stats.kstest(w, 'norm').pvalue"
   ]
  },
  {
   "cell_type": "code",
   "execution_count": 10,
   "id": "6128a070",
   "metadata": {
    "ExecuteTime": {
     "end_time": "2023-06-22T22:49:43.285507Z",
     "start_time": "2023-06-22T22:49:43.019800Z"
    },
    "scrolled": true,
    "vscode": {
     "languageId": "python"
    }
   },
   "outputs": [
    {
     "data": {
      "text/html": [
       "<div>\n",
       "<style scoped>\n",
       "    .dataframe tbody tr th:only-of-type {\n",
       "        vertical-align: middle;\n",
       "    }\n",
       "\n",
       "    .dataframe tbody tr th {\n",
       "        vertical-align: top;\n",
       "    }\n",
       "\n",
       "    .dataframe thead th {\n",
       "        text-align: right;\n",
       "    }\n",
       "</style>\n",
       "<table border=\"1\" class=\"dataframe\">\n",
       "  <thead>\n",
       "    <tr style=\"text-align: right;\">\n",
       "      <th></th>\n",
       "      <th>peso</th>\n",
       "      <th>faixa</th>\n",
       "    </tr>\n",
       "  </thead>\n",
       "  <tbody>\n",
       "    <tr>\n",
       "      <th>0</th>\n",
       "      <td>516.268190</td>\n",
       "      <td>jovem</td>\n",
       "    </tr>\n",
       "    <tr>\n",
       "      <th>1</th>\n",
       "      <td>540.235001</td>\n",
       "      <td>jovem</td>\n",
       "    </tr>\n",
       "    <tr>\n",
       "      <th>2</th>\n",
       "      <td>484.336066</td>\n",
       "      <td>jovem</td>\n",
       "    </tr>\n",
       "    <tr>\n",
       "      <th>3</th>\n",
       "      <td>498.419383</td>\n",
       "      <td>jovem</td>\n",
       "    </tr>\n",
       "    <tr>\n",
       "      <th>4</th>\n",
       "      <td>460.626614</td>\n",
       "      <td>jovem</td>\n",
       "    </tr>\n",
       "  </tbody>\n",
       "</table>\n",
       "</div>"
      ],
      "text/plain": [
       "         peso  faixa\n",
       "0  516.268190  jovem\n",
       "1  540.235001  jovem\n",
       "2  484.336066  jovem\n",
       "3  498.419383  jovem\n",
       "4  460.626614  jovem"
      ]
     },
     "execution_count": 10,
     "metadata": {},
     "output_type": "execute_result"
    }
   ],
   "source": [
    "df = pd.read_excel('vacas.xlsx')\n",
    "df.head()"
   ]
  },
  {
   "cell_type": "code",
   "execution_count": 11,
   "id": "47c3b235",
   "metadata": {
    "ExecuteTime": {
     "end_time": "2023-06-22T22:49:46.605357Z",
     "start_time": "2023-06-22T22:49:46.491653Z"
    },
    "vscode": {
     "languageId": "python"
    }
   },
   "outputs": [
    {
     "data": {
      "text/plain": [
       "faixa\n",
       "adulto    599.213382\n",
       "jovem     501.605045\n",
       "Name: peso, dtype: float64"
      ]
     },
     "execution_count": 11,
     "metadata": {},
     "output_type": "execute_result"
    }
   ],
   "source": [
    "# Valor médio de peso em relação as vacas jovens e adultas\n",
    "df.groupby('faixa')['peso'].mean()"
   ]
  },
  {
   "cell_type": "code",
   "execution_count": 12,
   "id": "f8db74f6",
   "metadata": {
    "ExecuteTime": {
     "end_time": "2023-06-22T22:49:47.007850Z",
     "start_time": "2023-06-22T22:49:46.999469Z"
    },
    "vscode": {
     "languageId": "python"
    }
   },
   "outputs": [
    {
     "data": {
      "text/plain": [
       "ShapiroResult(statistic=0.9956230521202087, pvalue=0.5144494771957397)"
      ]
     },
     "execution_count": 12,
     "metadata": {},
     "output_type": "execute_result"
    }
   ],
   "source": [
    "# verificar a normalidade da distribuicao de vacas jovens\n",
    "stats.shapiro(df.loc[df['faixa']=='jovem', 'peso'])"
   ]
  },
  {
   "cell_type": "code",
   "execution_count": 13,
   "id": "a03dcce7",
   "metadata": {
    "ExecuteTime": {
     "end_time": "2023-06-22T22:49:47.937361Z",
     "start_time": "2023-06-22T22:49:47.586107Z"
    },
    "collapsed": true,
    "vscode": {
     "languageId": "python"
    }
   },
   "outputs": [
    {
     "data": {
      "text/plain": [
       "<Axes: xlabel='peso', ylabel='Count'>"
      ]
     },
     "execution_count": 13,
     "metadata": {},
     "output_type": "execute_result"
    },
    {
     "data": {
      "image/png": "[encoded data removed]",
      "text/plain": [
       "<Figure size 640x480 with 1 Axes>"
      ]
     },
     "metadata": {},
     "output_type": "display_data"
    }
   ],
   "source": [
    "sns.histplot(df.loc[df['faixa']=='jovem', 'peso'])"
   ]
  },
  {
   "cell_type": "code",
   "execution_count": 14,
   "id": "7e2243c1",
   "metadata": {
    "ExecuteTime": {
     "end_time": "2023-06-22T22:49:48.156653Z",
     "start_time": "2023-06-22T22:49:48.148304Z"
    },
    "vscode": {
     "languageId": "python"
    }
   },
   "outputs": [
    {
     "data": {
      "text/plain": [
       "ShapiroResult(statistic=0.9965781569480896, pvalue=0.7309772968292236)"
      ]
     },
     "execution_count": 14,
     "metadata": {},
     "output_type": "execute_result"
    }
   ],
   "source": [
    "stats.shapiro(df.loc[df['faixa']=='adulto', 'peso'])"
   ]
  },
  {
   "cell_type": "code",
   "execution_count": 15,
   "id": "2e4b07ac",
   "metadata": {
    "ExecuteTime": {
     "end_time": "2023-06-22T22:49:49.390805Z",
     "start_time": "2023-06-22T22:49:49.107350Z"
    },
    "collapsed": true,
    "vscode": {
     "languageId": "python"
    }
   },
   "outputs": [
    {
     "data": {
      "text/plain": [
       "<Axes: xlabel='peso', ylabel='Count'>"
      ]
     },
     "execution_count": 15,
     "metadata": {},
     "output_type": "execute_result"
    },
    {
     "data": {
      "image/png": "[encoded data removed]",
      "text/plain": [
       "<Figure size 640x480 with 1 Axes>"
      ]
     },
     "metadata": {},
     "output_type": "display_data"
    }
   ],
   "source": [
    "sns.histplot(df.loc[df['faixa']=='adulto', 'peso'])"
   ]
  },
  {
   "cell_type": "code",
   "execution_count": 16,
   "id": "dec7c2e2",
   "metadata": {
    "ExecuteTime": {
     "end_time": "2023-06-22T22:49:49.734884Z",
     "start_time": "2023-06-22T22:49:49.707784Z"
    },
    "vscode": {
     "languageId": "python"
    }
   },
   "outputs": [
    {
     "data": {
      "text/plain": [
       "LeveneResult(statistic=326.9284680108818, pvalue=2.8168225495838855e-59)"
      ]
     },
     "execution_count": 16,
     "metadata": {},
     "output_type": "execute_result"
    }
   ],
   "source": [
    "# Apos o teste de normalidade, verificamos o teste de homogenidade de variancias\n",
    "\n",
    "stats.levene(df.loc[df['faixa']=='jovem', 'peso'], df.loc[df['faixa']=='adulto', 'peso'])"
   ]
  },
  {
   "cell_type": "code",
   "execution_count": 17,
   "id": "0e8e587f",
   "metadata": {
    "ExecuteTime": {
     "end_time": "2023-06-22T22:49:50.744109Z",
     "start_time": "2023-06-22T22:49:50.525819Z"
    },
    "vscode": {
     "languageId": "python"
    }
   },
   "outputs": [
    {
     "data": {
      "text/plain": [
       "<Axes: xlabel='faixa', ylabel='peso'>"
      ]
     },
     "execution_count": 17,
     "metadata": {},
     "output_type": "execute_result"
    },
    {
     "data": {
      "image/png": "[encoded data removed]",
      "text/plain": [
       "<Figure size 640x480 with 1 Axes>"
      ]
     },
     "metadata": {},
     "output_type": "display_data"
    }
   ],
   "source": [
    "sns.boxplot(data=df, x='faixa', y='peso')"
   ]
  },
  {
   "cell_type": "code",
   "execution_count": 18,
   "id": "48018c28",
   "metadata": {
    "ExecuteTime": {
     "end_time": "2023-06-22T22:49:51.845058Z",
     "start_time": "2023-06-22T22:49:51.725135Z"
    },
    "vscode": {
     "languageId": "python"
    }
   },
   "outputs": [
    {
     "data": {
      "text/html": [
       "<div>\n",
       "<style scoped>\n",
       "    .dataframe tbody tr th:only-of-type {\n",
       "        vertical-align: middle;\n",
       "    }\n",
       "\n",
       "    .dataframe tbody tr th {\n",
       "        vertical-align: top;\n",
       "    }\n",
       "\n",
       "    .dataframe thead th {\n",
       "        text-align: right;\n",
       "    }\n",
       "</style>\n",
       "<table border=\"1\" class=\"dataframe\">\n",
       "  <thead>\n",
       "    <tr style=\"text-align: right;\">\n",
       "      <th></th>\n",
       "      <th>peso</th>\n",
       "      <th>faixa</th>\n",
       "    </tr>\n",
       "  </thead>\n",
       "  <tbody>\n",
       "    <tr>\n",
       "      <th>count</th>\n",
       "      <td>638.000000</td>\n",
       "      <td>638</td>\n",
       "    </tr>\n",
       "    <tr>\n",
       "      <th>unique</th>\n",
       "      <td>NaN</td>\n",
       "      <td>2</td>\n",
       "    </tr>\n",
       "    <tr>\n",
       "      <th>top</th>\n",
       "      <td>NaN</td>\n",
       "      <td>jovem</td>\n",
       "    </tr>\n",
       "    <tr>\n",
       "      <th>freq</th>\n",
       "      <td>NaN</td>\n",
       "      <td>319</td>\n",
       "    </tr>\n",
       "    <tr>\n",
       "      <th>mean</th>\n",
       "      <td>550.409214</td>\n",
       "      <td>NaN</td>\n",
       "    </tr>\n",
       "    <tr>\n",
       "      <th>std</th>\n",
       "      <td>56.895092</td>\n",
       "      <td>NaN</td>\n",
       "    </tr>\n",
       "    <tr>\n",
       "      <th>min</th>\n",
       "      <td>382.318845</td>\n",
       "      <td>NaN</td>\n",
       "    </tr>\n",
       "    <tr>\n",
       "      <th>25%</th>\n",
       "      <td>499.772508</td>\n",
       "      <td>NaN</td>\n",
       "    </tr>\n",
       "    <tr>\n",
       "      <th>50%</th>\n",
       "      <td>578.763193</td>\n",
       "      <td>NaN</td>\n",
       "    </tr>\n",
       "    <tr>\n",
       "      <th>75%</th>\n",
       "      <td>599.936030</td>\n",
       "      <td>NaN</td>\n",
       "    </tr>\n",
       "    <tr>\n",
       "      <th>max</th>\n",
       "      <td>624.359176</td>\n",
       "      <td>NaN</td>\n",
       "    </tr>\n",
       "  </tbody>\n",
       "</table>\n",
       "</div>"
      ],
      "text/plain": [
       "              peso  faixa\n",
       "count   638.000000    638\n",
       "unique         NaN      2\n",
       "top            NaN  jovem\n",
       "freq           NaN    319\n",
       "mean    550.409214    NaN\n",
       "std      56.895092    NaN\n",
       "min     382.318845    NaN\n",
       "25%     499.772508    NaN\n",
       "50%     578.763193    NaN\n",
       "75%     599.936030    NaN\n",
       "max     624.359176    NaN"
      ]
     },
     "execution_count": 18,
     "metadata": {},
     "output_type": "execute_result"
    }
   ],
   "source": [
    "df.describe(include='all')"
   ]
  },
  {
   "cell_type": "code",
   "execution_count": 19,
   "id": "4b749879",
   "metadata": {
    "ExecuteTime": {
     "end_time": "2023-06-22T22:52:01.010077Z",
     "start_time": "2023-06-22T22:52:00.899493Z"
    },
    "vscode": {
     "languageId": "python"
    }
   },
   "outputs": [
    {
     "data": {
      "text/html": [
       "<div>\n",
       "<style scoped>\n",
       "    .dataframe tbody tr th:only-of-type {\n",
       "        vertical-align: middle;\n",
       "    }\n",
       "\n",
       "    .dataframe tbody tr th {\n",
       "        vertical-align: top;\n",
       "    }\n",
       "\n",
       "    .dataframe thead th {\n",
       "        text-align: right;\n",
       "    }\n",
       "</style>\n",
       "<table border=\"1\" class=\"dataframe\">\n",
       "  <thead>\n",
       "    <tr style=\"text-align: right;\">\n",
       "      <th></th>\n",
       "      <th>x</th>\n",
       "      <th>grupo</th>\n",
       "    </tr>\n",
       "  </thead>\n",
       "  <tbody>\n",
       "    <tr>\n",
       "      <th>0</th>\n",
       "      <td>8.348935</td>\n",
       "      <td>grupo_A</td>\n",
       "    </tr>\n",
       "    <tr>\n",
       "      <th>1</th>\n",
       "      <td>10.055573</td>\n",
       "      <td>grupo_A</td>\n",
       "    </tr>\n",
       "    <tr>\n",
       "      <th>2</th>\n",
       "      <td>10.830788</td>\n",
       "      <td>grupo_A</td>\n",
       "    </tr>\n",
       "    <tr>\n",
       "      <th>3</th>\n",
       "      <td>10.045451</td>\n",
       "      <td>grupo_A</td>\n",
       "    </tr>\n",
       "    <tr>\n",
       "      <th>4</th>\n",
       "      <td>9.125831</td>\n",
       "      <td>grupo_A</td>\n",
       "    </tr>\n",
       "  </tbody>\n",
       "</table>\n",
       "</div>"
      ],
      "text/plain": [
       "           x    grupo\n",
       "0   8.348935  grupo_A\n",
       "1  10.055573  grupo_A\n",
       "2  10.830788  grupo_A\n",
       "3  10.045451  grupo_A\n",
       "4   9.125831  grupo_A"
      ]
     },
     "execution_count": 19,
     "metadata": {},
     "output_type": "execute_result"
    }
   ],
   "source": [
    "# Executando os mesmos testes de normalidade e homogenidade para verificar se a distribuiçao segue uma normal e se \n",
    "# as variancias sao iguais\n",
    "\n",
    "df2 = pd.read_excel('variancia2.xlsx')\n",
    "df2.head()"
   ]
  },
  {
   "cell_type": "code",
   "execution_count": 20,
   "id": "673791c6",
   "metadata": {
    "ExecuteTime": {
     "end_time": "2023-06-22T22:52:35.643432Z",
     "start_time": "2023-06-22T22:52:35.635130Z"
    },
    "vscode": {
     "languageId": "python"
    }
   },
   "outputs": [
    {
     "data": {
      "text/plain": [
       "grupo\n",
       "grupo_A     9.973066\n",
       "grupo_B    15.059856\n",
       "Name: x, dtype: float64"
      ]
     },
     "execution_count": 20,
     "metadata": {},
     "output_type": "execute_result"
    }
   ],
   "source": [
    "df2.groupby('grupo')['x'].mean()"
   ]
  },
  {
   "cell_type": "code",
   "execution_count": 21,
   "id": "e18cde93",
   "metadata": {
    "ExecuteTime": {
     "end_time": "2023-06-22T22:54:00.536038Z",
     "start_time": "2023-06-22T22:54:00.530558Z"
    },
    "vscode": {
     "languageId": "python"
    }
   },
   "outputs": [
    {
     "data": {
      "text/plain": [
       "(2000, 2)"
      ]
     },
     "execution_count": 21,
     "metadata": {},
     "output_type": "execute_result"
    }
   ],
   "source": [
    "# verificando a normalidade por grupo\n",
    "df2.shape"
   ]
  },
  {
   "cell_type": "code",
   "execution_count": 22,
   "id": "2256665a",
   "metadata": {
    "ExecuteTime": {
     "end_time": "2023-06-22T22:56:06.877711Z",
     "start_time": "2023-06-22T22:56:06.869629Z"
    },
    "vscode": {
     "languageId": "python"
    }
   },
   "outputs": [
    {
     "data": {
      "text/plain": [
       "ShapiroResult(statistic=0.9983043074607849, pvalue=0.4339529871940613)"
      ]
     },
     "execution_count": 22,
     "metadata": {},
     "output_type": "execute_result"
    }
   ],
   "source": [
    "stats.shapiro(df2.loc[df2['grupo']=='grupo_A', 'x'])"
   ]
  },
  {
   "cell_type": "code",
   "execution_count": 23,
   "id": "e889f33d",
   "metadata": {
    "ExecuteTime": {
     "end_time": "2023-06-22T22:56:23.990342Z",
     "start_time": "2023-06-22T22:56:23.983858Z"
    },
    "vscode": {
     "languageId": "python"
    }
   },
   "outputs": [
    {
     "data": {
      "text/plain": [
       "ShapiroResult(statistic=0.9983258843421936, pvalue=0.4464864134788513)"
      ]
     },
     "execution_count": 23,
     "metadata": {},
     "output_type": "execute_result"
    }
   ],
   "source": [
    "stats.shapiro(df2.loc[df2['grupo']=='grupo_B', 'x'])"
   ]
  },
  {
   "cell_type": "code",
   "execution_count": 24,
   "id": "3a51cdbf",
   "metadata": {
    "ExecuteTime": {
     "end_time": "2023-06-22T23:04:16.767676Z",
     "start_time": "2023-06-22T23:04:16.419744Z"
    },
    "vscode": {
     "languageId": "python"
    }
   },
   "outputs": [
    {
     "data": {
      "image/png": "[encoded data removed]",
      "text/plain": [
       "<Figure size 500x200 with 2 Axes>"
      ]
     },
     "metadata": {},
     "output_type": "display_data"
    }
   ],
   "source": [
    "fig, (ax1, ax2) = plt.subplots(1, 2, figsize=(5, 2))\n",
    "sns.histplot(df2.loc[df2['grupo']=='grupo_A', 'x'], ax=ax1)\n",
    "sns.histplot(df2.loc[df2['grupo']=='grupo_B', 'x'], ax=ax2)\n",
    "plt.show()"
   ]
  },
  {
   "cell_type": "code",
   "execution_count": 25,
   "id": "c5328049",
   "metadata": {
    "ExecuteTime": {
     "end_time": "2023-06-22T23:05:10.972545Z",
     "start_time": "2023-06-22T23:05:10.960783Z"
    },
    "vscode": {
     "languageId": "python"
    }
   },
   "outputs": [
    {
     "data": {
      "text/plain": [
       "LeveneResult(statistic=0.051060493471059266, pvalue=0.8212512169511003)"
      ]
     },
     "execution_count": 25,
     "metadata": {},
     "output_type": "execute_result"
    }
   ],
   "source": [
    "stats.levene(df2.loc[df2['grupo']=='grupo_A', 'x'], df2.loc[df2['grupo']=='grupo_B', 'x'])"
   ]
  },
  {
   "cell_type": "code",
   "execution_count": 26,
   "id": "0e0e0997",
   "metadata": {
    "ExecuteTime": {
     "end_time": "2023-06-22T23:05:58.436594Z",
     "start_time": "2023-06-22T23:05:58.180173Z"
    },
    "vscode": {
     "languageId": "python"
    }
   },
   "outputs": [
    {
     "data": {
      "text/plain": [
       "<Axes: xlabel='grupo', ylabel='x'>"
      ]
     },
     "execution_count": 26,
     "metadata": {},
     "output_type": "execute_result"
    },
    {
     "data": {
      "image/png": "[encoded data removed]",
      "text/plain": [
       "<Figure size 640x480 with 1 Axes>"
      ]
     },
     "metadata": {},
     "output_type": "display_data"
    }
   ],
   "source": [
    "sns.boxplot(data=df2, x='grupo', y='x')"
   ]
  },
  {
   "cell_type": "code",
   "execution_count": 27,
   "id": "ffa69f0b",
   "metadata": {
    "ExecuteTime": {
     "end_time": "2023-06-22T23:55:09.065153Z",
     "start_time": "2023-06-22T23:55:09.057053Z"
    },
    "solution": "hidden",
    "solution_first": true,
    "vscode": {
     "languageId": "python"
    }
   },
   "outputs": [
    {
     "name": "stdout",
     "output_type": "stream",
     "text": [
      "TtestResult(statistic=62.23415298161043, pvalue=0.0, df=999)\n",
      "TtestResult(statistic=62.23415298161043, pvalue=1.0, df=999)\n",
      "TtestResult(statistic=62.23415298161043, pvalue=0.0, df=999)\n"
     ]
    }
   ],
   "source": [
    "# Teste T para uma amostra\n",
    "# h0 : mu = mu_0\n",
    "# h1 : mu <> mu_0\n",
    "\n",
    "x = np.random.normal(18, 4, 1000)\n",
    "\n",
    "print(stats.ttest_1samp(x, 10))\n",
    "print(stats.ttest_1samp(x, 10, alternative='less'))\n",
    "print(stats.ttest_1samp(x, 10, alternative='greater'))"
   ]
  },
  {
   "cell_type": "code",
   "execution_count": 28,
   "id": "7e4c3ac7",
   "metadata": {
    "ExecuteTime": {
     "end_time": "2023-06-22T23:57:44.352468Z",
     "start_time": "2023-06-22T23:57:44.325326Z"
    },
    "vscode": {
     "languageId": "python"
    }
   },
   "outputs": [
    {
     "name": "stdout",
     "output_type": "stream",
     "text": [
      "TtestResult(statistic=-0.42950592818752337, pvalue=0.6676476970661382, df=999)\n",
      "TtestResult(statistic=-0.42950592818752337, pvalue=0.3338238485330691, df=999)\n"
     ]
    }
   ],
   "source": [
    "print(stats.ttest_1samp(df2.loc[df2['grupo']=='grupo_A', 'x'], 10))\n",
    "print(stats.ttest_1samp(df2.loc[df2['grupo']=='grupo_A', 'x'], 10, alternative='less'))"
   ]
  },
  {
   "cell_type": "code",
   "execution_count": 29,
   "id": "452b485f",
   "metadata": {
    "ExecuteTime": {
     "end_time": "2023-06-22T23:58:06.618510Z",
     "start_time": "2023-06-22T23:58:06.611823Z"
    },
    "vscode": {
     "languageId": "python"
    }
   },
   "outputs": [
    {
     "data": {
      "text/plain": [
       "9.973065796728896"
      ]
     },
     "execution_count": 29,
     "metadata": {},
     "output_type": "execute_result"
    }
   ],
   "source": [
    "df2.loc[df2['grupo']=='grupo_A', 'x'].mean()"
   ]
  },
  {
   "cell_type": "code",
   "execution_count": 30,
   "id": "5e70a2b2",
   "metadata": {
    "ExecuteTime": {
     "end_time": "2023-06-23T00:23:31.052993Z",
     "start_time": "2023-06-23T00:23:31.040292Z"
    },
    "vscode": {
     "languageId": "python"
    }
   },
   "outputs": [
    {
     "data": {
      "text/plain": [
       "TtestResult(statistic=-56.72683748721628, pvalue=0.0, df=1998.0)"
      ]
     },
     "execution_count": 30,
     "metadata": {},
     "output_type": "execute_result"
    }
   ],
   "source": [
    "stats.ttest_ind(df2.loc[df2['grupo']=='grupo_A', 'x'], df2.loc[df2['grupo']=='grupo_B', 'x'], alternative='less')"
   ]
  },
  {
   "cell_type": "code",
   "execution_count": 31,
   "id": "53eeb45b",
   "metadata": {
    "ExecuteTime": {
     "end_time": "2023-06-23T00:24:52.613216Z",
     "start_time": "2023-06-23T00:24:52.601206Z"
    },
    "vscode": {
     "languageId": "python"
    }
   },
   "outputs": [
    {
     "data": {
      "text/plain": [
       "TtestResult(statistic=-42.212645485695305, pvalue=6.770062954903353e-187, df=636.0)"
      ]
     },
     "execution_count": 31,
     "metadata": {},
     "output_type": "execute_result"
    }
   ],
   "source": [
    "stats.ttest_ind(df.loc[df['faixa']=='jovem', 'peso'], df.loc[df['faixa']=='adulto', 'peso'], alternative='less')"
   ]
  },
  {
   "cell_type": "code",
   "execution_count": null,
   "id": "7abff63a",
   "metadata": {
    "vscode": {
     "languageId": "python"
    }
   },
   "outputs": [],
   "source": []
  }
 ],
 "metadata": {
  "hide_input": false,
  "kernelspec": {
   "display_name": "Python 3 (ipykernel)",
   "language": "python",
   "name": "python3"
  },
  "language_info": {
   "name": "",
   "version": ""
  },
  "varInspector": {
   "cols": {
    "lenName": 16,
    "lenType": 16,
    "lenVar": 40
   },
   "kernels_config": {
    "python": {
     "delete_cmd_postfix": "",
     "delete_cmd_prefix": "del ",
     "library": "var_list.py",
     "varRefreshCmd": "print(var_dic_list())"
    },
    "r": {
     "delete_cmd_postfix": ") ",
     "delete_cmd_prefix": "rm(",
     "library": "var_list.r",
     "varRefreshCmd": "cat(var_dic_list()) "
    }
   },
   "position": {
    "height": "372.844px",
    "left": "996px",
    "right": "20px",
    "top": "121px",
    "width": "350px"
   },
   "types_to_exclude": [
    "module",
    "function",
    "builtin_function_or_method",
    "instance",
    "_Feature"
   ],
   "window_display": false
  }
 },
 "nbformat": 4,
 "nbformat_minor": 5
}
