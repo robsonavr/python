{
 "cells": [
  {
   "cell_type": "code",
   "execution_count": 4,
   "id": "3963384a-8dfe-454e-af41-7ba9b79a2422",
   "metadata": {},
   "outputs": [],
   "source": [
    "# American elections \n",
    "import pandas as pd"
   ]
  },
  {
   "cell_type": "code",
   "execution_count": 5,
   "id": "cb636cc2-a1cc-4ae6-902c-cffc949286d9",
   "metadata": {},
   "outputs": [],
   "source": [
    "election = pd.read_csv(r'countypres_2000-2016.csv')"
   ]
  },
  {
   "cell_type": "code",
   "execution_count": 6,
   "id": "e86ecfa5-b35b-443a-bef4-8336fec2f851",
   "metadata": {},
   "outputs": [
    {
     "data": {
      "text/html": [
       "<div>\n",
       "<style scoped>\n",
       "    .dataframe tbody tr th:only-of-type {\n",
       "        vertical-align: middle;\n",
       "    }\n",
       "\n",
       "    .dataframe tbody tr th {\n",
       "        vertical-align: top;\n",
       "    }\n",
       "\n",
       "    .dataframe thead th {\n",
       "        text-align: right;\n",
       "    }\n",
       "</style>\n",
       "<table border=\"1\" class=\"dataframe\">\n",
       "  <thead>\n",
       "    <tr style=\"text-align: right;\">\n",
       "      <th></th>\n",
       "      <th>year</th>\n",
       "      <th>state</th>\n",
       "      <th>state_po</th>\n",
       "      <th>county</th>\n",
       "      <th>FIPS</th>\n",
       "      <th>office</th>\n",
       "      <th>candidate</th>\n",
       "      <th>party</th>\n",
       "      <th>candidatevotes</th>\n",
       "      <th>totalvotes</th>\n",
       "      <th>version</th>\n",
       "    </tr>\n",
       "  </thead>\n",
       "  <tbody>\n",
       "    <tr>\n",
       "      <th>0</th>\n",
       "      <td>2000</td>\n",
       "      <td>Alabama</td>\n",
       "      <td>AL</td>\n",
       "      <td>Autauga</td>\n",
       "      <td>1001.0</td>\n",
       "      <td>President</td>\n",
       "      <td>Al Gore</td>\n",
       "      <td>democrat</td>\n",
       "      <td>4942.0</td>\n",
       "      <td>17208</td>\n",
       "      <td>20191203</td>\n",
       "    </tr>\n",
       "    <tr>\n",
       "      <th>1</th>\n",
       "      <td>2000</td>\n",
       "      <td>Alabama</td>\n",
       "      <td>AL</td>\n",
       "      <td>Autauga</td>\n",
       "      <td>1001.0</td>\n",
       "      <td>President</td>\n",
       "      <td>George W. Bush</td>\n",
       "      <td>republican</td>\n",
       "      <td>11993.0</td>\n",
       "      <td>17208</td>\n",
       "      <td>20191203</td>\n",
       "    </tr>\n",
       "    <tr>\n",
       "      <th>2</th>\n",
       "      <td>2000</td>\n",
       "      <td>Alabama</td>\n",
       "      <td>AL</td>\n",
       "      <td>Autauga</td>\n",
       "      <td>1001.0</td>\n",
       "      <td>President</td>\n",
       "      <td>Ralph Nader</td>\n",
       "      <td>green</td>\n",
       "      <td>160.0</td>\n",
       "      <td>17208</td>\n",
       "      <td>20191203</td>\n",
       "    </tr>\n",
       "    <tr>\n",
       "      <th>3</th>\n",
       "      <td>2000</td>\n",
       "      <td>Alabama</td>\n",
       "      <td>AL</td>\n",
       "      <td>Autauga</td>\n",
       "      <td>1001.0</td>\n",
       "      <td>President</td>\n",
       "      <td>Other</td>\n",
       "      <td>NaN</td>\n",
       "      <td>113.0</td>\n",
       "      <td>17208</td>\n",
       "      <td>20191203</td>\n",
       "    </tr>\n",
       "    <tr>\n",
       "      <th>4</th>\n",
       "      <td>2000</td>\n",
       "      <td>Alabama</td>\n",
       "      <td>AL</td>\n",
       "      <td>Baldwin</td>\n",
       "      <td>1003.0</td>\n",
       "      <td>President</td>\n",
       "      <td>Al Gore</td>\n",
       "      <td>democrat</td>\n",
       "      <td>13997.0</td>\n",
       "      <td>56480</td>\n",
       "      <td>20191203</td>\n",
       "    </tr>\n",
       "  </tbody>\n",
       "</table>\n",
       "</div>"
      ],
      "text/plain": [
       "   year    state state_po   county    FIPS     office       candidate  \\\n",
       "0  2000  Alabama       AL  Autauga  1001.0  President         Al Gore   \n",
       "1  2000  Alabama       AL  Autauga  1001.0  President  George W. Bush   \n",
       "2  2000  Alabama       AL  Autauga  1001.0  President     Ralph Nader   \n",
       "3  2000  Alabama       AL  Autauga  1001.0  President           Other   \n",
       "4  2000  Alabama       AL  Baldwin  1003.0  President         Al Gore   \n",
       "\n",
       "        party  candidatevotes  totalvotes   version  \n",
       "0    democrat          4942.0       17208  20191203  \n",
       "1  republican         11993.0       17208  20191203  \n",
       "2       green           160.0       17208  20191203  \n",
       "3         NaN           113.0       17208  20191203  \n",
       "4    democrat         13997.0       56480  20191203  "
      ]
     },
     "execution_count": 6,
     "metadata": {},
     "output_type": "execute_result"
    }
   ],
   "source": [
    "election.head()"
   ]
  },
  {
   "cell_type": "code",
   "execution_count": 17,
   "id": "680eba4e-07e1-41e6-81fb-791aa0b30a59",
   "metadata": {},
   "outputs": [],
   "source": [
    "election_2008 = election[election['year'] == 2008]"
   ]
  },
  {
   "cell_type": "code",
   "execution_count": 18,
   "id": "00608907-f475-472c-b601-254ff46636f8",
   "metadata": {},
   "outputs": [
    {
     "data": {
      "text/html": [
       "<div>\n",
       "<style scoped>\n",
       "    .dataframe tbody tr th:only-of-type {\n",
       "        vertical-align: middle;\n",
       "    }\n",
       "\n",
       "    .dataframe tbody tr th {\n",
       "        vertical-align: top;\n",
       "    }\n",
       "\n",
       "    .dataframe thead th {\n",
       "        text-align: right;\n",
       "    }\n",
       "</style>\n",
       "<table border=\"1\" class=\"dataframe\">\n",
       "  <thead>\n",
       "    <tr style=\"text-align: right;\">\n",
       "      <th></th>\n",
       "      <th>year</th>\n",
       "      <th>state</th>\n",
       "      <th>state_po</th>\n",
       "      <th>county</th>\n",
       "      <th>FIPS</th>\n",
       "      <th>office</th>\n",
       "      <th>candidate</th>\n",
       "      <th>party</th>\n",
       "      <th>candidatevotes</th>\n",
       "      <th>totalvotes</th>\n",
       "      <th>version</th>\n",
       "    </tr>\n",
       "  </thead>\n",
       "  <tbody>\n",
       "    <tr>\n",
       "      <th>21815</th>\n",
       "      <td>2008</td>\n",
       "      <td>Alabama</td>\n",
       "      <td>AL</td>\n",
       "      <td>Autauga</td>\n",
       "      <td>1001.0</td>\n",
       "      <td>President</td>\n",
       "      <td>Barack Obama</td>\n",
       "      <td>democrat</td>\n",
       "      <td>6093.0</td>\n",
       "      <td>23641</td>\n",
       "      <td>20191203</td>\n",
       "    </tr>\n",
       "    <tr>\n",
       "      <th>21816</th>\n",
       "      <td>2008</td>\n",
       "      <td>Alabama</td>\n",
       "      <td>AL</td>\n",
       "      <td>Autauga</td>\n",
       "      <td>1001.0</td>\n",
       "      <td>President</td>\n",
       "      <td>John McCain</td>\n",
       "      <td>republican</td>\n",
       "      <td>17403.0</td>\n",
       "      <td>23641</td>\n",
       "      <td>20191203</td>\n",
       "    </tr>\n",
       "    <tr>\n",
       "      <th>21817</th>\n",
       "      <td>2008</td>\n",
       "      <td>Alabama</td>\n",
       "      <td>AL</td>\n",
       "      <td>Autauga</td>\n",
       "      <td>1001.0</td>\n",
       "      <td>President</td>\n",
       "      <td>Other</td>\n",
       "      <td>NaN</td>\n",
       "      <td>145.0</td>\n",
       "      <td>23641</td>\n",
       "      <td>20191203</td>\n",
       "    </tr>\n",
       "    <tr>\n",
       "      <th>21818</th>\n",
       "      <td>2008</td>\n",
       "      <td>Alabama</td>\n",
       "      <td>AL</td>\n",
       "      <td>Baldwin</td>\n",
       "      <td>1003.0</td>\n",
       "      <td>President</td>\n",
       "      <td>Barack Obama</td>\n",
       "      <td>democrat</td>\n",
       "      <td>19386.0</td>\n",
       "      <td>81413</td>\n",
       "      <td>20191203</td>\n",
       "    </tr>\n",
       "    <tr>\n",
       "      <th>21819</th>\n",
       "      <td>2008</td>\n",
       "      <td>Alabama</td>\n",
       "      <td>AL</td>\n",
       "      <td>Baldwin</td>\n",
       "      <td>1003.0</td>\n",
       "      <td>President</td>\n",
       "      <td>John McCain</td>\n",
       "      <td>republican</td>\n",
       "      <td>61271.0</td>\n",
       "      <td>81413</td>\n",
       "      <td>20191203</td>\n",
       "    </tr>\n",
       "  </tbody>\n",
       "</table>\n",
       "</div>"
      ],
      "text/plain": [
       "       year    state state_po   county    FIPS     office     candidate  \\\n",
       "21815  2008  Alabama       AL  Autauga  1001.0  President  Barack Obama   \n",
       "21816  2008  Alabama       AL  Autauga  1001.0  President   John McCain   \n",
       "21817  2008  Alabama       AL  Autauga  1001.0  President         Other   \n",
       "21818  2008  Alabama       AL  Baldwin  1003.0  President  Barack Obama   \n",
       "21819  2008  Alabama       AL  Baldwin  1003.0  President   John McCain   \n",
       "\n",
       "            party  candidatevotes  totalvotes   version  \n",
       "21815    democrat          6093.0       23641  20191203  \n",
       "21816  republican         17403.0       23641  20191203  \n",
       "21817         NaN           145.0       23641  20191203  \n",
       "21818    democrat         19386.0       81413  20191203  \n",
       "21819  republican         61271.0       81413  20191203  "
      ]
     },
     "execution_count": 18,
     "metadata": {},
     "output_type": "execute_result"
    }
   ],
   "source": [
    "election_2008.head()"
   ]
  },
  {
   "cell_type": "code",
   "execution_count": 19,
   "id": "c667f04a-e9ad-44bb-8c07-97867be0745c",
   "metadata": {},
   "outputs": [
    {
     "name": "stdout",
     "output_type": "stream",
     "text": [
      "<class 'pandas.core.frame.DataFrame'>\n",
      "Int64Index: 9474 entries, 21815 to 50277\n",
      "Data columns (total 11 columns):\n",
      " #   Column          Non-Null Count  Dtype  \n",
      "---  ------          --------------  -----  \n",
      " 0   year            9474 non-null   int64  \n",
      " 1   state           9474 non-null   object \n",
      " 2   state_po        9462 non-null   object \n",
      " 3   county          9474 non-null   object \n",
      " 4   FIPS            9465 non-null   float64\n",
      " 5   office          9474 non-null   object \n",
      " 6   candidate       9474 non-null   object \n",
      " 7   party           6316 non-null   object \n",
      " 8   candidatevotes  9462 non-null   float64\n",
      " 9   totalvotes      9474 non-null   int64  \n",
      " 10  version         9474 non-null   int64  \n",
      "dtypes: float64(2), int64(3), object(6)\n",
      "memory usage: 888.2+ KB\n"
     ]
    }
   ],
   "source": [
    "election_2008.info()"
   ]
  },
  {
   "cell_type": "code",
   "execution_count": 26,
   "id": "2d19b9a6-8944-4cb1-a245-30e31913a8ed",
   "metadata": {},
   "outputs": [],
   "source": [
    "election_2008_dem = election_2008[election_2008['party'] == 'democrat'][['state_po', 'county', 'candidatevotes']]"
   ]
  },
  {
   "cell_type": "code",
   "execution_count": 37,
   "id": "89a74728-8ce2-4305-a4b7-a190127f2a65",
   "metadata": {},
   "outputs": [],
   "source": [
    "election_2008_rep =  election_2008[election_2008['party'] == 'republican'][['state_po', 'county', 'candidatevotes']]"
   ]
  },
  {
   "cell_type": "code",
   "execution_count": 38,
   "id": "a1eaf51a-7c2a-4099-9d6a-bbf910d9dafb",
   "metadata": {},
   "outputs": [],
   "source": [
    "election_2008_dem.columns = ['state', 'county', 'dem_votes']\n",
    "election_2008_rep.columns = ['state', 'county', 'rep_votes']"
   ]
  },
  {
   "cell_type": "code",
   "execution_count": 39,
   "id": "f2db541a-85e7-4985-9b8e-31039d66d844",
   "metadata": {},
   "outputs": [
    {
     "data": {
      "text/html": [
       "<div>\n",
       "<style scoped>\n",
       "    .dataframe tbody tr th:only-of-type {\n",
       "        vertical-align: middle;\n",
       "    }\n",
       "\n",
       "    .dataframe tbody tr th {\n",
       "        vertical-align: top;\n",
       "    }\n",
       "\n",
       "    .dataframe thead th {\n",
       "        text-align: right;\n",
       "    }\n",
       "</style>\n",
       "<table border=\"1\" class=\"dataframe\">\n",
       "  <thead>\n",
       "    <tr style=\"text-align: right;\">\n",
       "      <th></th>\n",
       "      <th>state</th>\n",
       "      <th>county</th>\n",
       "      <th>dem_votes</th>\n",
       "    </tr>\n",
       "  </thead>\n",
       "  <tbody>\n",
       "    <tr>\n",
       "      <th>21815</th>\n",
       "      <td>AL</td>\n",
       "      <td>Autauga</td>\n",
       "      <td>6093.0</td>\n",
       "    </tr>\n",
       "    <tr>\n",
       "      <th>21818</th>\n",
       "      <td>AL</td>\n",
       "      <td>Baldwin</td>\n",
       "      <td>19386.0</td>\n",
       "    </tr>\n",
       "    <tr>\n",
       "      <th>21821</th>\n",
       "      <td>AL</td>\n",
       "      <td>Barbour</td>\n",
       "      <td>5697.0</td>\n",
       "    </tr>\n",
       "    <tr>\n",
       "      <th>21824</th>\n",
       "      <td>AL</td>\n",
       "      <td>Bibb</td>\n",
       "      <td>2299.0</td>\n",
       "    </tr>\n",
       "    <tr>\n",
       "      <th>21827</th>\n",
       "      <td>AL</td>\n",
       "      <td>Blount</td>\n",
       "      <td>3522.0</td>\n",
       "    </tr>\n",
       "  </tbody>\n",
       "</table>\n",
       "</div>"
      ],
      "text/plain": [
       "      state   county  dem_votes\n",
       "21815    AL  Autauga     6093.0\n",
       "21818    AL  Baldwin    19386.0\n",
       "21821    AL  Barbour     5697.0\n",
       "21824    AL     Bibb     2299.0\n",
       "21827    AL   Blount     3522.0"
      ]
     },
     "execution_count": 39,
     "metadata": {},
     "output_type": "execute_result"
    }
   ],
   "source": [
    "election_2008_dem.head()"
   ]
  },
  {
   "cell_type": "code",
   "execution_count": 42,
   "id": "d6f783e3-9ef2-4a1e-96a2-7a51a68f1f6c",
   "metadata": {},
   "outputs": [],
   "source": [
    "election_merge = pd.merge(election_2008_dem, election_2008_rep, how='left', on=['state', 'county'])"
   ]
  },
  {
   "cell_type": "code",
   "execution_count": 43,
   "id": "9ae641d0-d59e-401b-958d-97a68b64bce4",
   "metadata": {},
   "outputs": [
    {
     "data": {
      "text/html": [
       "<div>\n",
       "<style scoped>\n",
       "    .dataframe tbody tr th:only-of-type {\n",
       "        vertical-align: middle;\n",
       "    }\n",
       "\n",
       "    .dataframe tbody tr th {\n",
       "        vertical-align: top;\n",
       "    }\n",
       "\n",
       "    .dataframe thead th {\n",
       "        text-align: right;\n",
       "    }\n",
       "</style>\n",
       "<table border=\"1\" class=\"dataframe\">\n",
       "  <thead>\n",
       "    <tr style=\"text-align: right;\">\n",
       "      <th></th>\n",
       "      <th>state</th>\n",
       "      <th>county</th>\n",
       "      <th>dem_votes</th>\n",
       "      <th>rep_votes</th>\n",
       "    </tr>\n",
       "  </thead>\n",
       "  <tbody>\n",
       "    <tr>\n",
       "      <th>0</th>\n",
       "      <td>AL</td>\n",
       "      <td>Autauga</td>\n",
       "      <td>6093.0</td>\n",
       "      <td>17403.0</td>\n",
       "    </tr>\n",
       "    <tr>\n",
       "      <th>1</th>\n",
       "      <td>AL</td>\n",
       "      <td>Baldwin</td>\n",
       "      <td>19386.0</td>\n",
       "      <td>61271.0</td>\n",
       "    </tr>\n",
       "    <tr>\n",
       "      <th>2</th>\n",
       "      <td>AL</td>\n",
       "      <td>Barbour</td>\n",
       "      <td>5697.0</td>\n",
       "      <td>5866.0</td>\n",
       "    </tr>\n",
       "    <tr>\n",
       "      <th>3</th>\n",
       "      <td>AL</td>\n",
       "      <td>Bibb</td>\n",
       "      <td>2299.0</td>\n",
       "      <td>6262.0</td>\n",
       "    </tr>\n",
       "    <tr>\n",
       "      <th>4</th>\n",
       "      <td>AL</td>\n",
       "      <td>Blount</td>\n",
       "      <td>3522.0</td>\n",
       "      <td>20389.0</td>\n",
       "    </tr>\n",
       "  </tbody>\n",
       "</table>\n",
       "</div>"
      ],
      "text/plain": [
       "  state   county  dem_votes  rep_votes\n",
       "0    AL  Autauga     6093.0    17403.0\n",
       "1    AL  Baldwin    19386.0    61271.0\n",
       "2    AL  Barbour     5697.0     5866.0\n",
       "3    AL     Bibb     2299.0     6262.0\n",
       "4    AL   Blount     3522.0    20389.0"
      ]
     },
     "execution_count": 43,
     "metadata": {},
     "output_type": "execute_result"
    }
   ],
   "source": [
    "election_merge.head()"
   ]
  },
  {
   "cell_type": "code",
   "execution_count": 44,
   "id": "ce5af58b-8ca7-440c-88d8-3d3743a09901",
   "metadata": {},
   "outputs": [],
   "source": [
    "election_merge['dem_share'] = election_merge['dem_votes'] / (election_merge['dem_votes'] + election_merge['rep_votes'])"
   ]
  },
  {
   "cell_type": "code",
   "execution_count": 45,
   "id": "0e2f0b51-bf8f-470c-9878-5c95be91b4d6",
   "metadata": {},
   "outputs": [
    {
     "data": {
      "text/html": [
       "<div>\n",
       "<style scoped>\n",
       "    .dataframe tbody tr th:only-of-type {\n",
       "        vertical-align: middle;\n",
       "    }\n",
       "\n",
       "    .dataframe tbody tr th {\n",
       "        vertical-align: top;\n",
       "    }\n",
       "\n",
       "    .dataframe thead th {\n",
       "        text-align: right;\n",
       "    }\n",
       "</style>\n",
       "<table border=\"1\" class=\"dataframe\">\n",
       "  <thead>\n",
       "    <tr style=\"text-align: right;\">\n",
       "      <th></th>\n",
       "      <th>state</th>\n",
       "      <th>county</th>\n",
       "      <th>dem_votes</th>\n",
       "      <th>rep_votes</th>\n",
       "      <th>dem_share</th>\n",
       "    </tr>\n",
       "  </thead>\n",
       "  <tbody>\n",
       "    <tr>\n",
       "      <th>0</th>\n",
       "      <td>AL</td>\n",
       "      <td>Autauga</td>\n",
       "      <td>6093.0</td>\n",
       "      <td>17403.0</td>\n",
       "      <td>0.259321</td>\n",
       "    </tr>\n",
       "    <tr>\n",
       "      <th>1</th>\n",
       "      <td>AL</td>\n",
       "      <td>Baldwin</td>\n",
       "      <td>19386.0</td>\n",
       "      <td>61271.0</td>\n",
       "      <td>0.240351</td>\n",
       "    </tr>\n",
       "    <tr>\n",
       "      <th>2</th>\n",
       "      <td>AL</td>\n",
       "      <td>Barbour</td>\n",
       "      <td>5697.0</td>\n",
       "      <td>5866.0</td>\n",
       "      <td>0.492692</td>\n",
       "    </tr>\n",
       "    <tr>\n",
       "      <th>3</th>\n",
       "      <td>AL</td>\n",
       "      <td>Bibb</td>\n",
       "      <td>2299.0</td>\n",
       "      <td>6262.0</td>\n",
       "      <td>0.268543</td>\n",
       "    </tr>\n",
       "    <tr>\n",
       "      <th>4</th>\n",
       "      <td>AL</td>\n",
       "      <td>Blount</td>\n",
       "      <td>3522.0</td>\n",
       "      <td>20389.0</td>\n",
       "      <td>0.147296</td>\n",
       "    </tr>\n",
       "  </tbody>\n",
       "</table>\n",
       "</div>"
      ],
      "text/plain": [
       "  state   county  dem_votes  rep_votes  dem_share\n",
       "0    AL  Autauga     6093.0    17403.0   0.259321\n",
       "1    AL  Baldwin    19386.0    61271.0   0.240351\n",
       "2    AL  Barbour     5697.0     5866.0   0.492692\n",
       "3    AL     Bibb     2299.0     6262.0   0.268543\n",
       "4    AL   Blount     3522.0    20389.0   0.147296"
      ]
     },
     "execution_count": 45,
     "metadata": {},
     "output_type": "execute_result"
    }
   ],
   "source": [
    "election_merge.head()"
   ]
  },
  {
   "cell_type": "code",
   "execution_count": 46,
   "id": "12e644d3-a7c3-4405-b9ef-ef339ecdff91",
   "metadata": {},
   "outputs": [],
   "source": [
    "election_final = election_merge.dropna()"
   ]
  },
  {
   "cell_type": "code",
   "execution_count": 47,
   "id": "c1d59573-0f47-48c1-bd2a-7cd5fb8d7ad6",
   "metadata": {},
   "outputs": [
    {
     "data": {
      "text/html": [
       "<div>\n",
       "<style scoped>\n",
       "    .dataframe tbody tr th:only-of-type {\n",
       "        vertical-align: middle;\n",
       "    }\n",
       "\n",
       "    .dataframe tbody tr th {\n",
       "        vertical-align: top;\n",
       "    }\n",
       "\n",
       "    .dataframe thead th {\n",
       "        text-align: right;\n",
       "    }\n",
       "</style>\n",
       "<table border=\"1\" class=\"dataframe\">\n",
       "  <thead>\n",
       "    <tr style=\"text-align: right;\">\n",
       "      <th></th>\n",
       "      <th>dem_votes</th>\n",
       "      <th>rep_votes</th>\n",
       "      <th>dem_share</th>\n",
       "    </tr>\n",
       "  </thead>\n",
       "  <tbody>\n",
       "    <tr>\n",
       "      <th>count</th>\n",
       "      <td>3.164000e+03</td>\n",
       "      <td>3164.000000</td>\n",
       "      <td>3164.000000</td>\n",
       "    </tr>\n",
       "    <tr>\n",
       "      <th>mean</th>\n",
       "      <td>2.209540e+04</td>\n",
       "      <td>19040.452908</td>\n",
       "      <td>0.422553</td>\n",
       "    </tr>\n",
       "    <tr>\n",
       "      <th>std</th>\n",
       "      <td>7.659718e+04</td>\n",
       "      <td>44610.751786</td>\n",
       "      <td>0.141863</td>\n",
       "    </tr>\n",
       "    <tr>\n",
       "      <th>min</th>\n",
       "      <td>8.000000e+00</td>\n",
       "      <td>67.000000</td>\n",
       "      <td>0.031676</td>\n",
       "    </tr>\n",
       "    <tr>\n",
       "      <th>25%</th>\n",
       "      <td>1.836000e+03</td>\n",
       "      <td>2888.500000</td>\n",
       "      <td>0.319564</td>\n",
       "    </tr>\n",
       "    <tr>\n",
       "      <th>50%</th>\n",
       "      <td>4.454000e+03</td>\n",
       "      <td>6271.500000</td>\n",
       "      <td>0.418391</td>\n",
       "    </tr>\n",
       "    <tr>\n",
       "      <th>75%</th>\n",
       "      <td>1.221225e+04</td>\n",
       "      <td>15794.250000</td>\n",
       "      <td>0.513317</td>\n",
       "    </tr>\n",
       "    <tr>\n",
       "      <th>max</th>\n",
       "      <td>2.295853e+06</td>\n",
       "      <td>956425.000000</td>\n",
       "      <td>0.985110</td>\n",
       "    </tr>\n",
       "  </tbody>\n",
       "</table>\n",
       "</div>"
      ],
      "text/plain": [
       "          dem_votes      rep_votes    dem_share\n",
       "count  3.164000e+03    3164.000000  3164.000000\n",
       "mean   2.209540e+04   19040.452908     0.422553\n",
       "std    7.659718e+04   44610.751786     0.141863\n",
       "min    8.000000e+00      67.000000     0.031676\n",
       "25%    1.836000e+03    2888.500000     0.319564\n",
       "50%    4.454000e+03    6271.500000     0.418391\n",
       "75%    1.221225e+04   15794.250000     0.513317\n",
       "max    2.295853e+06  956425.000000     0.985110"
      ]
     },
     "execution_count": 47,
     "metadata": {},
     "output_type": "execute_result"
    }
   ],
   "source": [
    "election_final.describe()"
   ]
  },
  {
   "cell_type": "code",
   "execution_count": 48,
   "id": "2a0fd361-c284-408d-a505-1b3f427ed415",
   "metadata": {},
   "outputs": [
    {
     "name": "stdout",
     "output_type": "stream",
     "text": [
      "<class 'pandas.core.frame.DataFrame'>\n",
      "Int64Index: 3164 entries, 0 to 3166\n",
      "Data columns (total 5 columns):\n",
      " #   Column     Non-Null Count  Dtype  \n",
      "---  ------     --------------  -----  \n",
      " 0   state      3164 non-null   object \n",
      " 1   county     3164 non-null   object \n",
      " 2   dem_votes  3164 non-null   float64\n",
      " 3   rep_votes  3164 non-null   float64\n",
      " 4   dem_share  3164 non-null   float64\n",
      "dtypes: float64(3), object(2)\n",
      "memory usage: 148.3+ KB\n"
     ]
    }
   ],
   "source": [
    "election_final.info()"
   ]
  },
  {
   "cell_type": "code",
   "execution_count": 50,
   "id": "fa958358-cc8b-4656-aab8-e52b9b7c890c",
   "metadata": {},
   "outputs": [
    {
     "data": {
      "text/html": [
       "<div>\n",
       "<style scoped>\n",
       "    .dataframe tbody tr th:only-of-type {\n",
       "        vertical-align: middle;\n",
       "    }\n",
       "\n",
       "    .dataframe tbody tr th {\n",
       "        vertical-align: top;\n",
       "    }\n",
       "\n",
       "    .dataframe thead th {\n",
       "        text-align: right;\n",
       "    }\n",
       "</style>\n",
       "<table border=\"1\" class=\"dataframe\">\n",
       "  <thead>\n",
       "    <tr style=\"text-align: right;\">\n",
       "      <th></th>\n",
       "      <th>state</th>\n",
       "      <th>county</th>\n",
       "      <th>dem_votes</th>\n",
       "      <th>rep_votes</th>\n",
       "      <th>dem_share</th>\n",
       "    </tr>\n",
       "  </thead>\n",
       "  <tbody>\n",
       "    <tr>\n",
       "      <th>1813</th>\n",
       "      <td>NY</td>\n",
       "      <td>Erie</td>\n",
       "      <td>256299.0</td>\n",
       "      <td>178815.0</td>\n",
       "      <td>0.589039</td>\n",
       "    </tr>\n",
       "    <tr>\n",
       "      <th>2035</th>\n",
       "      <td>OH</td>\n",
       "      <td>Erie</td>\n",
       "      <td>23148.0</td>\n",
       "      <td>17432.0</td>\n",
       "      <td>0.570429</td>\n",
       "    </tr>\n",
       "    <tr>\n",
       "      <th>2239</th>\n",
       "      <td>PA</td>\n",
       "      <td>Erie</td>\n",
       "      <td>75775.0</td>\n",
       "      <td>50351.0</td>\n",
       "      <td>0.600788</td>\n",
       "    </tr>\n",
       "  </tbody>\n",
       "</table>\n",
       "</div>"
      ],
      "text/plain": [
       "     state county  dem_votes  rep_votes  dem_share\n",
       "1813    NY   Erie   256299.0   178815.0   0.589039\n",
       "2035    OH   Erie    23148.0    17432.0   0.570429\n",
       "2239    PA   Erie    75775.0    50351.0   0.600788"
      ]
     },
     "execution_count": 50,
     "metadata": {},
     "output_type": "execute_result"
    }
   ],
   "source": [
    "election_final[election_final['county'] == 'Erie']"
   ]
  },
  {
   "cell_type": "code",
   "execution_count": 51,
   "id": "52a09c86-29f2-4f63-bcc4-4b3d9cd4679c",
   "metadata": {},
   "outputs": [],
   "source": [
    "import numpy as np"
   ]
  },
  {
   "cell_type": "code",
   "execution_count": 53,
   "id": "be4b353f-aa39-4caf-b8e9-eb9d4bb4ba0d",
   "metadata": {},
   "outputs": [],
   "source": [
    "x = np.sort(election_final['dem_share'])"
   ]
  },
  {
   "cell_type": "code",
   "execution_count": 55,
   "id": "61700446-43fa-47ef-a323-4241345c1e37",
   "metadata": {},
   "outputs": [],
   "source": [
    "y = np.arange(1, len(x)+1) / len(x)"
   ]
  },
  {
   "cell_type": "code",
   "execution_count": 57,
   "id": "d7c384ba-3b44-4fd7-8db6-c1c9f1599c3d",
   "metadata": {},
   "outputs": [],
   "source": [
    "import matplotlib.pyplot as plt"
   ]
  },
  {
   "cell_type": "code",
   "execution_count": 62,
   "id": "d92a5502-2afc-48ac-9cb0-609ac9f76076",
   "metadata": {},
   "outputs": [
    {
     "data": {
      "image/png": "[encoded data removed]",
      "text/plain": [
       "<Figure size 432x288 with 1 Axes>"
      ]
     },
     "metadata": {
      "needs_background": "light"
     },
     "output_type": "display_data"
    }
   ],
   "source": [
    "_ = plt.plot(x, y, marker='.', linestyle='none')\n",
    "_ = plt.xlabel('percent of vote for Obama')\n",
    "_ = plt.ylabel('ECDF')\n",
    "plt.margins(0.02) # keeps data off plot edges\n",
    "plt.show()"
   ]
  },
  {
   "cell_type": "code",
   "execution_count": 63,
   "id": "eb9aeee4-b768-495a-8a30-cbedddcbd8e3",
   "metadata": {},
   "outputs": [],
   "source": [
    "import seaborn as sns"
   ]
  },
  {
   "cell_type": "code",
   "execution_count": 82,
   "id": "65ae44ad-0bd5-425c-8411-1af4c21976b5",
   "metadata": {},
   "outputs": [],
   "source": [
    "paohfl = pd.concat([election_final[election_final['state'] == 'PA'],  election_final[election_final['state'] == 'OH'],  election_final[election_final['state'] == 'FL']])"
   ]
  },
  {
   "cell_type": "code",
   "execution_count": 84,
   "id": "9efc674f-9d93-4894-81bf-b5aa0290fdd7",
   "metadata": {},
   "outputs": [
    {
     "data": {
      "image/png": "[encoded data removed]",
      "text/plain": [
       "<Figure size 432x288 with 1 Axes>"
      ]
     },
     "metadata": {
      "needs_background": "light"
     },
     "output_type": "display_data"
    }
   ],
   "source": [
    "_ = sns.swarmplot(x='state', y='dem_share', data=paohfl)\n",
    "_ = plt.xlabel('states')\n",
    "_ = plt.ylabel('percent of votes do Obama')\n",
    "plt.margins(0.02)\n",
    "plt.show()"
   ]
  },
  {
   "cell_type": "code",
   "execution_count": 87,
   "id": "dbb70bd6-e3d9-45c7-95f1-122fd04feac9",
   "metadata": {},
   "outputs": [
    {
     "data": {
      "image/png": "[encoded data removed]",
      "text/plain": [
       "<Figure size 432x288 with 1 Axes>"
      ]
     },
     "metadata": {
      "needs_background": "light"
     },
     "output_type": "display_data"
    }
   ],
   "source": [
    "_ = plt.hist(election_final['dem_share'])\n",
    "_ = plt.xlabel('percent of vote for Obama')\n",
    "_ = plt.ylabel('number of counties')\n",
    "plt.show()"
   ]
  },
  {
   "cell_type": "code",
   "execution_count": 100,
   "id": "913b454e-566a-4971-8eac-756afd94ae3d",
   "metadata": {},
   "outputs": [
    {
     "name": "stdout",
     "output_type": "stream",
     "text": [
      "[0.  0.1 0.2 0.3 0.4 0.5 0.6 0.7 0.8 0.9 1. ]\n"
     ]
    }
   ],
   "source": [
    "bin_edges = np.array(list(range(0, 101, 10))) / 100\n",
    "print(bin_edges)"
   ]
  },
  {
   "cell_type": "code",
   "execution_count": 101,
   "id": "d371a180-0e9c-4da5-96a1-0161fd9347eb",
   "metadata": {},
   "outputs": [
    {
     "data": {
      "image/png": "[encoded data removed]",
      "text/plain": [
       "<Figure size 432x288 with 1 Axes>"
      ]
     },
     "metadata": {
      "needs_background": "light"
     },
     "output_type": "display_data"
    }
   ],
   "source": [
    "_ = plt.hist(election_final['dem_share'], bins=bin_edges)\n",
    "_ = plt.xlabel('percent of vote for Obama')\n",
    "_ = plt.ylabel('number of counties')\n",
    "plt.show()"
   ]
  },
  {
   "cell_type": "code",
   "execution_count": 102,
   "id": "afb566a2-a207-4f7b-8744-782fa0de4bff",
   "metadata": {},
   "outputs": [
    {
     "data": {
      "image/png": "[encoded data removed]",
      "text/plain": [
       "<Figure size 432x288 with 1 Axes>"
      ]
     },
     "metadata": {
      "needs_background": "light"
     },
     "output_type": "display_data"
    }
   ],
   "source": [
    "_ = plt.hist(election_final['dem_share'], bins=20)\n",
    "_ = plt.xlabel('percent of vote for Obama')\n",
    "_ = plt.ylabel('number of counties')\n",
    "plt.show()"
   ]
  },
  {
   "cell_type": "code",
   "execution_count": 104,
   "id": "3b9830bf-fe9e-4bd7-9c25-0bf39b06b39d",
   "metadata": {},
   "outputs": [
    {
     "data": {
      "image/png": "[encoded data removed]",
      "text/plain": [
       "<Figure size 432x288 with 1 Axes>"
      ]
     },
     "metadata": {},
     "output_type": "display_data"
    }
   ],
   "source": [
    "sns.set()\n",
    "_ = plt.hist(election_final['dem_share'])\n",
    "_ = plt.xlabel('percent of vote for Obama')\n",
    "_ = plt.ylabel('number of counties')\n",
    "plt.show()"
   ]
  },
  {
   "cell_type": "code",
   "execution_count": null,
   "id": "0c5b0627-c260-4906-9599-baceb8365a08",
   "metadata": {},
   "outputs": [],
   "source": []
  }
 ],
 "metadata": {
  "kernelspec": {
   "display_name": "Python 3",
   "language": "python",
   "name": "python3"
  },
  "language_info": {
   "codemirror_mode": {
    "name": "ipython",
    "version": 3
   },
   "file_extension": ".py",
   "mimetype": "text/x-python",
   "name": "python",
   "nbconvert_exporter": "python",
   "pygments_lexer": "ipython3",
   "version": "3.9.2"
  }
 },
 "nbformat": 4,
 "nbformat_minor": 5
}
