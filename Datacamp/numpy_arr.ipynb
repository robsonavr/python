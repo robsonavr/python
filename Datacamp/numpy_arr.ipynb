{
 "cells": [
  {
   "cell_type": "markdown",
   "id": "c91f09c3-1495-4b25-8ea2-0d7b848ce676",
   "metadata": {},
   "source": [
    "# Utilizando a biblioteca do Numpy\n",
    "\n",
    "https://www.youtube.com/watch?v=AGzB7_vsLbE&list=PLjgj6kdf_snaw8QnlhK5f3DzFDFKDU5f4&index=9"
   ]
  },
  {
   "cell_type": "code",
   "execution_count": 1,
   "id": "068bb437-65a4-4c13-89a3-b781836bd00a",
   "metadata": {},
   "outputs": [],
   "source": [
    "#importando a biblioteca\n",
    "import numpy as np"
   ]
  },
  {
   "cell_type": "code",
   "execution_count": 2,
   "id": "5dc5bfdd-4132-4f73-b8f9-47e18e96a588",
   "metadata": {},
   "outputs": [],
   "source": [
    "np_height = np.array([1.73, 1.68, 1.71, 1.89, 1.79])"
   ]
  },
  {
   "cell_type": "code",
   "execution_count": 3,
   "id": "566e3f99-f513-4129-b194-f101fbceb94b",
   "metadata": {},
   "outputs": [],
   "source": [
    "np_weight = np.array([65.4, 59.2, 63.6, 88.4, 68.7])"
   ]
  },
  {
   "cell_type": "code",
   "execution_count": 4,
   "id": "09e14421-6772-4036-8a9e-dd0a1dc728c8",
   "metadata": {},
   "outputs": [],
   "source": [
    "bmi = np_weight / np_height ** 2"
   ]
  },
  {
   "cell_type": "code",
   "execution_count": 5,
   "id": "027c3414-abb0-454b-90fd-9a59458b406c",
   "metadata": {},
   "outputs": [
    {
     "data": {
      "text/plain": [
       "array([21.85171573, 20.97505669, 21.75028214, 24.7473475 , 21.44127836])"
      ]
     },
     "execution_count": 5,
     "metadata": {},
     "output_type": "execute_result"
    }
   ],
   "source": [
    "bmi"
   ]
  },
  {
   "cell_type": "code",
   "execution_count": 18,
   "id": "6f2ebe35-f1e5-4f36-be10-7b875a62d413",
   "metadata": {},
   "outputs": [
    {
     "data": {
      "text/plain": [
       "array([ True, False, False,  True, False])"
      ]
     },
     "execution_count": 18,
     "metadata": {},
     "output_type": "execute_result"
    }
   ],
   "source": [
    "# retorna um valor boleano da comparacao de cada coluna\n",
    "bmi > 21.80"
   ]
  },
  {
   "cell_type": "code",
   "execution_count": 20,
   "id": "02a65159-8346-4b1f-8ed8-9b85246a8ade",
   "metadata": {},
   "outputs": [
    {
     "data": {
      "text/plain": [
       "array([21.85171573, 24.7473475 ])"
      ]
     },
     "execution_count": 20,
     "metadata": {},
     "output_type": "execute_result"
    }
   ],
   "source": [
    "# retorna o valor da coluna verdadeira\n",
    "bmi[bmi > 21.80]"
   ]
  },
  {
   "cell_type": "code",
   "execution_count": 11,
   "id": "a408001e-ca88-43c9-a83c-52ae5a9e0732",
   "metadata": {},
   "outputs": [],
   "source": [
    "# cria uma matrix de 5 colunas e 2 linhas\n",
    "np_2d = np.array([[1.73, 1.68, 1.71, 1.89, 1.79], [65.4, 59.2, 63.6, 88.4, 68.7]])"
   ]
  },
  {
   "cell_type": "code",
   "execution_count": 21,
   "id": "26525130-cf29-4ca5-9054-ccfc04da9d07",
   "metadata": {},
   "outputs": [
    {
     "data": {
      "text/plain": [
       "1.71"
      ]
     },
     "execution_count": 21,
     "metadata": {},
     "output_type": "execute_result"
    }
   ],
   "source": [
    "# seleciona a coluna 3 da linha 1\n",
    "np_2d[0][2]"
   ]
  },
  {
   "cell_type": "code",
   "execution_count": 22,
   "id": "165a5676-f35c-446f-83d6-e9ccc106e14d",
   "metadata": {},
   "outputs": [
    {
     "data": {
      "text/plain": [
       "1.71"
      ]
     },
     "execution_count": 22,
     "metadata": {},
     "output_type": "execute_result"
    }
   ],
   "source": [
    "# seleciona a coluna 3\n",
    "np_2d[0, 2]"
   ]
  },
  {
   "cell_type": "code",
   "execution_count": 23,
   "id": "0495a7c8-1f09-4f27-beb5-8c6607c95240",
   "metadata": {},
   "outputs": [
    {
     "data": {
      "text/plain": [
       "array([[ 1.68,  1.71],\n",
       "       [59.2 , 63.6 ]])"
      ]
     },
     "execution_count": 23,
     "metadata": {},
     "output_type": "execute_result"
    }
   ],
   "source": [
    "# Seleciona as colunas 2 e 3 de todas as linhas\n",
    "np_2d[:, 1:3]"
   ]
  },
  {
   "cell_type": "code",
   "execution_count": 24,
   "id": "3034e531-6495-40a4-89a5-93aef0df4051",
   "metadata": {},
   "outputs": [
    {
     "data": {
      "text/plain": [
       "array([65.4, 59.2, 63.6, 88.4, 68.7])"
      ]
     },
     "execution_count": 24,
     "metadata": {},
     "output_type": "execute_result"
    }
   ],
   "source": [
    "# Todos as colunas da linha 2\n",
    "np_2d[1, :]"
   ]
  },
  {
   "cell_type": "markdown",
   "id": "4037f551-b292-4832-8808-77eb7a5cbb2b",
   "metadata": {},
   "source": [
    "## Usando estatistica com Numpy"
   ]
  },
  {
   "cell_type": "code",
   "execution_count": 25,
   "id": "f0682afe-e27a-46ec-a33b-ee68d3d94a51",
   "metadata": {},
   "outputs": [],
   "source": [
    "# importando o pandas\n",
    "import pandas as pd"
   ]
  },
  {
   "cell_type": "code",
   "execution_count": 29,
   "id": "a3effaf2-7a98-46c4-a6dc-5c8725a5cbf6",
   "metadata": {},
   "outputs": [
    {
     "data": {
      "text/html": [
       "<div>\n",
       "<style scoped>\n",
       "    .dataframe tbody tr th:only-of-type {\n",
       "        vertical-align: middle;\n",
       "    }\n",
       "\n",
       "    .dataframe tbody tr th {\n",
       "        vertical-align: top;\n",
       "    }\n",
       "\n",
       "    .dataframe thead th {\n",
       "        text-align: right;\n",
       "    }\n",
       "</style>\n",
       "<table border=\"1\" class=\"dataframe\">\n",
       "  <thead>\n",
       "    <tr style=\"text-align: right;\">\n",
       "      <th></th>\n",
       "      <th>codigo_ibge</th>\n",
       "      <th>nome</th>\n",
       "      <th>latitude</th>\n",
       "      <th>longitude</th>\n",
       "      <th>capital</th>\n",
       "      <th>codigo_uf</th>\n",
       "    </tr>\n",
       "  </thead>\n",
       "  <tbody>\n",
       "    <tr>\n",
       "      <th>0</th>\n",
       "      <td>5200050</td>\n",
       "      <td>Abadia de Goiás</td>\n",
       "      <td>-16.75730</td>\n",
       "      <td>-49.4412</td>\n",
       "      <td>0</td>\n",
       "      <td>52</td>\n",
       "    </tr>\n",
       "    <tr>\n",
       "      <th>1</th>\n",
       "      <td>3100104</td>\n",
       "      <td>Abadia dos Dourados</td>\n",
       "      <td>-18.48310</td>\n",
       "      <td>-47.3916</td>\n",
       "      <td>0</td>\n",
       "      <td>31</td>\n",
       "    </tr>\n",
       "    <tr>\n",
       "      <th>2</th>\n",
       "      <td>5200100</td>\n",
       "      <td>Abadiânia</td>\n",
       "      <td>-16.19700</td>\n",
       "      <td>-48.7057</td>\n",
       "      <td>0</td>\n",
       "      <td>52</td>\n",
       "    </tr>\n",
       "    <tr>\n",
       "      <th>3</th>\n",
       "      <td>3100203</td>\n",
       "      <td>Abaeté</td>\n",
       "      <td>-19.15510</td>\n",
       "      <td>-45.4444</td>\n",
       "      <td>0</td>\n",
       "      <td>31</td>\n",
       "    </tr>\n",
       "    <tr>\n",
       "      <th>4</th>\n",
       "      <td>1500107</td>\n",
       "      <td>Abaetetuba</td>\n",
       "      <td>-1.72183</td>\n",
       "      <td>-48.8788</td>\n",
       "      <td>0</td>\n",
       "      <td>15</td>\n",
       "    </tr>\n",
       "  </tbody>\n",
       "</table>\n",
       "</div>"
      ],
      "text/plain": [
       "   codigo_ibge                 nome  latitude  longitude  capital  codigo_uf\n",
       "0      5200050      Abadia de Goiás -16.75730   -49.4412        0         52\n",
       "1      3100104  Abadia dos Dourados -18.48310   -47.3916        0         31\n",
       "2      5200100            Abadiânia -16.19700   -48.7057        0         52\n",
       "3      3100203               Abaeté -19.15510   -45.4444        0         31\n",
       "4      1500107           Abaetetuba  -1.72183   -48.8788        0         15"
      ]
     },
     "execution_count": 29,
     "metadata": {},
     "output_type": "execute_result"
    }
   ],
   "source": [
    "municipios = pd.read_csv(r'https://raw.githubusercontent.com/kelvins/Municipios-Brasileiros/main/csv/municipios.csv')\n",
    "\n",
    "municipios.head()"
   ]
  },
  {
   "cell_type": "code",
   "execution_count": 30,
   "id": "338f910c-646f-47fc-9be6-4b66baf39409",
   "metadata": {},
   "outputs": [
    {
     "name": "stdout",
     "output_type": "stream",
     "text": [
      "<class 'pandas.core.frame.DataFrame'>\n",
      "RangeIndex: 5570 entries, 0 to 5569\n",
      "Data columns (total 6 columns):\n",
      " #   Column       Non-Null Count  Dtype  \n",
      "---  ------       --------------  -----  \n",
      " 0   codigo_ibge  5570 non-null   int64  \n",
      " 1   nome         5570 non-null   object \n",
      " 2   latitude     5570 non-null   float64\n",
      " 3   longitude    5570 non-null   float64\n",
      " 4   capital      5570 non-null   int64  \n",
      " 5   codigo_uf    5570 non-null   int64  \n",
      "dtypes: float64(2), int64(3), object(1)\n",
      "memory usage: 261.2+ KB\n"
     ]
    }
   ],
   "source": [
    "municipios.info()"
   ]
  },
  {
   "cell_type": "code",
   "execution_count": 31,
   "id": "f4beccad-92ec-44fc-860b-a5e2f131b86c",
   "metadata": {},
   "outputs": [
    {
     "data": {
      "text/html": [
       "<div>\n",
       "<style scoped>\n",
       "    .dataframe tbody tr th:only-of-type {\n",
       "        vertical-align: middle;\n",
       "    }\n",
       "\n",
       "    .dataframe tbody tr th {\n",
       "        vertical-align: top;\n",
       "    }\n",
       "\n",
       "    .dataframe thead th {\n",
       "        text-align: right;\n",
       "    }\n",
       "</style>\n",
       "<table border=\"1\" class=\"dataframe\">\n",
       "  <thead>\n",
       "    <tr style=\"text-align: right;\">\n",
       "      <th></th>\n",
       "      <th>codigo_ibge</th>\n",
       "      <th>nome</th>\n",
       "      <th>latitude</th>\n",
       "      <th>longitude</th>\n",
       "      <th>capital</th>\n",
       "      <th>codigo_uf</th>\n",
       "    </tr>\n",
       "  </thead>\n",
       "  <tbody>\n",
       "    <tr>\n",
       "      <th>411</th>\n",
       "      <td>4102000</td>\n",
       "      <td>Assis Chateaubriand</td>\n",
       "      <td>-24.4168</td>\n",
       "      <td>-53.5213</td>\n",
       "      <td>0</td>\n",
       "      <td>41</td>\n",
       "    </tr>\n",
       "  </tbody>\n",
       "</table>\n",
       "</div>"
      ],
      "text/plain": [
       "     codigo_ibge                 nome  latitude  longitude  capital  codigo_uf\n",
       "411      4102000  Assis Chateaubriand  -24.4168   -53.5213        0         41"
      ]
     },
     "execution_count": 31,
     "metadata": {},
     "output_type": "execute_result"
    }
   ],
   "source": [
    "municipios[municipios['nome'] == 'Assis Chateaubriand']"
   ]
  },
  {
   "cell_type": "code",
   "execution_count": 34,
   "id": "82184764-4d95-4f25-a476-a609ed1a2480",
   "metadata": {},
   "outputs": [
    {
     "data": {
      "text/plain": [
       "array([[-16.7573 , -49.4412 ],\n",
       "       [-18.4831 , -47.3916 ],\n",
       "       [-16.197  , -48.7057 ],\n",
       "       ...,\n",
       "       [-21.0506 , -50.0552 ],\n",
       "       [ -3.27014, -45.6553 ],\n",
       "       [-27.4521 , -51.552  ]])"
      ]
     },
     "execution_count": 34,
     "metadata": {},
     "output_type": "execute_result"
    }
   ],
   "source": [
    "np_city = np.array(municipios[['latitude' , 'longitude']])\n",
    "np_city"
   ]
  },
  {
   "cell_type": "code",
   "execution_count": 35,
   "id": "ea7f5a4e-77a1-4c40-86f1-5ea0b2793be8",
   "metadata": {},
   "outputs": [
    {
     "data": {
      "text/plain": [
       "(5570, 2)"
      ]
     },
     "execution_count": 35,
     "metadata": {},
     "output_type": "execute_result"
    }
   ],
   "source": [
    "np_city.shape"
   ]
  },
  {
   "cell_type": "code",
   "execution_count": 36,
   "id": "57982f08-5c7e-4a5e-a52b-edd7a22a0f8b",
   "metadata": {},
   "outputs": [
    {
     "data": {
      "text/plain": [
       "-16.449143712746856"
      ]
     },
     "execution_count": 36,
     "metadata": {},
     "output_type": "execute_result"
    }
   ],
   "source": [
    "np.mean(np_city[:, 0])"
   ]
  },
  {
   "cell_type": "code",
   "execution_count": 37,
   "id": "0b94389b-fb13-4865-bf29-40b8b7db3021",
   "metadata": {},
   "outputs": [
    {
     "data": {
      "text/plain": [
       "-18.094299999999997"
      ]
     },
     "execution_count": 37,
     "metadata": {},
     "output_type": "execute_result"
    }
   ],
   "source": [
    "np.median(np_city[:, 0])"
   ]
  },
  {
   "cell_type": "code",
   "execution_count": 38,
   "id": "ef475bb6-f834-4ac8-9563-ce6cd47052a7",
   "metadata": {},
   "outputs": [],
   "source": [
    "height = np.round(np.random.normal(1.75, 0.20, 5000), 2)\n",
    "weight = np.round(np.random.normal(60.32, 15, 5000), 2)"
   ]
  },
  {
   "cell_type": "code",
   "execution_count": 39,
   "id": "cfe36050-a418-4ca9-a237-52d8542c5f50",
   "metadata": {},
   "outputs": [],
   "source": [
    "np_bmi = np.column_stack((height, weight))"
   ]
  },
  {
   "cell_type": "code",
   "execution_count": 40,
   "id": "dd4d35aa-e4ac-407a-8743-f5edc5e3ae4d",
   "metadata": {},
   "outputs": [
    {
     "data": {
      "text/plain": [
       "(5000, 2)"
      ]
     },
     "execution_count": 40,
     "metadata": {},
     "output_type": "execute_result"
    }
   ],
   "source": [
    "np_bmi.shape"
   ]
  },
  {
   "cell_type": "code",
   "execution_count": 41,
   "id": "42eb0fff-a2a0-4998-baaa-effc2f29fcd5",
   "metadata": {},
   "outputs": [
    {
     "data": {
      "text/plain": [
       "array([[ 2.01, 98.62],\n",
       "       [ 1.95, 85.48],\n",
       "       [ 1.41, 82.85],\n",
       "       ...,\n",
       "       [ 1.74, 76.97],\n",
       "       [ 1.72, 92.82],\n",
       "       [ 1.74, 70.92]])"
      ]
     },
     "execution_count": 41,
     "metadata": {},
     "output_type": "execute_result"
    }
   ],
   "source": [
    "np_bmi"
   ]
  },
  {
   "cell_type": "code",
   "execution_count": 48,
   "id": "14cc8040-c824-4193-9e6e-738c1b3bf38e",
   "metadata": {},
   "outputs": [
    {
     "data": {
      "text/html": [
       "<div>\n",
       "<style scoped>\n",
       "    .dataframe tbody tr th:only-of-type {\n",
       "        vertical-align: middle;\n",
       "    }\n",
       "\n",
       "    .dataframe tbody tr th {\n",
       "        vertical-align: top;\n",
       "    }\n",
       "\n",
       "    .dataframe thead th {\n",
       "        text-align: right;\n",
       "    }\n",
       "</style>\n",
       "<table border=\"1\" class=\"dataframe\">\n",
       "  <thead>\n",
       "    <tr style=\"text-align: right;\">\n",
       "      <th></th>\n",
       "      <th>school_name</th>\n",
       "      <th>class</th>\n",
       "      <th>students</th>\n",
       "    </tr>\n",
       "  </thead>\n",
       "  <tbody>\n",
       "    <tr>\n",
       "      <th>0</th>\n",
       "      <td>ABC primary school</td>\n",
       "      <td>Year 1</td>\n",
       "      <td>{'id': 'A001', 'name': 'Tom', 'math': 60, 'phy...</td>\n",
       "    </tr>\n",
       "    <tr>\n",
       "      <th>1</th>\n",
       "      <td>ABC primary school</td>\n",
       "      <td>Year 1</td>\n",
       "      <td>{'id': 'A002', 'name': 'James', 'math': 89, 'p...</td>\n",
       "    </tr>\n",
       "    <tr>\n",
       "      <th>2</th>\n",
       "      <td>ABC primary school</td>\n",
       "      <td>Year 1</td>\n",
       "      <td>{'id': 'A003', 'name': 'Jenny', 'math': 79, 'p...</td>\n",
       "    </tr>\n",
       "  </tbody>\n",
       "</table>\n",
       "</div>"
      ],
      "text/plain": [
       "          school_name   class  \\\n",
       "0  ABC primary school  Year 1   \n",
       "1  ABC primary school  Year 1   \n",
       "2  ABC primary school  Year 1   \n",
       "\n",
       "                                            students  \n",
       "0  {'id': 'A001', 'name': 'Tom', 'math': 60, 'phy...  \n",
       "1  {'id': 'A002', 'name': 'James', 'math': 89, 'p...  \n",
       "2  {'id': 'A003', 'name': 'Jenny', 'math': 79, 'p...  "
      ]
     },
     "execution_count": 48,
     "metadata": {},
     "output_type": "execute_result"
    }
   ],
   "source": [
    "grade = pd.read_json('grade_score.json')\n",
    "grade.head()"
   ]
  },
  {
   "cell_type": "code",
   "execution_count": 59,
   "id": "bceda8ae-5c79-41d8-a7b7-932e179be10f",
   "metadata": {},
   "outputs": [
    {
     "data": {
      "text/html": [
       "<div>\n",
       "<style scoped>\n",
       "    .dataframe tbody tr th:only-of-type {\n",
       "        vertical-align: middle;\n",
       "    }\n",
       "\n",
       "    .dataframe tbody tr th {\n",
       "        vertical-align: top;\n",
       "    }\n",
       "\n",
       "    .dataframe thead th {\n",
       "        text-align: right;\n",
       "    }\n",
       "</style>\n",
       "<table border=\"1\" class=\"dataframe\">\n",
       "  <thead>\n",
       "    <tr style=\"text-align: right;\">\n",
       "      <th></th>\n",
       "      <th>id</th>\n",
       "      <th>name</th>\n",
       "      <th>math</th>\n",
       "      <th>physics</th>\n",
       "      <th>chemistry</th>\n",
       "    </tr>\n",
       "  </thead>\n",
       "  <tbody>\n",
       "    <tr>\n",
       "      <th>0</th>\n",
       "      <td>A001</td>\n",
       "      <td>Tom</td>\n",
       "      <td>60</td>\n",
       "      <td>66</td>\n",
       "      <td>61</td>\n",
       "    </tr>\n",
       "    <tr>\n",
       "      <th>1</th>\n",
       "      <td>A002</td>\n",
       "      <td>James</td>\n",
       "      <td>89</td>\n",
       "      <td>76</td>\n",
       "      <td>51</td>\n",
       "    </tr>\n",
       "    <tr>\n",
       "      <th>2</th>\n",
       "      <td>A003</td>\n",
       "      <td>Jenny</td>\n",
       "      <td>79</td>\n",
       "      <td>90</td>\n",
       "      <td>78</td>\n",
       "    </tr>\n",
       "  </tbody>\n",
       "</table>\n",
       "</div>"
      ],
      "text/plain": [
       "     id   name  math  physics  chemistry\n",
       "0  A001    Tom    60       66         61\n",
       "1  A002  James    89       76         51\n",
       "2  A003  Jenny    79       90         78"
      ]
     },
     "execution_count": 59,
     "metadata": {},
     "output_type": "execute_result"
    }
   ],
   "source": [
    "pd.json_normalize(grade['students'])"
   ]
  },
  {
   "cell_type": "code",
   "execution_count": null,
   "id": "1ffa2971-cd3f-4dc8-bf7a-1125bfc12c63",
   "metadata": {},
   "outputs": [],
   "source": []
  }
 ],
 "metadata": {
  "kernelspec": {
   "display_name": "Python 3",
   "language": "python",
   "name": "python3"
  },
  "language_info": {
   "codemirror_mode": {
    "name": "ipython",
    "version": 3
   },
   "file_extension": ".py",
   "mimetype": "text/x-python",
   "name": "python",
   "nbconvert_exporter": "python",
   "pygments_lexer": "ipython3",
   "version": "3.9.2"
  }
 },
 "nbformat": 4,
 "nbformat_minor": 5
}
