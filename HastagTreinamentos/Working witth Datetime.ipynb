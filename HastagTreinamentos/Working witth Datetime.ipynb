{
 "cells": [
  {
   "cell_type": "markdown",
   "id": "3e251840",
   "metadata": {},
   "source": [
    "# Trabalhando com TEMPO no Python - Biblioteca Datetime\n",
    "\n",
    "https://www.youtube.com/watch?v=eBYSjP4vf_w"
   ]
  },
  {
   "cell_type": "code",
   "execution_count": 3,
   "id": "17ae281f",
   "metadata": {},
   "outputs": [],
   "source": [
    "import datetime as dt "
   ]
  },
  {
   "cell_type": "code",
   "execution_count": 4,
   "id": "2968e2a3",
   "metadata": {},
   "outputs": [],
   "source": [
    "# Classes:\n",
    "# date\n",
    "# time\n",
    "# datetime\n",
    "# timedelta"
   ]
  },
  {
   "cell_type": "code",
   "execution_count": 7,
   "id": "98d5206c",
   "metadata": {},
   "outputs": [
    {
     "name": "stdout",
     "output_type": "stream",
     "text": [
      "2021-07-14\n"
     ]
    }
   ],
   "source": [
    "#definindo uma data\n",
    "dia  = dt.date(2021, 7, 14)\n",
    "print(dia)"
   ]
  },
  {
   "cell_type": "code",
   "execution_count": 8,
   "id": "b62d892d",
   "metadata": {},
   "outputs": [
    {
     "name": "stdout",
     "output_type": "stream",
     "text": [
      "<class 'datetime.date'>\n"
     ]
    }
   ],
   "source": [
    "#analise do tipo da variável\n",
    "print(type(dia))"
   ]
  },
  {
   "cell_type": "code",
   "execution_count": 9,
   "id": "17c3127b",
   "metadata": {},
   "outputs": [
    {
     "name": "stdout",
     "output_type": "stream",
     "text": [
      "Wed Jul 14 00:00:00 2021\n"
     ]
    }
   ],
   "source": [
    "#mudando o formato semana, mes, dia, hora, ano\n",
    "print(dia.ctime())"
   ]
  },
  {
   "cell_type": "code",
   "execution_count": 12,
   "id": "c2176298",
   "metadata": {},
   "outputs": [
    {
     "name": "stdout",
     "output_type": "stream",
     "text": [
      "14\n",
      "7\n",
      "2021\n",
      "2\n"
     ]
    }
   ],
   "source": [
    "#dividindo o dia em partes\n",
    "print(dia.day)\n",
    "print(dia.month)\n",
    "print(dia.year)\n",
    "print(dia.weekday())"
   ]
  },
  {
   "cell_type": "code",
   "execution_count": 13,
   "id": "0eb908c6",
   "metadata": {},
   "outputs": [
    {
     "name": "stdout",
     "output_type": "stream",
     "text": [
      "2021-07-20\n"
     ]
    }
   ],
   "source": [
    "#alterando o dia ou hora\n",
    "print(dia.replace(day=20))"
   ]
  },
  {
   "cell_type": "code",
   "execution_count": 18,
   "id": "167305b9",
   "metadata": {},
   "outputs": [
    {
     "name": "stdout",
     "output_type": "stream",
     "text": [
      "2021-11-04\n"
     ]
    }
   ],
   "source": [
    "#pegando o dia de hoje\n",
    "agora = dt.date.today()\n",
    "print(agora)"
   ]
  },
  {
   "cell_type": "code",
   "execution_count": 19,
   "id": "8c2bf0ce",
   "metadata": {},
   "outputs": [
    {
     "name": "stdout",
     "output_type": "stream",
     "text": [
      "113 days, 0:00:00\n"
     ]
    }
   ],
   "source": [
    "#operacoes com data\n",
    "delta = agora - dia\n",
    "print(delta)"
   ]
  },
  {
   "cell_type": "markdown",
   "id": "3f1dc770",
   "metadata": {},
   "source": [
    "# Time"
   ]
  },
  {
   "cell_type": "code",
   "execution_count": 22,
   "id": "120cf229",
   "metadata": {},
   "outputs": [
    {
     "name": "stdout",
     "output_type": "stream",
     "text": [
      "13:30:40\n"
     ]
    }
   ],
   "source": [
    "hora = dt.time(13, 30, 40)\n",
    "print(hora)"
   ]
  },
  {
   "cell_type": "code",
   "execution_count": 23,
   "id": "55ff5815",
   "metadata": {},
   "outputs": [
    {
     "name": "stdout",
     "output_type": "stream",
     "text": [
      "13 30 40\n"
     ]
    }
   ],
   "source": [
    "print(hora.hour, hora.minute, hora.second)"
   ]
  },
  {
   "cell_type": "markdown",
   "id": "bffbd604",
   "metadata": {},
   "source": [
    "# Datetime"
   ]
  },
  {
   "cell_type": "code",
   "execution_count": 25,
   "id": "721f6c45",
   "metadata": {},
   "outputs": [
    {
     "name": "stdout",
     "output_type": "stream",
     "text": [
      "2020-08-15 16:45:00\n"
     ]
    }
   ],
   "source": [
    "dia_hora = dt.datetime(2020, 8, 15, 16, 45, 0)\n",
    "print(dia_hora)"
   ]
  },
  {
   "cell_type": "code",
   "execution_count": 28,
   "id": "f29c97a9",
   "metadata": {},
   "outputs": [
    {
     "name": "stdout",
     "output_type": "stream",
     "text": [
      "2021-11-04 20:46:38.255956\n"
     ]
    }
   ],
   "source": [
    "print(dt.datetime.today())"
   ]
  },
  {
   "cell_type": "code",
   "execution_count": 30,
   "id": "8a8af9b3",
   "metadata": {},
   "outputs": [
    {
     "data": {
      "text/plain": [
       "'15/08/20 16:45:00'"
      ]
     },
     "execution_count": 30,
     "metadata": {},
     "output_type": "execute_result"
    }
   ],
   "source": [
    "#converter datetime para string\n",
    "dia_hora.strftime('%d/%m/%y %H:%M:%S')"
   ]
  },
  {
   "cell_type": "code",
   "execution_count": 33,
   "id": "5b760168",
   "metadata": {},
   "outputs": [
    {
     "data": {
      "text/plain": [
       "datetime.datetime(2020, 8, 15, 16, 45, 1)"
      ]
     },
     "execution_count": 33,
     "metadata": {},
     "output_type": "execute_result"
    }
   ],
   "source": [
    "#converter string para datetime\n",
    "dt.datetime.strptime('15/08/20 16:45:01', '%d/%m/%y %H:%M:%S')"
   ]
  },
  {
   "cell_type": "markdown",
   "id": "c1476dba",
   "metadata": {},
   "source": [
    "# Aplicacao de registro de log"
   ]
  },
  {
   "cell_type": "code",
   "execution_count": null,
   "id": "3dd2bef2",
   "metadata": {},
   "outputs": [],
   "source": []
  }
 ],
 "metadata": {
  "kernelspec": {
   "display_name": "Python 3 (ipykernel)",
   "language": "python",
   "name": "python3"
  },
  "language_info": {
   "codemirror_mode": {
    "name": "ipython",
    "version": 3
   },
   "file_extension": ".py",
   "mimetype": "text/x-python",
   "name": "python",
   "nbconvert_exporter": "python",
   "pygments_lexer": "ipython3",
   "version": "3.9.7"
  }
 },
 "nbformat": 4,
 "nbformat_minor": 5
}
