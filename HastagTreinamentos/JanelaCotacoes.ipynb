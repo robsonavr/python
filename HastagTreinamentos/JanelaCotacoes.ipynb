{
 "cells": [
  {
   "cell_type": "markdown",
   "id": "d828d757",
   "metadata": {},
   "source": [
    "# Como Criar uma Tela em Python Para Seus Códigos - [Interface Gráfica Intuitiva com Tkinter]"
   ]
  },
  {
   "cell_type": "code",
   "execution_count": 7,
   "id": "e09e7f99",
   "metadata": {},
   "outputs": [],
   "source": [
    "import requests\n",
    "import tkinter as Tk"
   ]
  },
  {
   "cell_type": "code",
   "execution_count": 15,
   "id": "6bcd5ec1",
   "metadata": {},
   "outputs": [],
   "source": [
    "def pegar_cotacoes():\n",
    "    \n",
    "    requisicao = requests.get('https://economia.awesomeapi.com.br/last/USD-BRL,EUR-BRL,BTC-BRL')\n",
    "    dicionario = requisicao.json()\n",
    "    cotacao_dolar = dicionario['USDBRL']['bid']\n",
    "    cotacao_euro = dicionario['EURBRL']['bid']\n",
    "    cotacao_btc = dicionario['BTCBRL']['bid']\n",
    "    \n",
    "    #print(f'Dólar: {cotacao_dolar}, Euro: {cotacao_euro}, BTC: {cotacao_btc}')\n",
    "    texto_cotacoes['text'] = f'''Dólar: {cotacao_dolar}, Euro: {cotacao_euro}, BTC: {cotacao_btc}'''"
   ]
  },
  {
   "cell_type": "code",
   "execution_count": 16,
   "id": "72f68d4f",
   "metadata": {},
   "outputs": [],
   "source": [
    "#pegar_cotacoes()"
   ]
  },
  {
   "cell_type": "code",
   "execution_count": 20,
   "id": "de28673a",
   "metadata": {},
   "outputs": [],
   "source": [
    "janela = Tk.Tk() #cria a janela\n",
    "janela.title(\"Cotação Atual das Moedas\") #define o titulo\n",
    "janela.geometry('400x400')\n",
    "\n",
    "texto_orientacao = Tk.Label(janela, text='Click para atualizar cotação') #crio texto\n",
    "texto_orientacao.grid(column=0, row=0, padx=10, pady=10) #posiciona o texto\n",
    "\n",
    "botao = Tk.Button(janela, text='Click aqui', command=pegar_cotacoes) #cria um botão\n",
    "botao.grid(column=0, row=1, padx=10, pady=10)\n",
    "\n",
    "texto_cotacoes = Tk.Label(janela, text='')\n",
    "texto_cotacoes.grid(column=0, row=2, padx=10, pady=10)\n",
    "\n",
    "janela.mainloop()"
   ]
  },
  {
   "cell_type": "code",
   "execution_count": null,
   "id": "4d9a60ef",
   "metadata": {},
   "outputs": [],
   "source": []
  }
 ],
 "metadata": {
  "kernelspec": {
   "display_name": "Python 3",
   "language": "python",
   "name": "python3"
  },
  "language_info": {
   "codemirror_mode": {
    "name": "ipython",
    "version": 3
   },
   "file_extension": ".py",
   "mimetype": "text/x-python",
   "name": "python",
   "nbconvert_exporter": "python",
   "pygments_lexer": "ipython3",
   "version": "3.7.3"
  }
 },
 "nbformat": 4,
 "nbformat_minor": 5
}
