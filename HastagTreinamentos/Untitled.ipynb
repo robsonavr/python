{
 "cells": [
  {
   "cell_type": "markdown",
   "id": "7e6c0ec0-fc5b-460f-afb9-3723fd38a776",
   "metadata": {},
   "source": [
    "# HashtagTrainamentos  - Datas Personalizadas no Power BI - Mês, Bimestre, Semestre\n",
    "\n",
    "https://www.youtube.com/watch?v=3YZ_awh57dY"
   ]
  },
  {
   "cell_type": "code",
   "execution_count": 1,
   "id": "671e56c2-e3d3-41a1-8b2a-5380140b49c8",
   "metadata": {},
   "outputs": [],
   "source": [
    "#import libs\n",
    "import pandas as pd"
   ]
  },
  {
   "cell_type": "code",
   "execution_count": 7,
   "id": "7ba47525-32e5-4c92-8997-c1106d403905",
   "metadata": {},
   "outputs": [
    {
     "name": "stdout",
     "output_type": "stream",
     "text": [
      "Collecting openpyxl\n",
      "  Downloading openpyxl-3.0.7-py2.py3-none-any.whl (243 kB)\n",
      "Collecting et-xmlfile\n",
      "  Downloading et_xmlfile-1.0.1.tar.gz (8.4 kB)\n",
      "Using legacy 'setup.py install' for et-xmlfile, since package 'wheel' is not installed.\n",
      "Installing collected packages: et-xmlfile, openpyxl\n",
      "    Running setup.py install for et-xmlfile: started\n",
      "    Running setup.py install for et-xmlfile: finished with status 'done'\n",
      "Successfully installed et-xmlfile-1.0.1 openpyxl-3.0.7\n"
     ]
    }
   ],
   "source": [
    "#!pip install xlrd\n",
    "#!pip install openpyxl "
   ]
  },
  {
   "cell_type": "code",
   "execution_count": 8,
   "id": "38850ceb-641d-4fd3-a522-c228f095647b",
   "metadata": {},
   "outputs": [
    {
     "data": {
      "text/html": [
       "<div>\n",
       "<style scoped>\n",
       "    .dataframe tbody tr th:only-of-type {\n",
       "        vertical-align: middle;\n",
       "    }\n",
       "\n",
       "    .dataframe tbody tr th {\n",
       "        vertical-align: top;\n",
       "    }\n",
       "\n",
       "    .dataframe thead th {\n",
       "        text-align: right;\n",
       "    }\n",
       "</style>\n",
       "<table border=\"1\" class=\"dataframe\">\n",
       "  <thead>\n",
       "    <tr style=\"text-align: right;\">\n",
       "      <th></th>\n",
       "      <th>SKU</th>\n",
       "      <th>Qtd Vendida</th>\n",
       "      <th>Loja</th>\n",
       "      <th>Data da Venda</th>\n",
       "      <th>Preco Unitario</th>\n",
       "      <th>Faturamento</th>\n",
       "      <th>Produto</th>\n",
       "    </tr>\n",
       "  </thead>\n",
       "  <tbody>\n",
       "    <tr>\n",
       "      <th>0</th>\n",
       "      <td>HL1018</td>\n",
       "      <td>5</td>\n",
       "      <td>Porto Alegre</td>\n",
       "      <td>2016-01-01</td>\n",
       "      <td>1200</td>\n",
       "      <td>6000</td>\n",
       "      <td>Smart Watch</td>\n",
       "    </tr>\n",
       "    <tr>\n",
       "      <th>1</th>\n",
       "      <td>HL1001</td>\n",
       "      <td>2</td>\n",
       "      <td>Fortaleza</td>\n",
       "      <td>2016-01-01</td>\n",
       "      <td>2600</td>\n",
       "      <td>5200</td>\n",
       "      <td>Televisão</td>\n",
       "    </tr>\n",
       "    <tr>\n",
       "      <th>2</th>\n",
       "      <td>HL1008</td>\n",
       "      <td>1</td>\n",
       "      <td>Rio de Janeiro</td>\n",
       "      <td>2016-01-01</td>\n",
       "      <td>2000</td>\n",
       "      <td>2000</td>\n",
       "      <td>Televisão</td>\n",
       "    </tr>\n",
       "    <tr>\n",
       "      <th>3</th>\n",
       "      <td>HL1021</td>\n",
       "      <td>1</td>\n",
       "      <td>Recife</td>\n",
       "      <td>2016-01-01</td>\n",
       "      <td>3000</td>\n",
       "      <td>3000</td>\n",
       "      <td>Celular</td>\n",
       "    </tr>\n",
       "    <tr>\n",
       "      <th>4</th>\n",
       "      <td>HL1008</td>\n",
       "      <td>5</td>\n",
       "      <td>Salvador</td>\n",
       "      <td>2016-01-01</td>\n",
       "      <td>2000</td>\n",
       "      <td>10000</td>\n",
       "      <td>Televisão</td>\n",
       "    </tr>\n",
       "  </tbody>\n",
       "</table>\n",
       "</div>"
      ],
      "text/plain": [
       "      SKU  Qtd Vendida            Loja Data da Venda  Preco Unitario  \\\n",
       "0  HL1018            5    Porto Alegre    2016-01-01            1200   \n",
       "1  HL1001            2       Fortaleza    2016-01-01            2600   \n",
       "2  HL1008            1  Rio de Janeiro    2016-01-01            2000   \n",
       "3  HL1021            1          Recife    2016-01-01            3000   \n",
       "4  HL1008            5        Salvador    2016-01-01            2000   \n",
       "\n",
       "   Faturamento      Produto  \n",
       "0         6000  Smart Watch  \n",
       "1         5200    Televisão  \n",
       "2         2000    Televisão  \n",
       "3         3000      Celular  \n",
       "4        10000    Televisão  "
      ]
     },
     "execution_count": 8,
     "metadata": {},
     "output_type": "execute_result"
    }
   ],
   "source": [
    "df = pd.read_excel('Base Vendas.xlsx')\n",
    "\n",
    "df.head()"
   ]
  },
  {
   "cell_type": "code",
   "execution_count": 10,
   "id": "2ef10b51-d33e-408b-aef5-332e75fe2763",
   "metadata": {},
   "outputs": [
    {
     "name": "stdout",
     "output_type": "stream",
     "text": [
      "<class 'pandas.core.frame.DataFrame'>\n",
      "RangeIndex: 23794 entries, 0 to 23793\n",
      "Data columns (total 7 columns):\n",
      " #   Column          Non-Null Count  Dtype         \n",
      "---  ------          --------------  -----         \n",
      " 0   SKU             23794 non-null  object        \n",
      " 1   Qtd Vendida     23794 non-null  int64         \n",
      " 2   Loja            23794 non-null  object        \n",
      " 3   Data da Venda   23794 non-null  datetime64[ns]\n",
      " 4   Preco Unitario  23794 non-null  int64         \n",
      " 5   Faturamento     23794 non-null  int64         \n",
      " 6   Produto         23794 non-null  object        \n",
      "dtypes: datetime64[ns](1), int64(3), object(3)\n",
      "memory usage: 1.3+ MB\n"
     ]
    }
   ],
   "source": [
    "df.info()"
   ]
  },
  {
   "cell_type": "code",
   "execution_count": null,
   "id": "ba4d14ec-0e70-47c6-acb1-f760f9d4c7b2",
   "metadata": {},
   "outputs": [],
   "source": []
  }
 ],
 "metadata": {
  "kernelspec": {
   "display_name": "Python 3",
   "language": "python",
   "name": "python3"
  },
  "language_info": {
   "codemirror_mode": {
    "name": "ipython",
    "version": 3
   },
   "file_extension": ".py",
   "mimetype": "text/x-python",
   "name": "python",
   "nbconvert_exporter": "python",
   "pygments_lexer": "ipython3",
   "version": "3.9.2"
  }
 },
 "nbformat": 4,
 "nbformat_minor": 5
}
