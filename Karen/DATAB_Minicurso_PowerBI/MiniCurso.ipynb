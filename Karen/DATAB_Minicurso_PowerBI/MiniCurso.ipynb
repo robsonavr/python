{
 "cells": [
  {
   "cell_type": "markdown",
   "metadata": {},
   "source": [
    "# Minicurso de Power BI com Karine Lago\n",
    "\n",
    "https://ead.databinteligencia.com.br/"
   ]
  },
  {
   "cell_type": "code",
   "execution_count": 2,
   "metadata": {},
   "outputs": [],
   "source": [
    "#importando bibliotecas\n",
    "import pandas as pd"
   ]
  },
  {
   "cell_type": "code",
   "execution_count": 2,
   "metadata": {},
   "outputs": [],
   "source": [
    "#abrindo as bases de dados\n",
    "clientes = pd.read_excel('Dados/Clientes.xlsx')\n",
    "pedidos = pd.read_excel('Dados/Pedidos.xlsx')\n",
    "vendedores = pd.read_csv(r'Dados/Vendedores.txt', encoding='utf8', skiprows=4, sep='\\t')"
   ]
  },
  {
   "cell_type": "code",
   "execution_count": 3,
   "metadata": {},
   "outputs": [
    {
     "data": {
      "text/html": [
       "<div>\n",
       "<style scoped>\n",
       "    .dataframe tbody tr th:only-of-type {\n",
       "        vertical-align: middle;\n",
       "    }\n",
       "\n",
       "    .dataframe tbody tr th {\n",
       "        vertical-align: top;\n",
       "    }\n",
       "\n",
       "    .dataframe thead th {\n",
       "        text-align: right;\n",
       "    }\n",
       "</style>\n",
       "<table border=\"1\" class=\"dataframe\">\n",
       "  <thead>\n",
       "    <tr style=\"text-align: right;\">\n",
       "      <th></th>\n",
       "      <th>Cod Cliente</th>\n",
       "      <th>Cliente</th>\n",
       "      <th>UF</th>\n",
       "      <th>Cidade</th>\n",
       "      <th>Região</th>\n",
       "    </tr>\n",
       "  </thead>\n",
       "  <tbody>\n",
       "    <tr>\n",
       "      <th>1256</th>\n",
       "      <td>13182</td>\n",
       "      <td>Maria Ferreira Martins</td>\n",
       "      <td>BA</td>\n",
       "      <td>SALVADOR</td>\n",
       "      <td>NE</td>\n",
       "    </tr>\n",
       "    <tr>\n",
       "      <th>1268</th>\n",
       "      <td>13312</td>\n",
       "      <td>Julieta Barbosa Castro</td>\n",
       "      <td>MG</td>\n",
       "      <td>TIMOTEO</td>\n",
       "      <td>SU</td>\n",
       "    </tr>\n",
       "  </tbody>\n",
       "</table>\n",
       "</div>"
      ],
      "text/plain": [
       "      Cod Cliente                 Cliente   UF     Cidade Região\n",
       "1256        13182  Maria Ferreira Martins  BA   SALVADOR      NE\n",
       "1268        13312  Julieta Barbosa Castro  MG    TIMOTEO      SU"
      ]
     },
     "metadata": {},
     "output_type": "display_data"
    },
    {
     "data": {
      "text/html": [
       "<div>\n",
       "<style scoped>\n",
       "    .dataframe tbody tr th:only-of-type {\n",
       "        vertical-align: middle;\n",
       "    }\n",
       "\n",
       "    .dataframe tbody tr th {\n",
       "        vertical-align: top;\n",
       "    }\n",
       "\n",
       "    .dataframe thead th {\n",
       "        text-align: right;\n",
       "    }\n",
       "</style>\n",
       "<table border=\"1\" class=\"dataframe\">\n",
       "  <thead>\n",
       "    <tr style=\"text-align: right;\">\n",
       "      <th></th>\n",
       "      <th>Data</th>\n",
       "      <th>NF</th>\n",
       "      <th>Categoria Produto</th>\n",
       "      <th>Grupo Produto</th>\n",
       "      <th>Cliente</th>\n",
       "      <th>Vendedor</th>\n",
       "      <th>Quantidade</th>\n",
       "      <th>Valor Total</th>\n",
       "    </tr>\n",
       "  </thead>\n",
       "  <tbody>\n",
       "    <tr>\n",
       "      <th>3749</th>\n",
       "      <td>2019-11-19</td>\n",
       "      <td>29660</td>\n",
       "      <td>Camping e Pesca</td>\n",
       "      <td>Aventura</td>\n",
       "      <td>6602</td>\n",
       "      <td>80510</td>\n",
       "      <td>2.0</td>\n",
       "      <td>102.0</td>\n",
       "    </tr>\n",
       "    <tr>\n",
       "      <th>4282</th>\n",
       "      <td>2019-11-26</td>\n",
       "      <td>30267</td>\n",
       "      <td>Radicais</td>\n",
       "      <td>Aventura</td>\n",
       "      <td>9442</td>\n",
       "      <td>80511</td>\n",
       "      <td>1.0</td>\n",
       "      <td>151.7</td>\n",
       "    </tr>\n",
       "  </tbody>\n",
       "</table>\n",
       "</div>"
      ],
      "text/plain": [
       "           Data     NF Categoria Produto Grupo Produto  Cliente  Vendedor  \\\n",
       "3749 2019-11-19  29660   Camping e Pesca      Aventura     6602     80510   \n",
       "4282 2019-11-26  30267          Radicais      Aventura     9442     80511   \n",
       "\n",
       "      Quantidade  Valor Total  \n",
       "3749         2.0        102.0  \n",
       "4282         1.0        151.7  "
      ]
     },
     "metadata": {},
     "output_type": "display_data"
    },
    {
     "data": {
      "text/html": [
       "<div>\n",
       "<style scoped>\n",
       "    .dataframe tbody tr th:only-of-type {\n",
       "        vertical-align: middle;\n",
       "    }\n",
       "\n",
       "    .dataframe tbody tr th {\n",
       "        vertical-align: top;\n",
       "    }\n",
       "\n",
       "    .dataframe thead th {\n",
       "        text-align: right;\n",
       "    }\n",
       "</style>\n",
       "<table border=\"1\" class=\"dataframe\">\n",
       "  <thead>\n",
       "    <tr style=\"text-align: right;\">\n",
       "      <th></th>\n",
       "      <th>Cod Vendedor</th>\n",
       "      <th>Vendedor</th>\n",
       "    </tr>\n",
       "  </thead>\n",
       "  <tbody>\n",
       "    <tr>\n",
       "      <th>1</th>\n",
       "      <td>80502</td>\n",
       "      <td>Paulo Santos</td>\n",
       "    </tr>\n",
       "    <tr>\n",
       "      <th>9</th>\n",
       "      <td>80510</td>\n",
       "      <td>Mateus Oliveira</td>\n",
       "    </tr>\n",
       "  </tbody>\n",
       "</table>\n",
       "</div>"
      ],
      "text/plain": [
       "   Cod Vendedor         Vendedor\n",
       "1         80502     Paulo Santos\n",
       "9         80510  Mateus Oliveira"
      ]
     },
     "metadata": {},
     "output_type": "display_data"
    }
   ],
   "source": [
    "#pre-visualizando os dados\n",
    "data_raw = [clientes, pedidos, vendedores]\n",
    "\n",
    "for dataset in data_raw:\n",
    "    display(dataset.sample(2))"
   ]
  },
  {
   "cell_type": "code",
   "execution_count": 4,
   "metadata": {},
   "outputs": [
    {
     "name": "stdout",
     "output_type": "stream",
     "text": [
      "<class 'pandas.core.frame.DataFrame'>\n",
      "RangeIndex: 1777 entries, 0 to 1776\n",
      "Data columns (total 5 columns):\n",
      " #   Column       Non-Null Count  Dtype \n",
      "---  ------       --------------  ----- \n",
      " 0   Cod Cliente  1777 non-null   int64 \n",
      " 1   Cliente      1777 non-null   object\n",
      " 2   UF           1777 non-null   object\n",
      " 3   Cidade       1777 non-null   object\n",
      " 4   Região       1777 non-null   object\n",
      "dtypes: int64(1), object(4)\n",
      "memory usage: 69.5+ KB\n",
      "None\n",
      "<class 'pandas.core.frame.DataFrame'>\n",
      "RangeIndex: 80619 entries, 0 to 80618\n",
      "Data columns (total 8 columns):\n",
      " #   Column             Non-Null Count  Dtype         \n",
      "---  ------             --------------  -----         \n",
      " 0   Data               80619 non-null  datetime64[ns]\n",
      " 1   NF                 80619 non-null  int64         \n",
      " 2   Categoria Produto  80619 non-null  object        \n",
      " 3   Grupo Produto      80619 non-null  object        \n",
      " 4   Cliente            80619 non-null  int64         \n",
      " 5   Vendedor           80619 non-null  int64         \n",
      " 6   Quantidade         80595 non-null  float64       \n",
      " 7   Valor Total        80595 non-null  float64       \n",
      "dtypes: datetime64[ns](1), float64(2), int64(3), object(2)\n",
      "memory usage: 4.9+ MB\n",
      "None\n",
      "<class 'pandas.core.frame.DataFrame'>\n",
      "RangeIndex: 14 entries, 0 to 13\n",
      "Data columns (total 2 columns):\n",
      " #   Column        Non-Null Count  Dtype \n",
      "---  ------        --------------  ----- \n",
      " 0   Cod Vendedor  14 non-null     int64 \n",
      " 1   Vendedor      14 non-null     object\n",
      "dtypes: int64(1), object(1)\n",
      "memory usage: 352.0+ bytes\n",
      "None\n"
     ]
    }
   ],
   "source": [
    "#analise dadas colunas de dados\n",
    "for dataset in data_raw:\n",
    "    print(dataset.info())"
   ]
  },
  {
   "cell_type": "markdown",
   "metadata": {},
   "source": [
    "## Análise gráfica básica"
   ]
  },
  {
   "cell_type": "code",
   "execution_count": 5,
   "metadata": {},
   "outputs": [],
   "source": [
    "%matplotlib inline\n",
    "import matplotlib.pyplot as plt\n",
    "import seaborn as sns"
   ]
  },
  {
   "cell_type": "code",
   "execution_count": 6,
   "metadata": {},
   "outputs": [
    {
     "data": {
      "image/png": "[encoded data removed]",
      "text/plain": [
       "<Figure size 432x288 with 1 Axes>"
      ]
     },
     "metadata": {
      "needs_background": "light"
     },
     "output_type": "display_data"
    }
   ],
   "source": [
    "\n",
    "fig, ax = plt.subplots()\n",
    "pedidos.groupby(pedidos['Categoria Produto'])['Valor Total'].sum().plot.bar()\n",
    "plt.show()"
   ]
  },
  {
   "cell_type": "code",
   "execution_count": 7,
   "metadata": {},
   "outputs": [
    {
     "data": {
      "text/html": [
       "<style  type=\"text/css\" >\n",
       "</style><table id=\"T_6d21d_\" ><thead>    <tr>        <th class=\"blank level0\" ></th>        <th class=\"col_heading level0 col0\" >Quantidade</th>        <th class=\"col_heading level0 col1\" >Valor Total</th>    </tr>    <tr>        <th class=\"index_name level0\" >Categoria Produto</th>        <th class=\"blank\" ></th>        <th class=\"blank\" ></th>    </tr></thead><tbody>\n",
       "                <tr>\n",
       "                        <th id=\"T_6d21d_level0_row0\" class=\"row_heading level0 row0\" >Academia</th>\n",
       "                        <td id=\"T_6d21d_row0_col0\" class=\"data row0 col0\" >122,125</td>\n",
       "                        <td id=\"T_6d21d_row0_col1\" class=\"data row0 col1\" >R$ 7,890,128.61</td>\n",
       "            </tr>\n",
       "            <tr>\n",
       "                        <th id=\"T_6d21d_level0_row1\" class=\"row_heading level0 row1\" >Bicicleta</th>\n",
       "                        <td id=\"T_6d21d_row1_col0\" class=\"data row1 col0\" >3,780</td>\n",
       "                        <td id=\"T_6d21d_row1_col1\" class=\"data row1 col1\" >R$ 3,195,950.01</td>\n",
       "            </tr>\n",
       "            <tr>\n",
       "                        <th id=\"T_6d21d_level0_row2\" class=\"row_heading level0 row2\" >Camping e Pesca</th>\n",
       "                        <td id=\"T_6d21d_row2_col0\" class=\"data row2 col0\" >92,961</td>\n",
       "                        <td id=\"T_6d21d_row2_col1\" class=\"data row2 col1\" >R$ 4,303,323.94</td>\n",
       "            </tr>\n",
       "            <tr>\n",
       "                        <th id=\"T_6d21d_level0_row3\" class=\"row_heading level0 row3\" >Futebol</th>\n",
       "                        <td id=\"T_6d21d_row3_col0\" class=\"data row3 col0\" >34,063</td>\n",
       "                        <td id=\"T_6d21d_row3_col1\" class=\"data row3 col1\" >R$ 3,307,253.07</td>\n",
       "            </tr>\n",
       "            <tr>\n",
       "                        <th id=\"T_6d21d_level0_row4\" class=\"row_heading level0 row4\" >Radicais</th>\n",
       "                        <td id=\"T_6d21d_row4_col0\" class=\"data row4 col0\" >50,092</td>\n",
       "                        <td id=\"T_6d21d_row4_col1\" class=\"data row4 col1\" >R$ 6,046,818.16</td>\n",
       "            </tr>\n",
       "            <tr>\n",
       "                        <th id=\"T_6d21d_level0_row5\" class=\"row_heading level0 row5\" >Tênis</th>\n",
       "                        <td id=\"T_6d21d_row5_col0\" class=\"data row5 col0\" >37,670</td>\n",
       "                        <td id=\"T_6d21d_row5_col1\" class=\"data row5 col1\" >R$ 14,298,740.54</td>\n",
       "            </tr>\n",
       "    </tbody></table>"
      ],
      "text/plain": [
       "<pandas.io.formats.style.Styler at 0x7f76c2086fa0>"
      ]
     },
     "execution_count": 7,
     "metadata": {},
     "output_type": "execute_result"
    }
   ],
   "source": [
    "#Analise da Quantidade e Valor Total por categorias\n",
    "format_mapping = {'Quantidade': '{:,.0f}', 'Valor Total': 'R$ {:,.2f}'}\n",
    "rect = pedidos.groupby(pedidos['Categoria Produto'])[['Quantidade', 'Valor Total']].sum()\n",
    "rect.style.format(format_mapping)"
   ]
  },
  {
   "cell_type": "code",
   "execution_count": 8,
   "metadata": {},
   "outputs": [
    {
     "name": "stdout",
     "output_type": "stream",
     "text": [
      "Valor Total: R$ 39,042,214.33 reais\n"
     ]
    }
   ],
   "source": [
    "print(f'Valor Total: R$ {pedidos[\"Valor Total\"].sum():,.2f} reais')"
   ]
  },
  {
   "cell_type": "code",
   "execution_count": 9,
   "metadata": {},
   "outputs": [
    {
     "name": "stdout",
     "output_type": "stream",
     "text": [
      "Valor Médio Total: R$ 484.42 reais\n"
     ]
    }
   ],
   "source": [
    "print(f'Valor Médio Total: R$ {pedidos[\"Valor Total\"].mean():,.2f} reais')"
   ]
  },
  {
   "cell_type": "code",
   "execution_count": 10,
   "metadata": {},
   "outputs": [
    {
     "name": "stdout",
     "output_type": "stream",
     "text": [
      "Valor Máximo: R$ 75,000.00 reais\n"
     ]
    }
   ],
   "source": [
    "print(f'Valor Máximo: R$ {pedidos[\"Valor Total\"].max():,.2f} reais')"
   ]
  },
  {
   "cell_type": "code",
   "execution_count": 11,
   "metadata": {},
   "outputs": [
    {
     "name": "stdout",
     "output_type": "stream",
     "text": [
      "Quantidade Total: 340,691 unidades\n"
     ]
    }
   ],
   "source": [
    "print(f'Quantidade Total: {pedidos[\"Quantidade\"].sum():,.0f} unidades')"
   ]
  },
  {
   "cell_type": "code",
   "execution_count": 12,
   "metadata": {},
   "outputs": [
    {
     "name": "stdout",
     "output_type": "stream",
     "text": [
      "Quantidade total de clientes: 1,611 clientes\n"
     ]
    }
   ],
   "source": [
    "print(f'Quantidade total de clientes: {pedidos[\"Cliente\"].nunique():,.0f} clientes')"
   ]
  },
  {
   "cell_type": "code",
   "execution_count": 13,
   "metadata": {},
   "outputs": [
    {
     "data": {
      "text/plain": [
       "<AxesSubplot:xlabel='Data'>"
      ]
     },
     "execution_count": 13,
     "metadata": {},
     "output_type": "execute_result"
    },
    {
     "data": {
      "image/png": "[encoded data removed]",
      "text/plain": [
       "<Figure size 432x288 with 1 Axes>"
      ]
     },
     "metadata": {
      "needs_background": "light"
     },
     "output_type": "display_data"
    }
   ],
   "source": [
    "pedidos.groupby(pd.Grouper(key='Data', freq='M'))['Valor Total'].sum().plot.line()"
   ]
  },
  {
   "cell_type": "markdown",
   "metadata": {},
   "source": [
    "## Relacionamento de tabelas"
   ]
  },
  {
   "cell_type": "code",
   "execution_count": 14,
   "metadata": {},
   "outputs": [
    {
     "name": "stderr",
     "output_type": "stream",
     "text": [
      "<ipython-input-14-3f35ac4c5365>:3: FutureWarning: Indexing with multiple keys (implicitly converted to a tuple of keys) will be deprecated, use a list instead.\n",
      "  dataset = dataset.groupby('Vendedor')['Quantidade', 'Valor Total'].sum()\n"
     ]
    },
    {
     "data": {
      "text/html": [
       "<style  type=\"text/css\" >\n",
       "</style><table id=\"T_ed443_\" ><thead>    <tr>        <th class=\"blank level0\" ></th>        <th class=\"col_heading level0 col0\" >Quantidade</th>        <th class=\"col_heading level0 col1\" >Valor Total</th>    </tr>    <tr>        <th class=\"index_name level0\" >Vendedor</th>        <th class=\"blank\" ></th>        <th class=\"blank\" ></th>    </tr></thead><tbody>\n",
       "                <tr>\n",
       "                        <th id=\"T_ed443_level0_row0\" class=\"row_heading level0 row0\" >Ana Vilela</th>\n",
       "                        <td id=\"T_ed443_row0_col0\" class=\"data row0 col0\" >11,116</td>\n",
       "                        <td id=\"T_ed443_row0_col1\" class=\"data row0 col1\" >R$ 4,007,574.93</td>\n",
       "            </tr>\n",
       "            <tr>\n",
       "                        <th id=\"T_ed443_level0_row1\" class=\"row_heading level0 row1\" >Breno Azevedo</th>\n",
       "                        <td id=\"T_ed443_row1_col0\" class=\"data row1 col0\" >21,679</td>\n",
       "                        <td id=\"T_ed443_row1_col1\" class=\"data row1 col1\" >R$ 1,659,997.03</td>\n",
       "            </tr>\n",
       "            <tr>\n",
       "                        <th id=\"T_ed443_level0_row2\" class=\"row_heading level0 row2\" >Carlos Silva</th>\n",
       "                        <td id=\"T_ed443_row2_col0\" class=\"data row2 col0\" >16,314</td>\n",
       "                        <td id=\"T_ed443_row2_col1\" class=\"data row2 col1\" >R$ 1,920,110.56</td>\n",
       "            </tr>\n",
       "            <tr>\n",
       "                        <th id=\"T_ed443_level0_row3\" class=\"row_heading level0 row3\" >Clara Oliveira</th>\n",
       "                        <td id=\"T_ed443_row3_col0\" class=\"data row3 col0\" >22,533</td>\n",
       "                        <td id=\"T_ed443_row3_col1\" class=\"data row3 col1\" >R$ 2,382,948.46</td>\n",
       "            </tr>\n",
       "            <tr>\n",
       "                        <th id=\"T_ed443_level0_row4\" class=\"row_heading level0 row4\" >Daniel Gomes</th>\n",
       "                        <td id=\"T_ed443_row4_col0\" class=\"data row4 col0\" >19,978</td>\n",
       "                        <td id=\"T_ed443_row4_col1\" class=\"data row4 col1\" >R$ 2,122,921.41</td>\n",
       "            </tr>\n",
       "            <tr>\n",
       "                        <th id=\"T_ed443_level0_row5\" class=\"row_heading level0 row5\" >Douglas Domingues</th>\n",
       "                        <td id=\"T_ed443_row5_col0\" class=\"data row5 col0\" >27,143</td>\n",
       "                        <td id=\"T_ed443_row5_col1\" class=\"data row5 col1\" >R$ 3,299,849.16</td>\n",
       "            </tr>\n",
       "            <tr>\n",
       "                        <th id=\"T_ed443_level0_row6\" class=\"row_heading level0 row6\" >João Cavalcanti</th>\n",
       "                        <td id=\"T_ed443_row6_col0\" class=\"data row6 col0\" >15,477</td>\n",
       "                        <td id=\"T_ed443_row6_col1\" class=\"data row6 col1\" >R$ 2,042,149.01</td>\n",
       "            </tr>\n",
       "            <tr>\n",
       "                        <th id=\"T_ed443_level0_row7\" class=\"row_heading level0 row7\" >Julia Santos</th>\n",
       "                        <td id=\"T_ed443_row7_col0\" class=\"data row7 col0\" >37,901</td>\n",
       "                        <td id=\"T_ed443_row7_col1\" class=\"data row7 col1\" >R$ 4,920,259.59</td>\n",
       "            </tr>\n",
       "            <tr>\n",
       "                        <th id=\"T_ed443_level0_row8\" class=\"row_heading level0 row8\" >Marcelo Souza</th>\n",
       "                        <td id=\"T_ed443_row8_col0\" class=\"data row8 col0\" >13,295</td>\n",
       "                        <td id=\"T_ed443_row8_col1\" class=\"data row8 col1\" >R$ 3,088,053.67</td>\n",
       "            </tr>\n",
       "            <tr>\n",
       "                        <th id=\"T_ed443_level0_row9\" class=\"row_heading level0 row9\" >Mateus Oliveira</th>\n",
       "                        <td id=\"T_ed443_row9_col0\" class=\"data row9 col0\" >29,354</td>\n",
       "                        <td id=\"T_ed443_row9_col1\" class=\"data row9 col1\" >R$ 2,215,627.10</td>\n",
       "            </tr>\n",
       "            <tr>\n",
       "                        <th id=\"T_ed443_level0_row10\" class=\"row_heading level0 row10\" >Paulo Santos</th>\n",
       "                        <td id=\"T_ed443_row10_col0\" class=\"data row10 col0\" >35,169</td>\n",
       "                        <td id=\"T_ed443_row10_col1\" class=\"data row10 col1\" >R$ 3,714,146.22</td>\n",
       "            </tr>\n",
       "            <tr>\n",
       "                        <th id=\"T_ed443_level0_row11\" class=\"row_heading level0 row11\" >Rodrigo Gomes</th>\n",
       "                        <td id=\"T_ed443_row11_col0\" class=\"data row11 col0\" >58,196</td>\n",
       "                        <td id=\"T_ed443_row11_col1\" class=\"data row11 col1\" >R$ 4,212,146.20</td>\n",
       "            </tr>\n",
       "            <tr>\n",
       "                        <th id=\"T_ed443_level0_row12\" class=\"row_heading level0 row12\" >Tiago César</th>\n",
       "                        <td id=\"T_ed443_row12_col0\" class=\"data row12 col0\" >32,536</td>\n",
       "                        <td id=\"T_ed443_row12_col1\" class=\"data row12 col1\" >R$ 3,456,430.99</td>\n",
       "            </tr>\n",
       "    </tbody></table>"
      ],
      "text/plain": [
       "<pandas.io.formats.style.Styler at 0x7f76dbd3d430>"
      ]
     },
     "execution_count": 14,
     "metadata": {},
     "output_type": "execute_result"
    }
   ],
   "source": [
    "#Quantidade de vendas por vendedor\n",
    "dataset = pedidos.set_index('Vendedor').join(vendedores.set_index('Cod Vendedor'), how='left')\n",
    "dataset = dataset.groupby('Vendedor')['Quantidade', 'Valor Total'].sum()\n",
    "dataset.style.format(format_mapping)"
   ]
  },
  {
   "cell_type": "code",
   "execution_count": 15,
   "metadata": {},
   "outputs": [
    {
     "name": "stdout",
     "output_type": "stream",
     "text": [
      "Vendedor     Categoria Produto\n",
      "Ana Vilela   Academia             1002.0\n",
      "             Bicicleta             732.0\n",
      "             Camping e Pesca       476.0\n",
      "             Futebol               139.0\n",
      "             Radicais              149.0\n",
      "                                   ...  \n",
      "Tiago César  Bicicleta              22.0\n",
      "             Camping e Pesca      4859.0\n",
      "             Futebol              2673.0\n",
      "             Radicais             8884.0\n",
      "             Tênis                4027.0\n",
      "Name: Quantidade, Length: 78, dtype: float64\n"
     ]
    }
   ],
   "source": [
    "#Quantidade de vendas por vendedor por categoria\n",
    "dataset = pedidos.set_index('Vendedor').join(vendedores.set_index('Cod Vendedor'), how='left')\n",
    "print(dataset.groupby(['Vendedor', 'Categoria Produto'])['Quantidade'].sum())"
   ]
  },
  {
   "cell_type": "code",
   "execution_count": 16,
   "metadata": {},
   "outputs": [
    {
     "data": {
      "text/plain": [
       "Vendedor     Categoria Produto\n",
       "Ana Vilela   Academia             1002.0\n",
       "             Bicicleta             732.0\n",
       "             Camping e Pesca       476.0\n",
       "             Futebol               139.0\n",
       "             Radicais              149.0\n",
       "                                   ...  \n",
       "Tiago César  Bicicleta              22.0\n",
       "             Camping e Pesca      4859.0\n",
       "             Futebol              2673.0\n",
       "             Radicais             8884.0\n",
       "             Tênis                4027.0\n",
       "Name: Quantidade, Length: 78, dtype: float64"
      ]
     },
     "execution_count": 16,
     "metadata": {},
     "output_type": "execute_result"
    }
   ],
   "source": [
    "dataset.groupby(['Vendedor', 'Categoria Produto'])['Quantidade'].sum()"
   ]
  },
  {
   "cell_type": "code",
   "execution_count": 17,
   "metadata": {},
   "outputs": [
    {
     "data": {
      "text/html": [
       "<div>\n",
       "<style scoped>\n",
       "    .dataframe tbody tr th:only-of-type {\n",
       "        vertical-align: middle;\n",
       "    }\n",
       "\n",
       "    .dataframe tbody tr th {\n",
       "        vertical-align: top;\n",
       "    }\n",
       "\n",
       "    .dataframe thead tr th {\n",
       "        text-align: left;\n",
       "    }\n",
       "\n",
       "    .dataframe thead tr:last-of-type th {\n",
       "        text-align: right;\n",
       "    }\n",
       "</style>\n",
       "<table border=\"1\" class=\"dataframe\">\n",
       "  <thead>\n",
       "    <tr>\n",
       "      <th></th>\n",
       "      <th colspan=\"6\" halign=\"left\">Quantidade</th>\n",
       "    </tr>\n",
       "    <tr>\n",
       "      <th>Categoria Produto</th>\n",
       "      <th>Academia</th>\n",
       "      <th>Bicicleta</th>\n",
       "      <th>Camping e Pesca</th>\n",
       "      <th>Futebol</th>\n",
       "      <th>Radicais</th>\n",
       "      <th>Tênis</th>\n",
       "    </tr>\n",
       "    <tr>\n",
       "      <th>Vendedor</th>\n",
       "      <th></th>\n",
       "      <th></th>\n",
       "      <th></th>\n",
       "      <th></th>\n",
       "      <th></th>\n",
       "      <th></th>\n",
       "    </tr>\n",
       "  </thead>\n",
       "  <tbody>\n",
       "    <tr>\n",
       "      <th>Ana Vilela</th>\n",
       "      <td>1002.0</td>\n",
       "      <td>732.0</td>\n",
       "      <td>476.0</td>\n",
       "      <td>139.0</td>\n",
       "      <td>149.0</td>\n",
       "      <td>8618.0</td>\n",
       "    </tr>\n",
       "    <tr>\n",
       "      <th>Breno Azevedo</th>\n",
       "      <td>3600.0</td>\n",
       "      <td>88.0</td>\n",
       "      <td>5646.0</td>\n",
       "      <td>7181.0</td>\n",
       "      <td>4174.0</td>\n",
       "      <td>990.0</td>\n",
       "    </tr>\n",
       "    <tr>\n",
       "      <th>Carlos Silva</th>\n",
       "      <td>5860.0</td>\n",
       "      <td>15.0</td>\n",
       "      <td>1929.0</td>\n",
       "      <td>1515.0</td>\n",
       "      <td>5219.0</td>\n",
       "      <td>1776.0</td>\n",
       "    </tr>\n",
       "    <tr>\n",
       "      <th>Clara Oliveira</th>\n",
       "      <td>9782.0</td>\n",
       "      <td>564.0</td>\n",
       "      <td>4183.0</td>\n",
       "      <td>3149.0</td>\n",
       "      <td>3814.0</td>\n",
       "      <td>1041.0</td>\n",
       "    </tr>\n",
       "    <tr>\n",
       "      <th>Daniel Gomes</th>\n",
       "      <td>9450.0</td>\n",
       "      <td>595.0</td>\n",
       "      <td>5691.0</td>\n",
       "      <td>982.0</td>\n",
       "      <td>2382.0</td>\n",
       "      <td>878.0</td>\n",
       "    </tr>\n",
       "    <tr>\n",
       "      <th>Douglas Domingues</th>\n",
       "      <td>19409.0</td>\n",
       "      <td>328.0</td>\n",
       "      <td>1890.0</td>\n",
       "      <td>757.0</td>\n",
       "      <td>123.0</td>\n",
       "      <td>4636.0</td>\n",
       "    </tr>\n",
       "    <tr>\n",
       "      <th>João Cavalcanti</th>\n",
       "      <td>6432.0</td>\n",
       "      <td>114.0</td>\n",
       "      <td>3484.0</td>\n",
       "      <td>2152.0</td>\n",
       "      <td>1455.0</td>\n",
       "      <td>1840.0</td>\n",
       "    </tr>\n",
       "    <tr>\n",
       "      <th>Julia Santos</th>\n",
       "      <td>11737.0</td>\n",
       "      <td>248.0</td>\n",
       "      <td>12676.0</td>\n",
       "      <td>3825.0</td>\n",
       "      <td>5966.0</td>\n",
       "      <td>3449.0</td>\n",
       "    </tr>\n",
       "    <tr>\n",
       "      <th>Marcelo Souza</th>\n",
       "      <td>4846.0</td>\n",
       "      <td>923.0</td>\n",
       "      <td>891.0</td>\n",
       "      <td>1475.0</td>\n",
       "      <td>1140.0</td>\n",
       "      <td>4020.0</td>\n",
       "    </tr>\n",
       "    <tr>\n",
       "      <th>Mateus Oliveira</th>\n",
       "      <td>22641.0</td>\n",
       "      <td>8.0</td>\n",
       "      <td>3355.0</td>\n",
       "      <td>747.0</td>\n",
       "      <td>823.0</td>\n",
       "      <td>1780.0</td>\n",
       "    </tr>\n",
       "    <tr>\n",
       "      <th>Paulo Santos</th>\n",
       "      <td>7974.0</td>\n",
       "      <td>93.0</td>\n",
       "      <td>10802.0</td>\n",
       "      <td>3058.0</td>\n",
       "      <td>11331.0</td>\n",
       "      <td>1911.0</td>\n",
       "    </tr>\n",
       "    <tr>\n",
       "      <th>Rodrigo Gomes</th>\n",
       "      <td>7321.0</td>\n",
       "      <td>50.0</td>\n",
       "      <td>37079.0</td>\n",
       "      <td>6410.0</td>\n",
       "      <td>4632.0</td>\n",
       "      <td>2704.0</td>\n",
       "    </tr>\n",
       "    <tr>\n",
       "      <th>Tiago César</th>\n",
       "      <td>12071.0</td>\n",
       "      <td>22.0</td>\n",
       "      <td>4859.0</td>\n",
       "      <td>2673.0</td>\n",
       "      <td>8884.0</td>\n",
       "      <td>4027.0</td>\n",
       "    </tr>\n",
       "  </tbody>\n",
       "</table>\n",
       "</div>"
      ],
      "text/plain": [
       "                  Quantidade                                             \\\n",
       "Categoria Produto   Academia Bicicleta Camping e Pesca Futebol Radicais   \n",
       "Vendedor                                                                  \n",
       "Ana Vilela            1002.0     732.0           476.0   139.0    149.0   \n",
       "Breno Azevedo         3600.0      88.0          5646.0  7181.0   4174.0   \n",
       "Carlos Silva          5860.0      15.0          1929.0  1515.0   5219.0   \n",
       "Clara Oliveira        9782.0     564.0          4183.0  3149.0   3814.0   \n",
       "Daniel Gomes          9450.0     595.0          5691.0   982.0   2382.0   \n",
       "Douglas Domingues    19409.0     328.0          1890.0   757.0    123.0   \n",
       "João Cavalcanti       6432.0     114.0          3484.0  2152.0   1455.0   \n",
       "Julia Santos         11737.0     248.0         12676.0  3825.0   5966.0   \n",
       "Marcelo Souza         4846.0     923.0           891.0  1475.0   1140.0   \n",
       "Mateus Oliveira      22641.0       8.0          3355.0   747.0    823.0   \n",
       "Paulo Santos          7974.0      93.0         10802.0  3058.0  11331.0   \n",
       "Rodrigo Gomes         7321.0      50.0         37079.0  6410.0   4632.0   \n",
       "Tiago César          12071.0      22.0          4859.0  2673.0   8884.0   \n",
       "\n",
       "                           \n",
       "Categoria Produto   Tênis  \n",
       "Vendedor                   \n",
       "Ana Vilela         8618.0  \n",
       "Breno Azevedo       990.0  \n",
       "Carlos Silva       1776.0  \n",
       "Clara Oliveira     1041.0  \n",
       "Daniel Gomes        878.0  \n",
       "Douglas Domingues  4636.0  \n",
       "João Cavalcanti    1840.0  \n",
       "Julia Santos       3449.0  \n",
       "Marcelo Souza      4020.0  \n",
       "Mateus Oliveira    1780.0  \n",
       "Paulo Santos       1911.0  \n",
       "Rodrigo Gomes      2704.0  \n",
       "Tiago César        4027.0  "
      ]
     },
     "execution_count": 17,
     "metadata": {},
     "output_type": "execute_result"
    }
   ],
   "source": [
    "dataset.groupby(['Vendedor', 'Categoria Produto'],as_index = False)['Quantidade'].sum().pivot('Vendedor', 'Categoria Produto')"
   ]
  },
  {
   "cell_type": "code",
   "execution_count": 3,
   "metadata": {},
   "outputs": [
    {
     "name": "stderr",
     "output_type": "stream",
     "text": [
      "'head' is not recognized as an internal or external command,\n",
      "operable program or batch file.\n"
     ]
    }
   ],
   "source": [
    "!head data/Clientes.xlsx"
   ]
  },
  {
   "cell_type": "code",
   "execution_count": null,
   "metadata": {},
   "outputs": [],
   "source": []
  }
 ],
 "metadata": {
  "kernelspec": {
   "display_name": "Python 3",
   "language": "python",
   "name": "python3"
  },
  "language_info": {
   "codemirror_mode": {
    "name": "ipython",
    "version": 3
   },
   "file_extension": ".py",
   "mimetype": "text/x-python",
   "name": "python",
   "nbconvert_exporter": "python",
   "pygments_lexer": "ipython3",
   "version": "3.9.2"
  }
 },
 "nbformat": 4,
 "nbformat_minor": 4
}
