{
 "cells": [
  {
   "cell_type": "markdown",
   "id": "01735ddd",
   "metadata": {},
   "source": [
    "# MasterLive Mestre Power BI Dashboard do ZERO para Varejo com Análises Avançadas\n",
    "\n",
    "https://www.youtube.com/watch?v=DeGpb8CwOwI"
   ]
  },
  {
   "cell_type": "code",
   "execution_count": 1,
   "id": "49dead12",
   "metadata": {},
   "outputs": [],
   "source": [
    "import pandas as pd"
   ]
  },
  {
   "cell_type": "code",
   "execution_count": 2,
   "id": "dd1f7c59",
   "metadata": {},
   "outputs": [
    {
     "data": {
      "text/html": [
       "<div>\n",
       "<style scoped>\n",
       "    .dataframe tbody tr th:only-of-type {\n",
       "        vertical-align: middle;\n",
       "    }\n",
       "\n",
       "    .dataframe tbody tr th {\n",
       "        vertical-align: top;\n",
       "    }\n",
       "\n",
       "    .dataframe thead th {\n",
       "        text-align: right;\n",
       "    }\n",
       "</style>\n",
       "<table border=\"1\" class=\"dataframe\">\n",
       "  <thead>\n",
       "    <tr style=\"text-align: right;\">\n",
       "      <th></th>\n",
       "      <th>Data</th>\n",
       "      <th>ProdutoID</th>\n",
       "      <th>CategoriaID</th>\n",
       "      <th>Quantidade</th>\n",
       "      <th>Desconto</th>\n",
       "      <th>Status</th>\n",
       "      <th>Loja</th>\n",
       "      <th>SexoCliente</th>\n",
       "      <th>IdadeCliente</th>\n",
       "    </tr>\n",
       "  </thead>\n",
       "  <tbody>\n",
       "    <tr>\n",
       "      <th>36019</th>\n",
       "      <td>2019-10-15</td>\n",
       "      <td>79</td>\n",
       "      <td>2</td>\n",
       "      <td>1</td>\n",
       "      <td>0.0</td>\n",
       "      <td>Returned</td>\n",
       "      <td>2/Rio de Janeiro/RJ</td>\n",
       "      <td>Homem</td>\n",
       "      <td>40</td>\n",
       "    </tr>\n",
       "    <tr>\n",
       "      <th>24736</th>\n",
       "      <td>2019-03-14</td>\n",
       "      <td>58</td>\n",
       "      <td>3</td>\n",
       "      <td>1</td>\n",
       "      <td>0.0</td>\n",
       "      <td>Sold</td>\n",
       "      <td>1/Florianópolis/SC</td>\n",
       "      <td>Homem</td>\n",
       "      <td>36</td>\n",
       "    </tr>\n",
       "    <tr>\n",
       "      <th>30951</th>\n",
       "      <td>2019-07-11</td>\n",
       "      <td>25</td>\n",
       "      <td>1</td>\n",
       "      <td>1</td>\n",
       "      <td>0.0</td>\n",
       "      <td>Sold</td>\n",
       "      <td>3/Porto Alegre/RS</td>\n",
       "      <td>Homem</td>\n",
       "      <td>24</td>\n",
       "    </tr>\n",
       "    <tr>\n",
       "      <th>23353</th>\n",
       "      <td>2019-02-16</td>\n",
       "      <td>26</td>\n",
       "      <td>1</td>\n",
       "      <td>1</td>\n",
       "      <td>0.1</td>\n",
       "      <td>Sold</td>\n",
       "      <td>1/Florianópolis/SC</td>\n",
       "      <td>Homem</td>\n",
       "      <td>37</td>\n",
       "    </tr>\n",
       "    <tr>\n",
       "      <th>39187</th>\n",
       "      <td>2019-12-18</td>\n",
       "      <td>88</td>\n",
       "      <td>2</td>\n",
       "      <td>1</td>\n",
       "      <td>0.0</td>\n",
       "      <td>Sold</td>\n",
       "      <td>1/Florianópolis/SC</td>\n",
       "      <td>Homem</td>\n",
       "      <td>38</td>\n",
       "    </tr>\n",
       "  </tbody>\n",
       "</table>\n",
       "</div>"
      ],
      "text/plain": [
       "            Data  ProdutoID  CategoriaID  Quantidade  Desconto    Status  \\\n",
       "36019 2019-10-15         79            2           1       0.0  Returned   \n",
       "24736 2019-03-14         58            3           1       0.0      Sold   \n",
       "30951 2019-07-11         25            1           1       0.0      Sold   \n",
       "23353 2019-02-16         26            1           1       0.1      Sold   \n",
       "39187 2019-12-18         88            2           1       0.0      Sold   \n",
       "\n",
       "                      Loja SexoCliente  IdadeCliente  \n",
       "36019  2/Rio de Janeiro/RJ       Homem            40  \n",
       "24736   1/Florianópolis/SC       Homem            36  \n",
       "30951    3/Porto Alegre/RS       Homem            24  \n",
       "23353   1/Florianópolis/SC       Homem            37  \n",
       "39187   1/Florianópolis/SC       Homem            38  "
      ]
     },
     "execution_count": 2,
     "metadata": {},
     "output_type": "execute_result"
    }
   ],
   "source": [
    "#Tabela de vendas\n",
    "df_vendas = pd.read_excel('BaseDados.xlsx', sheet_name='Vendas', skiprows=2)\n",
    "df_vendas.sample(5)"
   ]
  },
  {
   "cell_type": "code",
   "execution_count": 3,
   "id": "7e1acc70",
   "metadata": {},
   "outputs": [],
   "source": [
    "#extrair dataframe de loja\n",
    "df_loja = df_vendas['Loja'].str.split('/', expand=True).drop_duplicates().reset_index(drop=True)"
   ]
  },
  {
   "cell_type": "code",
   "execution_count": 4,
   "id": "932cb71d",
   "metadata": {},
   "outputs": [
    {
     "data": {
      "text/html": [
       "<div>\n",
       "<style scoped>\n",
       "    .dataframe tbody tr th:only-of-type {\n",
       "        vertical-align: middle;\n",
       "    }\n",
       "\n",
       "    .dataframe tbody tr th {\n",
       "        vertical-align: top;\n",
       "    }\n",
       "\n",
       "    .dataframe thead th {\n",
       "        text-align: right;\n",
       "    }\n",
       "</style>\n",
       "<table border=\"1\" class=\"dataframe\">\n",
       "  <thead>\n",
       "    <tr style=\"text-align: right;\">\n",
       "      <th></th>\n",
       "      <th>LojaID</th>\n",
       "      <th>Cidade</th>\n",
       "      <th>Estado</th>\n",
       "    </tr>\n",
       "  </thead>\n",
       "  <tbody>\n",
       "    <tr>\n",
       "      <th>0</th>\n",
       "      <td>3</td>\n",
       "      <td>Porto Alegre</td>\n",
       "      <td>RS</td>\n",
       "    </tr>\n",
       "    <tr>\n",
       "      <th>1</th>\n",
       "      <td>5</td>\n",
       "      <td>Recife</td>\n",
       "      <td>PE</td>\n",
       "    </tr>\n",
       "    <tr>\n",
       "      <th>2</th>\n",
       "      <td>7</td>\n",
       "      <td>São Paulo</td>\n",
       "      <td>SP</td>\n",
       "    </tr>\n",
       "    <tr>\n",
       "      <th>3</th>\n",
       "      <td>4</td>\n",
       "      <td>Curitiba</td>\n",
       "      <td>PR</td>\n",
       "    </tr>\n",
       "    <tr>\n",
       "      <th>4</th>\n",
       "      <td>1</td>\n",
       "      <td>Florianópolis</td>\n",
       "      <td>SC</td>\n",
       "    </tr>\n",
       "    <tr>\n",
       "      <th>5</th>\n",
       "      <td>2</td>\n",
       "      <td>Rio de Janeiro</td>\n",
       "      <td>RJ</td>\n",
       "    </tr>\n",
       "    <tr>\n",
       "      <th>6</th>\n",
       "      <td>6</td>\n",
       "      <td>Fortaleza</td>\n",
       "      <td>CE</td>\n",
       "    </tr>\n",
       "    <tr>\n",
       "      <th>7</th>\n",
       "      <td>9</td>\n",
       "      <td>Belo Horizonte</td>\n",
       "      <td>BH</td>\n",
       "    </tr>\n",
       "    <tr>\n",
       "      <th>8</th>\n",
       "      <td>22</td>\n",
       "      <td>Online</td>\n",
       "      <td>na</td>\n",
       "    </tr>\n",
       "  </tbody>\n",
       "</table>\n",
       "</div>"
      ],
      "text/plain": [
       "  LojaID          Cidade Estado\n",
       "0      3    Porto Alegre     RS\n",
       "1      5          Recife     PE\n",
       "2      7       São Paulo     SP\n",
       "3      4        Curitiba     PR\n",
       "4      1   Florianópolis     SC\n",
       "5      2  Rio de Janeiro     RJ\n",
       "6      6       Fortaleza     CE\n",
       "7      9  Belo Horizonte     BH\n",
       "8     22          Online     na"
      ]
     },
     "execution_count": 4,
     "metadata": {},
     "output_type": "execute_result"
    }
   ],
   "source": [
    "df_loja.rename(columns={0: 'LojaID', 1:'Cidade', 2:'Estado'})"
   ]
  },
  {
   "cell_type": "code",
   "execution_count": 5,
   "id": "be10f363",
   "metadata": {},
   "outputs": [],
   "source": [
    "df_vendas['Loja'] = df_vendas['Loja'].apply(lambda x: x.split('/')[0])"
   ]
  },
  {
   "cell_type": "code",
   "execution_count": 6,
   "id": "8b585ce9",
   "metadata": {},
   "outputs": [
    {
     "data": {
      "text/html": [
       "<div>\n",
       "<style scoped>\n",
       "    .dataframe tbody tr th:only-of-type {\n",
       "        vertical-align: middle;\n",
       "    }\n",
       "\n",
       "    .dataframe tbody tr th {\n",
       "        vertical-align: top;\n",
       "    }\n",
       "\n",
       "    .dataframe thead th {\n",
       "        text-align: right;\n",
       "    }\n",
       "</style>\n",
       "<table border=\"1\" class=\"dataframe\">\n",
       "  <thead>\n",
       "    <tr style=\"text-align: right;\">\n",
       "      <th></th>\n",
       "      <th>Data</th>\n",
       "      <th>ProdutoID</th>\n",
       "      <th>CategoriaID</th>\n",
       "      <th>Quantidade</th>\n",
       "      <th>Desconto</th>\n",
       "      <th>Status</th>\n",
       "      <th>Loja</th>\n",
       "      <th>SexoCliente</th>\n",
       "      <th>IdadeCliente</th>\n",
       "    </tr>\n",
       "  </thead>\n",
       "  <tbody>\n",
       "    <tr>\n",
       "      <th>0</th>\n",
       "      <td>2018-03-01</td>\n",
       "      <td>68</td>\n",
       "      <td>2</td>\n",
       "      <td>1</td>\n",
       "      <td>0.00</td>\n",
       "      <td>Sold</td>\n",
       "      <td>3</td>\n",
       "      <td>Homem</td>\n",
       "      <td>37</td>\n",
       "    </tr>\n",
       "    <tr>\n",
       "      <th>1</th>\n",
       "      <td>2018-03-01</td>\n",
       "      <td>24</td>\n",
       "      <td>1</td>\n",
       "      <td>1</td>\n",
       "      <td>0.00</td>\n",
       "      <td>Returned</td>\n",
       "      <td>5</td>\n",
       "      <td>Homem</td>\n",
       "      <td>62</td>\n",
       "    </tr>\n",
       "    <tr>\n",
       "      <th>2</th>\n",
       "      <td>2018-03-01</td>\n",
       "      <td>30</td>\n",
       "      <td>1</td>\n",
       "      <td>1</td>\n",
       "      <td>0.00</td>\n",
       "      <td>Sold</td>\n",
       "      <td>7</td>\n",
       "      <td>Homem</td>\n",
       "      <td>41</td>\n",
       "    </tr>\n",
       "    <tr>\n",
       "      <th>3</th>\n",
       "      <td>2018-03-01</td>\n",
       "      <td>32</td>\n",
       "      <td>1</td>\n",
       "      <td>1</td>\n",
       "      <td>0.00</td>\n",
       "      <td>Sold</td>\n",
       "      <td>4</td>\n",
       "      <td>Homem</td>\n",
       "      <td>23</td>\n",
       "    </tr>\n",
       "    <tr>\n",
       "      <th>4</th>\n",
       "      <td>2018-03-01</td>\n",
       "      <td>22</td>\n",
       "      <td>1</td>\n",
       "      <td>1</td>\n",
       "      <td>0.05</td>\n",
       "      <td>Sold</td>\n",
       "      <td>3</td>\n",
       "      <td>Homem</td>\n",
       "      <td>46</td>\n",
       "    </tr>\n",
       "  </tbody>\n",
       "</table>\n",
       "</div>"
      ],
      "text/plain": [
       "        Data  ProdutoID  CategoriaID  Quantidade  Desconto    Status Loja  \\\n",
       "0 2018-03-01         68            2           1      0.00      Sold    3   \n",
       "1 2018-03-01         24            1           1      0.00  Returned    5   \n",
       "2 2018-03-01         30            1           1      0.00      Sold    7   \n",
       "3 2018-03-01         32            1           1      0.00      Sold    4   \n",
       "4 2018-03-01         22            1           1      0.05      Sold    3   \n",
       "\n",
       "  SexoCliente  IdadeCliente  \n",
       "0       Homem            37  \n",
       "1       Homem            62  \n",
       "2       Homem            41  \n",
       "3       Homem            23  \n",
       "4       Homem            46  "
      ]
     },
     "execution_count": 6,
     "metadata": {},
     "output_type": "execute_result"
    }
   ],
   "source": [
    "df_vendas.head()"
   ]
  },
  {
   "cell_type": "code",
   "execution_count": 7,
   "id": "83ade831",
   "metadata": {},
   "outputs": [
    {
     "name": "stdout",
     "output_type": "stream",
     "text": [
      "<class 'pandas.core.frame.DataFrame'>\n",
      "RangeIndex: 41142 entries, 0 to 41141\n",
      "Data columns (total 9 columns):\n",
      " #   Column        Non-Null Count  Dtype         \n",
      "---  ------        --------------  -----         \n",
      " 0   Data          41142 non-null  datetime64[ns]\n",
      " 1   ProdutoID     41142 non-null  int64         \n",
      " 2   CategoriaID   41142 non-null  int64         \n",
      " 3   Quantidade    41142 non-null  int64         \n",
      " 4   Desconto      41142 non-null  float64       \n",
      " 5   Status        41142 non-null  object        \n",
      " 6   Loja          41142 non-null  object        \n",
      " 7   SexoCliente   41142 non-null  object        \n",
      " 8   IdadeCliente  41142 non-null  int64         \n",
      "dtypes: datetime64[ns](1), float64(1), int64(4), object(3)\n",
      "memory usage: 2.8+ MB\n"
     ]
    }
   ],
   "source": [
    "#analise de numero de linhas, linhas em branco e tipo de dados\n",
    "df_vendas[['ProdutoID', 'CategoriaID']] = df_vendas[['ProdutoID', 'CategoriaID']].astype('int64')\n",
    "df_vendas.info()"
   ]
  },
  {
   "cell_type": "code",
   "execution_count": 8,
   "id": "1cc994d3",
   "metadata": {},
   "outputs": [],
   "source": [
    "#Tabelas de produtos\n",
    "df1 = pd.read_excel('BaseDados.xlsx', sheet_name='Produtos', skiprows=2, usecols='A:F').dropna()\n",
    "df2 = pd.read_excel('BaseDados.xlsx', sheet_name='Produtos', skiprows=3, usecols='H:M', header=None, names=['ProdutoID','Produto','CategoriaID','Categoria','Tamanho','VlUnitario']).dropna()\n",
    "df3 = pd.read_excel('BaseDados.xlsx', sheet_name='Produtos', skiprows=3, usecols='O:T', header=None, names=['ProdutoID','Produto','CategoriaID','Categoria','Tamanho','VlUnitario']).dropna()"
   ]
  },
  {
   "cell_type": "code",
   "execution_count": 9,
   "id": "f4f467bd",
   "metadata": {},
   "outputs": [
    {
     "data": {
      "text/html": [
       "<div>\n",
       "<style scoped>\n",
       "    .dataframe tbody tr th:only-of-type {\n",
       "        vertical-align: middle;\n",
       "    }\n",
       "\n",
       "    .dataframe tbody tr th {\n",
       "        vertical-align: top;\n",
       "    }\n",
       "\n",
       "    .dataframe thead th {\n",
       "        text-align: right;\n",
       "    }\n",
       "</style>\n",
       "<table border=\"1\" class=\"dataframe\">\n",
       "  <thead>\n",
       "    <tr style=\"text-align: right;\">\n",
       "      <th></th>\n",
       "      <th>ProdutoID</th>\n",
       "      <th>Produto</th>\n",
       "      <th>CategoriaID</th>\n",
       "      <th>Categoria</th>\n",
       "      <th>Tamanho</th>\n",
       "      <th>VlUnitario</th>\n",
       "    </tr>\n",
       "  </thead>\n",
       "  <tbody>\n",
       "    <tr>\n",
       "      <th>15</th>\n",
       "      <td>16.0</td>\n",
       "      <td>Marine Slim</td>\n",
       "      <td>1.0</td>\n",
       "      <td>Manga Longa</td>\n",
       "      <td>M</td>\n",
       "      <td>144.0</td>\n",
       "    </tr>\n",
       "    <tr>\n",
       "      <th>3</th>\n",
       "      <td>40.0</td>\n",
       "      <td>Havaiana</td>\n",
       "      <td>2.0</td>\n",
       "      <td>Manga Curta</td>\n",
       "      <td>GG</td>\n",
       "      <td>144.0</td>\n",
       "    </tr>\n",
       "    <tr>\n",
       "      <th>1</th>\n",
       "      <td>46.0</td>\n",
       "      <td>Blazer Slim Fit</td>\n",
       "      <td>3.0</td>\n",
       "      <td>Blazer</td>\n",
       "      <td>G</td>\n",
       "      <td>290.0</td>\n",
       "    </tr>\n",
       "    <tr>\n",
       "      <th>4</th>\n",
       "      <td>41.0</td>\n",
       "      <td>Lilium</td>\n",
       "      <td>2.0</td>\n",
       "      <td>Manga Curta</td>\n",
       "      <td>M</td>\n",
       "      <td>162.0</td>\n",
       "    </tr>\n",
       "    <tr>\n",
       "      <th>6</th>\n",
       "      <td>43.0</td>\n",
       "      <td>Lilium</td>\n",
       "      <td>2.0</td>\n",
       "      <td>Manga Curta</td>\n",
       "      <td>G</td>\n",
       "      <td>162.0</td>\n",
       "    </tr>\n",
       "  </tbody>\n",
       "</table>\n",
       "</div>"
      ],
      "text/plain": [
       "    ProdutoID          Produto  CategoriaID    Categoria Tamanho  VlUnitario\n",
       "15       16.0      Marine Slim          1.0  Manga Longa       M       144.0\n",
       "3        40.0         Havaiana          2.0  Manga Curta      GG       144.0\n",
       "1        46.0  Blazer Slim Fit          3.0       Blazer       G       290.0\n",
       "4        41.0           Lilium          2.0  Manga Curta       M       162.0\n",
       "6        43.0           Lilium          2.0  Manga Curta       G       162.0"
      ]
     },
     "execution_count": 9,
     "metadata": {},
     "output_type": "execute_result"
    }
   ],
   "source": [
    "df_produtos = pd.concat([df1, df2, df3])\n",
    "df_produtos.sample(5)"
   ]
  },
  {
   "cell_type": "code",
   "execution_count": 10,
   "id": "611c02e6",
   "metadata": {},
   "outputs": [
    {
     "name": "stdout",
     "output_type": "stream",
     "text": [
      "<class 'pandas.core.frame.DataFrame'>\n",
      "Int64Index: 96 entries, 0 to 35\n",
      "Data columns (total 6 columns):\n",
      " #   Column       Non-Null Count  Dtype  \n",
      "---  ------       --------------  -----  \n",
      " 0   ProdutoID    96 non-null     int64  \n",
      " 1   Produto      96 non-null     object \n",
      " 2   CategoriaID  96 non-null     int64  \n",
      " 3   Categoria    96 non-null     object \n",
      " 4   Tamanho      96 non-null     object \n",
      " 5   VlUnitario   96 non-null     float64\n",
      "dtypes: float64(1), int64(2), object(3)\n",
      "memory usage: 5.2+ KB\n"
     ]
    }
   ],
   "source": [
    "df_produtos[['CategoriaID', 'ProdutoID']] = df_produtos[['CategoriaID', 'ProdutoID']].astype('int64')\n",
    "df_produtos.info()"
   ]
  },
  {
   "cell_type": "code",
   "execution_count": 11,
   "id": "b7bf8631",
   "metadata": {},
   "outputs": [
    {
     "name": "stdout",
     "output_type": "stream",
     "text": [
      "Quantidade de itens vendidos: 41,142 itens\n"
     ]
    }
   ],
   "source": [
    "#Quantidade de itens vendidos\n",
    "qntItensVendidos = df_vendas['Quantidade'].sum()\n",
    "print(f'Quantidade de itens vendidos: {qntItensVendidos:,.0f} itens')"
   ]
  },
  {
   "cell_type": "code",
   "execution_count": 12,
   "id": "b59a0c66",
   "metadata": {},
   "outputs": [
    {
     "name": "stdout",
     "output_type": "stream",
     "text": [
      "Quantidade de vendas: 41,142 vendas\n"
     ]
    }
   ],
   "source": [
    "#Quantidade de vendas\n",
    "qntVenda = df_vendas.shape[0]\n",
    "print(f'Quantidade de vendas: {qntVenda:,.0f} vendas')"
   ]
  },
  {
   "cell_type": "code",
   "execution_count": 42,
   "id": "a80b05ba",
   "metadata": {},
   "outputs": [
    {
     "data": {
      "text/plain": [
       "Categoria\n",
       "Blazer          3368\n",
       "Manga Curta    22358\n",
       "Manga Longa    15416\n",
       "Name: Quantidade, dtype: int64"
      ]
     },
     "execution_count": 42,
     "metadata": {},
     "output_type": "execute_result"
    }
   ],
   "source": [
    "#Quantidade de vendas por categoria\n",
    "df = df_vendas.merge(df_produtos, how='left')\n",
    "df.groupby('Categoria')['Quantidade'].sum()"
   ]
  },
  {
   "cell_type": "code",
   "execution_count": 47,
   "id": "56b1ca9c",
   "metadata": {},
   "outputs": [
    {
     "name": "stdout",
     "output_type": "stream",
     "text": [
      "Valor do Faturamento Bruto: R$ 6,514,607.00\n"
     ]
    }
   ],
   "source": [
    "#Calculo de faturamento Bruto\n",
    "faturamentoBruto = sum(df['Quantidade'] * df['VlUnitario'])\n",
    "print(f'Valor do Faturamento Bruto: R$ {faturamentoBruto:,.2f}')"
   ]
  },
  {
   "cell_type": "code",
   "execution_count": 48,
   "id": "3f74990e",
   "metadata": {},
   "outputs": [
    {
     "name": "stdout",
     "output_type": "stream",
     "text": [
      "Valor do Desconto: R$ 69,846.75\n"
     ]
    }
   ],
   "source": [
    "#Valor do desconto\n",
    "desconto = sum(df['Quantidade'] * df['VlUnitario'] * df['Desconto'])\n",
    "print(f'Valor do Desconto: R$ {desconto:,.2f}')"
   ]
  },
  {
   "cell_type": "code",
   "execution_count": 62,
   "id": "3e394f83",
   "metadata": {},
   "outputs": [
    {
     "name": "stdout",
     "output_type": "stream",
     "text": [
      "Valor do Faturamento Líquido: R$ 6,020,990.00\n"
     ]
    }
   ],
   "source": [
    "#Faturamento Líquido = faturamento de vendas - descontos\n",
    "df = df[df['Status'] == 'Sold']\n",
    "df['fatliq'] = df['Quantidade'] * df['VlUnitario'] * (1 - df['Desconto'])\n",
    "faturamentoLiquido = df['fatliq'].sum()\n",
    "print(f'Valor do Faturamento Líquido: R$ {faturamentoLiquido:,.2f}')"
   ]
  },
  {
   "cell_type": "code",
   "execution_count": 89,
   "id": "18fdc253",
   "metadata": {},
   "outputs": [
    {
     "name": "stdout",
     "output_type": "stream",
     "text": [
      "Valor do Ticket Médio: R$ 146.35\n"
     ]
    }
   ],
   "source": [
    "#Ticket Medio\n",
    "ticketMedio = faturamentoLiquido / qntVenda\n",
    "print(f'Valor do Ticket Médio: R$ {ticketMedio:,.2f}')"
   ]
  },
  {
   "cell_type": "code",
   "execution_count": 59,
   "id": "03caa8c1",
   "metadata": {},
   "outputs": [
    {
     "data": {
      "text/html": [
       "<div>\n",
       "<style scoped>\n",
       "    .dataframe tbody tr th:only-of-type {\n",
       "        vertical-align: middle;\n",
       "    }\n",
       "\n",
       "    .dataframe tbody tr th {\n",
       "        vertical-align: top;\n",
       "    }\n",
       "\n",
       "    .dataframe thead th {\n",
       "        text-align: right;\n",
       "    }\n",
       "</style>\n",
       "<table border=\"1\" class=\"dataframe\">\n",
       "  <thead>\n",
       "    <tr style=\"text-align: right;\">\n",
       "      <th></th>\n",
       "      <th>Data</th>\n",
       "      <th>Dia</th>\n",
       "      <th>Semana</th>\n",
       "      <th>Mes</th>\n",
       "      <th>Trimestre</th>\n",
       "      <th>Ano</th>\n",
       "      <th>Semestre</th>\n",
       "    </tr>\n",
       "  </thead>\n",
       "  <tbody>\n",
       "    <tr>\n",
       "      <th>0</th>\n",
       "      <td>2018-03-01</td>\n",
       "      <td>3</td>\n",
       "      <td>9</td>\n",
       "      <td>3</td>\n",
       "      <td>1</td>\n",
       "      <td>2018</td>\n",
       "      <td>1</td>\n",
       "    </tr>\n",
       "    <tr>\n",
       "      <th>1</th>\n",
       "      <td>2018-03-02</td>\n",
       "      <td>4</td>\n",
       "      <td>9</td>\n",
       "      <td>3</td>\n",
       "      <td>1</td>\n",
       "      <td>2018</td>\n",
       "      <td>1</td>\n",
       "    </tr>\n",
       "    <tr>\n",
       "      <th>2</th>\n",
       "      <td>2018-03-03</td>\n",
       "      <td>5</td>\n",
       "      <td>9</td>\n",
       "      <td>3</td>\n",
       "      <td>1</td>\n",
       "      <td>2018</td>\n",
       "      <td>1</td>\n",
       "    </tr>\n",
       "    <tr>\n",
       "      <th>3</th>\n",
       "      <td>2018-03-04</td>\n",
       "      <td>6</td>\n",
       "      <td>9</td>\n",
       "      <td>3</td>\n",
       "      <td>1</td>\n",
       "      <td>2018</td>\n",
       "      <td>1</td>\n",
       "    </tr>\n",
       "    <tr>\n",
       "      <th>4</th>\n",
       "      <td>2018-03-05</td>\n",
       "      <td>0</td>\n",
       "      <td>10</td>\n",
       "      <td>3</td>\n",
       "      <td>1</td>\n",
       "      <td>2018</td>\n",
       "      <td>1</td>\n",
       "    </tr>\n",
       "  </tbody>\n",
       "</table>\n",
       "</div>"
      ],
      "text/plain": [
       "        Data  Dia  Semana  Mes  Trimestre   Ano  Semestre\n",
       "0 2018-03-01    3       9    3          1  2018         1\n",
       "1 2018-03-02    4       9    3          1  2018         1\n",
       "2 2018-03-03    5       9    3          1  2018         1\n",
       "3 2018-03-04    6       9    3          1  2018         1\n",
       "4 2018-03-05    0      10    3          1  2018         1"
      ]
     },
     "execution_count": 59,
     "metadata": {},
     "output_type": "execute_result"
    }
   ],
   "source": [
    "#Criação de uma tabela calendario\n",
    "df_calendario = pd.DataFrame({\"Data\": pd.date_range(df_vendas['Data'].min(), df_vendas['Data'].max())})\n",
    "df_calendario[\"Dia\"] = df_calendario['Data'].dt.weekday\n",
    "df_calendario[\"Semana\"] = df_calendario['Data'].dt.isocalendar().week\n",
    "df_calendario['Mes'] = df_calendario['Data'].dt.month\n",
    "df_calendario[\"Trimestre\"] = df_calendario['Data'].dt.quarter\n",
    "df_calendario[\"Ano\"] = df_calendario['Data'].dt.year\n",
    "df_calendario[\"Semestre\"] = (df_calendario['Trimestre'] + 1) // 2\n",
    "df_calendario.head()"
   ]
  },
  {
   "cell_type": "code",
   "execution_count": 82,
   "id": "11385fa0",
   "metadata": {},
   "outputs": [],
   "source": [
    "import matplotlib.pyplot as plt"
   ]
  },
  {
   "cell_type": "code",
   "execution_count": 83,
   "id": "0f21d726",
   "metadata": {},
   "outputs": [
    {
     "data": {
      "text/plain": [
       "<AxesSubplot:xlabel='Data,Data,Data'>"
      ]
     },
     "execution_count": 83,
     "metadata": {},
     "output_type": "execute_result"
    },
    {
     "data": {
      "image/png": "[encoded data removed]",
      "text/plain": [
       "<Figure size 1008x432 with 1 Axes>"
      ]
     },
     "metadata": {
      "needs_background": "light"
     },
     "output_type": "display_data"
    }
   ],
   "source": [
    "#Grafico do faturamento liquido\n",
    "plt.figure(figsize=(14,6))\n",
    "df.groupby([df['Data'].dt.year, df['Data'].dt.quarter,  df['Data'].dt.month])['fatliq'].sum().plot()"
   ]
  },
  {
   "cell_type": "code",
   "execution_count": 87,
   "id": "1b01e0e0",
   "metadata": {},
   "outputs": [
    {
     "data": {
      "text/plain": [
       "<AxesSubplot:ylabel='Produto'>"
      ]
     },
     "execution_count": 87,
     "metadata": {},
     "output_type": "execute_result"
    },
    {
     "data": {
      "image/png": "[encoded data removed]",
      "text/plain": [
       "<Figure size 1008x432 with 1 Axes>"
      ]
     },
     "metadata": {
      "needs_background": "light"
     },
     "output_type": "display_data"
    }
   ],
   "source": [
    "#Grafico faturamento liquido por Produto\n",
    "plt.figure(figsize=(14,6))\n",
    "df.groupby(df['Produto'])['fatliq'].sum().sort_values().plot.barh()"
   ]
  },
  {
   "cell_type": "code",
   "execution_count": 95,
   "id": "4ada6f4c",
   "metadata": {},
   "outputs": [
    {
     "data": {
      "text/html": [
       "<div>\n",
       "<style scoped>\n",
       "    .dataframe tbody tr th:only-of-type {\n",
       "        vertical-align: middle;\n",
       "    }\n",
       "\n",
       "    .dataframe tbody tr th {\n",
       "        vertical-align: top;\n",
       "    }\n",
       "\n",
       "    .dataframe thead th {\n",
       "        text-align: right;\n",
       "    }\n",
       "</style>\n",
       "<table border=\"1\" class=\"dataframe\">\n",
       "  <thead>\n",
       "    <tr style=\"text-align: right;\">\n",
       "      <th></th>\n",
       "      <th></th>\n",
       "      <th>sum</th>\n",
       "      <th>mean</th>\n",
       "      <th>min</th>\n",
       "      <th>max</th>\n",
       "    </tr>\n",
       "    <tr>\n",
       "      <th>Data</th>\n",
       "      <th>Data</th>\n",
       "      <th></th>\n",
       "      <th></th>\n",
       "      <th></th>\n",
       "      <th></th>\n",
       "    </tr>\n",
       "  </thead>\n",
       "  <tbody>\n",
       "    <tr>\n",
       "      <th rowspan=\"10\" valign=\"top\">2018</th>\n",
       "      <th>3</th>\n",
       "      <td>219394.10</td>\n",
       "      <td>137.983711</td>\n",
       "      <td>73.8</td>\n",
       "      <td>490.0</td>\n",
       "    </tr>\n",
       "    <tr>\n",
       "      <th>4</th>\n",
       "      <td>219720.50</td>\n",
       "      <td>137.068309</td>\n",
       "      <td>73.8</td>\n",
       "      <td>490.0</td>\n",
       "    </tr>\n",
       "    <tr>\n",
       "      <th>5</th>\n",
       "      <td>235937.30</td>\n",
       "      <td>137.172849</td>\n",
       "      <td>73.8</td>\n",
       "      <td>490.0</td>\n",
       "    </tr>\n",
       "    <tr>\n",
       "      <th>6</th>\n",
       "      <td>308107.75</td>\n",
       "      <td>139.668064</td>\n",
       "      <td>73.8</td>\n",
       "      <td>490.0</td>\n",
       "    </tr>\n",
       "    <tr>\n",
       "      <th>7</th>\n",
       "      <td>319652.65</td>\n",
       "      <td>136.370584</td>\n",
       "      <td>73.8</td>\n",
       "      <td>490.0</td>\n",
       "    </tr>\n",
       "    <tr>\n",
       "      <th>8</th>\n",
       "      <td>308740.70</td>\n",
       "      <td>138.200850</td>\n",
       "      <td>73.8</td>\n",
       "      <td>490.0</td>\n",
       "    </tr>\n",
       "    <tr>\n",
       "      <th>9</th>\n",
       "      <td>284134.00</td>\n",
       "      <td>139.623587</td>\n",
       "      <td>73.8</td>\n",
       "      <td>490.0</td>\n",
       "    </tr>\n",
       "    <tr>\n",
       "      <th>10</th>\n",
       "      <td>264955.80</td>\n",
       "      <td>141.385165</td>\n",
       "      <td>73.8</td>\n",
       "      <td>490.0</td>\n",
       "    </tr>\n",
       "    <tr>\n",
       "      <th>11</th>\n",
       "      <td>329578.40</td>\n",
       "      <td>137.668505</td>\n",
       "      <td>73.8</td>\n",
       "      <td>490.0</td>\n",
       "    </tr>\n",
       "    <tr>\n",
       "      <th>12</th>\n",
       "      <td>412315.85</td>\n",
       "      <td>139.060995</td>\n",
       "      <td>73.8</td>\n",
       "      <td>490.0</td>\n",
       "    </tr>\n",
       "    <tr>\n",
       "      <th rowspan=\"12\" valign=\"top\">2019</th>\n",
       "      <th>1</th>\n",
       "      <td>156149.95</td>\n",
       "      <td>155.064499</td>\n",
       "      <td>77.9</td>\n",
       "      <td>490.0</td>\n",
       "    </tr>\n",
       "    <tr>\n",
       "      <th>2</th>\n",
       "      <td>144369.55</td>\n",
       "      <td>158.997302</td>\n",
       "      <td>73.8</td>\n",
       "      <td>490.0</td>\n",
       "    </tr>\n",
       "    <tr>\n",
       "      <th>3</th>\n",
       "      <td>238441.85</td>\n",
       "      <td>188.342694</td>\n",
       "      <td>73.8</td>\n",
       "      <td>490.0</td>\n",
       "    </tr>\n",
       "    <tr>\n",
       "      <th>4</th>\n",
       "      <td>225113.95</td>\n",
       "      <td>189.330488</td>\n",
       "      <td>73.8</td>\n",
       "      <td>490.0</td>\n",
       "    </tr>\n",
       "    <tr>\n",
       "      <th>5</th>\n",
       "      <td>235381.35</td>\n",
       "      <td>191.522661</td>\n",
       "      <td>75.6</td>\n",
       "      <td>490.0</td>\n",
       "    </tr>\n",
       "    <tr>\n",
       "      <th>6</th>\n",
       "      <td>371464.05</td>\n",
       "      <td>176.132788</td>\n",
       "      <td>73.8</td>\n",
       "      <td>490.0</td>\n",
       "    </tr>\n",
       "    <tr>\n",
       "      <th>7</th>\n",
       "      <td>215955.05</td>\n",
       "      <td>185.528393</td>\n",
       "      <td>73.8</td>\n",
       "      <td>490.0</td>\n",
       "    </tr>\n",
       "    <tr>\n",
       "      <th>8</th>\n",
       "      <td>389602.35</td>\n",
       "      <td>171.103360</td>\n",
       "      <td>73.8</td>\n",
       "      <td>490.0</td>\n",
       "    </tr>\n",
       "    <tr>\n",
       "      <th>9</th>\n",
       "      <td>213451.70</td>\n",
       "      <td>191.952968</td>\n",
       "      <td>77.9</td>\n",
       "      <td>490.0</td>\n",
       "    </tr>\n",
       "    <tr>\n",
       "      <th>10</th>\n",
       "      <td>191527.70</td>\n",
       "      <td>183.455651</td>\n",
       "      <td>73.8</td>\n",
       "      <td>490.0</td>\n",
       "    </tr>\n",
       "    <tr>\n",
       "      <th>11</th>\n",
       "      <td>215770.00</td>\n",
       "      <td>186.490925</td>\n",
       "      <td>73.8</td>\n",
       "      <td>490.0</td>\n",
       "    </tr>\n",
       "    <tr>\n",
       "      <th>12</th>\n",
       "      <td>392612.65</td>\n",
       "      <td>177.331820</td>\n",
       "      <td>73.8</td>\n",
       "      <td>490.0</td>\n",
       "    </tr>\n",
       "    <tr>\n",
       "      <th>2020</th>\n",
       "      <th>1</th>\n",
       "      <td>128612.80</td>\n",
       "      <td>155.894303</td>\n",
       "      <td>73.8</td>\n",
       "      <td>490.0</td>\n",
       "    </tr>\n",
       "  </tbody>\n",
       "</table>\n",
       "</div>"
      ],
      "text/plain": [
       "                 sum        mean   min    max\n",
       "Data Data                                    \n",
       "2018 3     219394.10  137.983711  73.8  490.0\n",
       "     4     219720.50  137.068309  73.8  490.0\n",
       "     5     235937.30  137.172849  73.8  490.0\n",
       "     6     308107.75  139.668064  73.8  490.0\n",
       "     7     319652.65  136.370584  73.8  490.0\n",
       "     8     308740.70  138.200850  73.8  490.0\n",
       "     9     284134.00  139.623587  73.8  490.0\n",
       "     10    264955.80  141.385165  73.8  490.0\n",
       "     11    329578.40  137.668505  73.8  490.0\n",
       "     12    412315.85  139.060995  73.8  490.0\n",
       "2019 1     156149.95  155.064499  77.9  490.0\n",
       "     2     144369.55  158.997302  73.8  490.0\n",
       "     3     238441.85  188.342694  73.8  490.0\n",
       "     4     225113.95  189.330488  73.8  490.0\n",
       "     5     235381.35  191.522661  75.6  490.0\n",
       "     6     371464.05  176.132788  73.8  490.0\n",
       "     7     215955.05  185.528393  73.8  490.0\n",
       "     8     389602.35  171.103360  73.8  490.0\n",
       "     9     213451.70  191.952968  77.9  490.0\n",
       "     10    191527.70  183.455651  73.8  490.0\n",
       "     11    215770.00  186.490925  73.8  490.0\n",
       "     12    392612.65  177.331820  73.8  490.0\n",
       "2020 1     128612.80  155.894303  73.8  490.0"
      ]
     },
     "execution_count": 95,
     "metadata": {},
     "output_type": "execute_result"
    }
   ],
   "source": [
    "#Comparativo faturamento liquido por ano\n",
    "df.groupby([df['Data'].dt.year, df['Data'].dt.month])['fatliq'].agg(['sum', 'mean', 'min', 'max'])"
   ]
  },
  {
   "cell_type": "code",
   "execution_count": 106,
   "id": "c99b3a96",
   "metadata": {},
   "outputs": [
    {
     "data": {
      "text/plain": [
       "<AxesSubplot:xlabel='Data'>"
      ]
     },
     "execution_count": 106,
     "metadata": {},
     "output_type": "execute_result"
    },
    {
     "data": {
      "image/png": "[encoded data removed]",
      "text/plain": [
       "<Figure size 432x288 with 1 Axes>"
      ]
     },
     "metadata": {
      "needs_background": "light"
     },
     "output_type": "display_data"
    }
   ],
   "source": [
    "#Variação ano a ano\n",
    "((df[df['Data'].dt.year == 2019].groupby([df['Data'].dt.month])['fatliq'].sum() - \\\n",
    "df[df['Data'].dt.year == 2018].groupby([df['Data'].dt.month])['fatliq'].sum()) / \\\n",
    "df[df['Data'].dt.year == 2018].groupby([df['Data'].dt.month])['fatliq'].sum() * 100).plot.bar()"
   ]
  },
  {
   "cell_type": "code",
   "execution_count": null,
   "id": "a35cb69c",
   "metadata": {},
   "outputs": [],
   "source": []
  }
 ],
 "metadata": {
  "kernelspec": {
   "display_name": "Python 3 (ipykernel)",
   "language": "python",
   "name": "python3"
  },
  "language_info": {
   "codemirror_mode": {
    "name": "ipython",
    "version": 3
   },
   "file_extension": ".py",
   "mimetype": "text/x-python",
   "name": "python",
   "nbconvert_exporter": "python",
   "pygments_lexer": "ipython3",
   "version": "3.9.7"
  }
 },
 "nbformat": 4,
 "nbformat_minor": 5
}
