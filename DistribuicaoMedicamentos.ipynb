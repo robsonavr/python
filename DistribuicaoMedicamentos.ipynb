{
 "cells": [
  {
   "cell_type": "markdown",
   "metadata": {},
   "source": [
    "# Distribuicao de medicamentos para Covid19\n",
    "\n",
    "https://opendatasus.saude.gov.br/dataset/distribuicao-de-medicamentos-covid-19"
   ]
  },
  {
   "cell_type": "code",
   "execution_count": 1,
   "metadata": {},
   "outputs": [],
   "source": [
    "#importando bibliotecas \n",
    "import pandas as pd"
   ]
  },
  {
   "cell_type": "code",
   "execution_count": 4,
   "metadata": {},
   "outputs": [
    {
     "data": {
      "text/html": [
       "<div>\n",
       "<style scoped>\n",
       "    .dataframe tbody tr th:only-of-type {\n",
       "        vertical-align: middle;\n",
       "    }\n",
       "\n",
       "    .dataframe tbody tr th {\n",
       "        vertical-align: top;\n",
       "    }\n",
       "\n",
       "    .dataframe thead th {\n",
       "        text-align: right;\n",
       "    }\n",
       "</style>\n",
       "<table border=\"1\" class=\"dataframe\">\n",
       "  <thead>\n",
       "    <tr style=\"text-align: right;\">\n",
       "      <th></th>\n",
       "      <th>REGIÃO</th>\n",
       "      <th>UF</th>\n",
       "      <th>DESTINATARIO</th>\n",
       "      <th>LOCALIDADE</th>\n",
       "      <th>ITEM</th>\n",
       "      <th>PROGRAMA DE SAÚDE</th>\n",
       "      <th>QUANTIDADE</th>\n",
       "      <th>STATUS</th>\n",
       "      <th>DATA DE ENTREGA</th>\n",
       "      <th>VALOR UNITÁRIO</th>\n",
       "      <th>VALOR TOTAL</th>\n",
       "    </tr>\n",
       "  </thead>\n",
       "  <tbody>\n",
       "    <tr>\n",
       "      <th>0</th>\n",
       "      <td>NORDESTE</td>\n",
       "      <td>ALAGOAS</td>\n",
       "      <td>SES</td>\n",
       "      <td>ALAGOAS</td>\n",
       "      <td>DIFOSFATO DE CLOROQUINA 150MG</td>\n",
       "      <td>COVID-19</td>\n",
       "      <td>-350000.0</td>\n",
       "      <td>REMANEJAMENTO</td>\n",
       "      <td>2020-09-04</td>\n",
       "      <td>0.0</td>\n",
       "      <td>0.0</td>\n",
       "    </tr>\n",
       "    <tr>\n",
       "      <th>1</th>\n",
       "      <td>NORDESTE</td>\n",
       "      <td>MARANHÃO</td>\n",
       "      <td>SES</td>\n",
       "      <td>MARANHÃO</td>\n",
       "      <td>DIFOSFATO DE CLOROQUINA 150MG</td>\n",
       "      <td>COVID-19</td>\n",
       "      <td>-180000.0</td>\n",
       "      <td>REMANEJAMENTO</td>\n",
       "      <td>2020-09-04</td>\n",
       "      <td>0.0</td>\n",
       "      <td>0.0</td>\n",
       "    </tr>\n",
       "    <tr>\n",
       "      <th>2</th>\n",
       "      <td>NORDESTE</td>\n",
       "      <td>PARAÍBA</td>\n",
       "      <td>SES</td>\n",
       "      <td>PARAÍBA</td>\n",
       "      <td>DIFOSFATO DE CLOROQUINA 150MG</td>\n",
       "      <td>COVID-19</td>\n",
       "      <td>-40000.0</td>\n",
       "      <td>REMANEJAMENTO</td>\n",
       "      <td>2020-09-04</td>\n",
       "      <td>0.0</td>\n",
       "      <td>0.0</td>\n",
       "    </tr>\n",
       "    <tr>\n",
       "      <th>3</th>\n",
       "      <td>CENTRO-OESTE</td>\n",
       "      <td>DISTRITO FEDERAL</td>\n",
       "      <td>SES</td>\n",
       "      <td>DISTRITO FEDERAL</td>\n",
       "      <td>DIFOSFATO DE CLOROQUINA 150MG</td>\n",
       "      <td>COVID-19</td>\n",
       "      <td>-10000.0</td>\n",
       "      <td>REMANEJAMENTO</td>\n",
       "      <td>2020-09-04</td>\n",
       "      <td>0.0</td>\n",
       "      <td>0.0</td>\n",
       "    </tr>\n",
       "    <tr>\n",
       "      <th>4</th>\n",
       "      <td>NORDESTE</td>\n",
       "      <td>RIO GRANDE DO NORTE</td>\n",
       "      <td>SES</td>\n",
       "      <td>RIO GRANDE DO NORTE</td>\n",
       "      <td>DIFOSFATO DE CLOROQUINA 150MG</td>\n",
       "      <td>COVID-19</td>\n",
       "      <td>-7000.0</td>\n",
       "      <td>REMANEJAMENTO</td>\n",
       "      <td>2020-09-04</td>\n",
       "      <td>0.0</td>\n",
       "      <td>0.0</td>\n",
       "    </tr>\n",
       "  </tbody>\n",
       "</table>\n",
       "</div>"
      ],
      "text/plain": [
       "         REGIÃO                    UF DESTINATARIO            LOCALIDADE  \\\n",
       "0      NORDESTE               ALAGOAS          SES              ALAGOAS    \n",
       "1      NORDESTE             MARANHÃO           SES             MARANHÃO    \n",
       "2      NORDESTE               PARAÍBA          SES               PARAÍBA   \n",
       "3  CENTRO-OESTE     DISTRITO FEDERAL           SES     DISTRITO FEDERAL    \n",
       "4      NORDESTE  RIO GRANDE DO NORTE           SES  RIO GRANDE DO NORTE    \n",
       "\n",
       "                            ITEM PROGRAMA DE SAÚDE  QUANTIDADE  \\\n",
       "0  DIFOSFATO DE CLOROQUINA 150MG          COVID-19   -350000.0   \n",
       "1  DIFOSFATO DE CLOROQUINA 150MG          COVID-19   -180000.0   \n",
       "2  DIFOSFATO DE CLOROQUINA 150MG          COVID-19    -40000.0   \n",
       "3  DIFOSFATO DE CLOROQUINA 150MG          COVID-19    -10000.0   \n",
       "4  DIFOSFATO DE CLOROQUINA 150MG          COVID-19     -7000.0   \n",
       "\n",
       "           STATUS DATA DE ENTREGA  VALOR UNITÁRIO   VALOR TOTAL   \n",
       "0  REMANEJAMENTO       2020-09-04              0.0           0.0  \n",
       "1  REMANEJAMENTO       2020-09-04              0.0           0.0  \n",
       "2  REMANEJAMENTO       2020-09-04              0.0           0.0  \n",
       "3  REMANEJAMENTO       2020-09-04              0.0           0.0  \n",
       "4  REMANEJAMENTO       2020-09-04              0.0           0.0  "
      ]
     },
     "execution_count": 4,
     "metadata": {},
     "output_type": "execute_result"
    }
   ],
   "source": [
    "df = pd.read_excel(r'atualizacao-de-medicamentos.xlsx')\n",
    "\n",
    "df.head()"
   ]
  },
  {
   "cell_type": "code",
   "execution_count": 5,
   "metadata": {},
   "outputs": [
    {
     "data": {
      "text/plain": [
       "REGIÃO                       object\n",
       "UF                           object\n",
       "DESTINATARIO                 object\n",
       "LOCALIDADE                   object\n",
       "ITEM                         object\n",
       "PROGRAMA DE SAÚDE            object\n",
       "QUANTIDADE                  float64\n",
       "STATUS                       object\n",
       "DATA DE ENTREGA      datetime64[ns]\n",
       "VALOR UNITÁRIO              float64\n",
       "VALOR TOTAL                 float64\n",
       "dtype: object"
      ]
     },
     "execution_count": 5,
     "metadata": {},
     "output_type": "execute_result"
    }
   ],
   "source": [
    "#Tipos dos registros\n",
    "df.dtypes"
   ]
  },
  {
   "cell_type": "code",
   "execution_count": 6,
   "metadata": {},
   "outputs": [
    {
     "name": "stdout",
     "output_type": "stream",
     "text": [
      "<class 'pandas.core.frame.DataFrame'>\n",
      "RangeIndex: 916 entries, 0 to 915\n",
      "Data columns (total 11 columns):\n",
      " #   Column             Non-Null Count  Dtype         \n",
      "---  ------             --------------  -----         \n",
      " 0   REGIÃO             916 non-null    object        \n",
      " 1   UF                 916 non-null    object        \n",
      " 2   DESTINATARIO       916 non-null    object        \n",
      " 3   LOCALIDADE         916 non-null    object        \n",
      " 4   ITEM               916 non-null    object        \n",
      " 5   PROGRAMA DE SAÚDE  916 non-null    object        \n",
      " 6   QUANTIDADE         915 non-null    float64       \n",
      " 7   STATUS             916 non-null    object        \n",
      " 8   DATA DE ENTREGA    916 non-null    datetime64[ns]\n",
      " 9   VALOR UNITÁRIO     916 non-null    float64       \n",
      " 10  VALOR TOTAL        916 non-null    float64       \n",
      "dtypes: datetime64[ns](1), float64(3), object(7)\n",
      "memory usage: 78.8+ KB\n"
     ]
    }
   ],
   "source": [
    "df.info()"
   ]
  },
  {
   "cell_type": "code",
   "execution_count": 7,
   "metadata": {},
   "outputs": [
    {
     "data": {
      "text/html": [
       "<div>\n",
       "<style scoped>\n",
       "    .dataframe tbody tr th:only-of-type {\n",
       "        vertical-align: middle;\n",
       "    }\n",
       "\n",
       "    .dataframe tbody tr th {\n",
       "        vertical-align: top;\n",
       "    }\n",
       "\n",
       "    .dataframe thead th {\n",
       "        text-align: right;\n",
       "    }\n",
       "</style>\n",
       "<table border=\"1\" class=\"dataframe\">\n",
       "  <thead>\n",
       "    <tr style=\"text-align: right;\">\n",
       "      <th></th>\n",
       "      <th>QUANTIDADE</th>\n",
       "      <th>VALOR UNITÁRIO</th>\n",
       "      <th>VALOR TOTAL</th>\n",
       "    </tr>\n",
       "  </thead>\n",
       "  <tbody>\n",
       "    <tr>\n",
       "      <th>count</th>\n",
       "      <td>915.000000</td>\n",
       "      <td>916.000000</td>\n",
       "      <td>9.160000e+02</td>\n",
       "    </tr>\n",
       "    <tr>\n",
       "      <th>mean</th>\n",
       "      <td>30905.486339</td>\n",
       "      <td>2.434138</td>\n",
       "      <td>9.730465e+04</td>\n",
       "    </tr>\n",
       "    <tr>\n",
       "      <th>std</th>\n",
       "      <td>85110.905229</td>\n",
       "      <td>1.770961</td>\n",
       "      <td>3.358164e+05</td>\n",
       "    </tr>\n",
       "    <tr>\n",
       "      <th>min</th>\n",
       "      <td>-350000.000000</td>\n",
       "      <td>0.000000</td>\n",
       "      <td>0.000000e+00</td>\n",
       "    </tr>\n",
       "    <tr>\n",
       "      <th>25%</th>\n",
       "      <td>2000.000000</td>\n",
       "      <td>0.069000</td>\n",
       "      <td>1.000000e+03</td>\n",
       "    </tr>\n",
       "    <tr>\n",
       "      <th>50%</th>\n",
       "      <td>7000.000000</td>\n",
       "      <td>3.000000</td>\n",
       "      <td>1.171500e+04</td>\n",
       "    </tr>\n",
       "    <tr>\n",
       "      <th>75%</th>\n",
       "      <td>23750.000000</td>\n",
       "      <td>4.000000</td>\n",
       "      <td>5.050000e+04</td>\n",
       "    </tr>\n",
       "    <tr>\n",
       "      <th>max</th>\n",
       "      <td>750000.000000</td>\n",
       "      <td>5.330000</td>\n",
       "      <td>3.750000e+06</td>\n",
       "    </tr>\n",
       "  </tbody>\n",
       "</table>\n",
       "</div>"
      ],
      "text/plain": [
       "          QUANTIDADE  VALOR UNITÁRIO   VALOR TOTAL \n",
       "count     915.000000       916.000000  9.160000e+02\n",
       "mean    30905.486339         2.434138  9.730465e+04\n",
       "std     85110.905229         1.770961  3.358164e+05\n",
       "min   -350000.000000         0.000000  0.000000e+00\n",
       "25%      2000.000000         0.069000  1.000000e+03\n",
       "50%      7000.000000         3.000000  1.171500e+04\n",
       "75%     23750.000000         4.000000  5.050000e+04\n",
       "max    750000.000000         5.330000  3.750000e+06"
      ]
     },
     "execution_count": 7,
     "metadata": {},
     "output_type": "execute_result"
    }
   ],
   "source": [
    "#Análise estatistica basica do dataframe\n",
    "df.describe()"
   ]
  },
  {
   "cell_type": "code",
   "execution_count": 8,
   "metadata": {},
   "outputs": [
    {
     "data": {
      "text/html": [
       "<div>\n",
       "<style scoped>\n",
       "    .dataframe tbody tr th:only-of-type {\n",
       "        vertical-align: middle;\n",
       "    }\n",
       "\n",
       "    .dataframe tbody tr th {\n",
       "        vertical-align: top;\n",
       "    }\n",
       "\n",
       "    .dataframe thead th {\n",
       "        text-align: right;\n",
       "    }\n",
       "</style>\n",
       "<table border=\"1\" class=\"dataframe\">\n",
       "  <thead>\n",
       "    <tr style=\"text-align: right;\">\n",
       "      <th></th>\n",
       "      <th>REGIÃO</th>\n",
       "      <th>UF</th>\n",
       "      <th>DESTINATARIO</th>\n",
       "      <th>LOCALIDADE</th>\n",
       "      <th>ITEM</th>\n",
       "      <th>PROGRAMA DE SAÚDE</th>\n",
       "      <th>QUANTIDADE</th>\n",
       "      <th>STATUS</th>\n",
       "      <th>DATA DE ENTREGA</th>\n",
       "      <th>VALOR UNITÁRIO</th>\n",
       "      <th>VALOR TOTAL</th>\n",
       "    </tr>\n",
       "  </thead>\n",
       "  <tbody>\n",
       "    <tr>\n",
       "      <th>770</th>\n",
       "      <td>CENTRO-OESTE</td>\n",
       "      <td>MATO GROSSO DO SUL</td>\n",
       "      <td>SMS</td>\n",
       "      <td>CAMPO GRANDE</td>\n",
       "      <td>FOSFATO DE OSELTAMIVIR 30MG</td>\n",
       "      <td>INFLUENZA</td>\n",
       "      <td>5000.0</td>\n",
       "      <td>ENTREGA REALIZADA</td>\n",
       "      <td>2020-10-26</td>\n",
       "      <td>2.0</td>\n",
       "      <td>10000.0</td>\n",
       "    </tr>\n",
       "    <tr>\n",
       "      <th>353</th>\n",
       "      <td>NORTE</td>\n",
       "      <td>PARÁ</td>\n",
       "      <td>SES</td>\n",
       "      <td>PARÁ</td>\n",
       "      <td>FOSFATO DE OSELTAMIVIR 75MG</td>\n",
       "      <td>INFLUENZA</td>\n",
       "      <td>7000.0</td>\n",
       "      <td>ENTREGA REALIZADA</td>\n",
       "      <td>2020-04-24</td>\n",
       "      <td>4.0</td>\n",
       "      <td>28000.0</td>\n",
       "    </tr>\n",
       "    <tr>\n",
       "      <th>33</th>\n",
       "      <td>CENTRO-OESTE</td>\n",
       "      <td>MATO GROSSO</td>\n",
       "      <td>SMS</td>\n",
       "      <td>CLÁUDIA</td>\n",
       "      <td>DIFOSFATO DE CLOROQUINA 150MG</td>\n",
       "      <td>COVID-19</td>\n",
       "      <td>4500.0</td>\n",
       "      <td>ENTREGA REALIZADA</td>\n",
       "      <td>2020-08-28</td>\n",
       "      <td>0.0</td>\n",
       "      <td>0.0</td>\n",
       "    </tr>\n",
       "    <tr>\n",
       "      <th>481</th>\n",
       "      <td>NORDESTE</td>\n",
       "      <td>RIO GRANDE DO NORTE</td>\n",
       "      <td>SES</td>\n",
       "      <td>RIO GRANDE DO NORTE</td>\n",
       "      <td>FOSFATO DE OSELTAMIVIR 30MG</td>\n",
       "      <td>INFLUENZA</td>\n",
       "      <td>3130.0</td>\n",
       "      <td>ENTREGA REALIZADA</td>\n",
       "      <td>2020-04-16</td>\n",
       "      <td>2.0</td>\n",
       "      <td>6260.0</td>\n",
       "    </tr>\n",
       "    <tr>\n",
       "      <th>41</th>\n",
       "      <td>NORDESTE</td>\n",
       "      <td>ALAGOAS</td>\n",
       "      <td>SMS</td>\n",
       "      <td>CAMPO ALEGRE</td>\n",
       "      <td>DIFOSFATO DE CLOROQUINA 150MG</td>\n",
       "      <td>COVID-19</td>\n",
       "      <td>5500.0</td>\n",
       "      <td>ENTREGA REALIZADA</td>\n",
       "      <td>2020-08-24</td>\n",
       "      <td>0.0</td>\n",
       "      <td>0.0</td>\n",
       "    </tr>\n",
       "  </tbody>\n",
       "</table>\n",
       "</div>"
      ],
      "text/plain": [
       "           REGIÃO                    UF DESTINATARIO            LOCALIDADE  \\\n",
       "770  CENTRO-OESTE   MATO GROSSO DO SUL           SMS          CAMPO GRANDE   \n",
       "353         NORTE                  PARÁ          SES                 PARÁ    \n",
       "33   CENTRO-OESTE          MATO GROSSO           SMS               CLÁUDIA   \n",
       "481      NORDESTE  RIO GRANDE DO NORTE           SES  RIO GRANDE DO NORTE    \n",
       "41       NORDESTE               ALAGOAS          SMS         CAMPO ALEGRE    \n",
       "\n",
       "                              ITEM PROGRAMA DE SAÚDE  QUANTIDADE  \\\n",
       "770    FOSFATO DE OSELTAMIVIR 30MG         INFLUENZA      5000.0   \n",
       "353    FOSFATO DE OSELTAMIVIR 75MG         INFLUENZA      7000.0   \n",
       "33   DIFOSFATO DE CLOROQUINA 150MG          COVID-19      4500.0   \n",
       "481   FOSFATO DE OSELTAMIVIR 30MG          INFLUENZA      3130.0   \n",
       "41   DIFOSFATO DE CLOROQUINA 150MG          COVID-19      5500.0   \n",
       "\n",
       "                 STATUS DATA DE ENTREGA  VALOR UNITÁRIO   VALOR TOTAL   \n",
       "770  ENTREGA REALIZADA       2020-10-26              2.0       10000.0  \n",
       "353   ENTREGA REALIZADA      2020-04-24              4.0       28000.0  \n",
       "33   ENTREGA REALIZADA       2020-08-28              0.0           0.0  \n",
       "481   ENTREGA REALIZADA      2020-04-16              2.0        6260.0  \n",
       "41    ENTREGA REALIZADA      2020-08-24              0.0           0.0  "
      ]
     },
     "execution_count": 8,
     "metadata": {},
     "output_type": "execute_result"
    }
   ],
   "source": [
    "#Análise de amostras\n",
    "df.sample(5)"
   ]
  },
  {
   "cell_type": "code",
   "execution_count": 9,
   "metadata": {},
   "outputs": [
    {
     "data": {
      "text/plain": [
       "array(['DIFOSFATO DE CLOROQUINA 150MG', 'FOSFATO DE OSELTAMIVIR 30MG',\n",
       "       'FOSFATO DE OSELTAMIVIR 45MG', 'FOSFATO DE OSELTAMIVIR 75MG',\n",
       "       'FOSFATO DE OSELTAMIVIR 30MG ', 'HIDROXICLOROQUINA 200MG ',\n",
       "       'FOSFATO DE OSELTAMIVIR 75MG '], dtype=object)"
      ]
     },
     "execution_count": 9,
     "metadata": {},
     "output_type": "execute_result"
    }
   ],
   "source": [
    "#Tipos de medicamentos\n",
    "df['ITEM'].unique()"
   ]
  },
  {
   "cell_type": "code",
   "execution_count": 10,
   "metadata": {},
   "outputs": [
    {
     "data": {
      "text/plain": [
       "7"
      ]
     },
     "execution_count": 10,
     "metadata": {},
     "output_type": "execute_result"
    }
   ],
   "source": [
    "df['ITEM'].nunique()"
   ]
  },
  {
   "cell_type": "code",
   "execution_count": 11,
   "metadata": {},
   "outputs": [
    {
     "data": {
      "text/plain": [
       "916"
      ]
     },
     "execution_count": 11,
     "metadata": {},
     "output_type": "execute_result"
    }
   ],
   "source": [
    "len(df['ITEM'])"
   ]
  },
  {
   "cell_type": "code",
   "execution_count": 16,
   "metadata": {},
   "outputs": [
    {
     "data": {
      "text/plain": [
       "FOSFATO DE OSELTAMIVIR 75MG      282\n",
       "DIFOSFATO DE CLOROQUINA 150MG    236\n",
       "FOSFATO DE OSELTAMIVIR 45MG      183\n",
       "FOSFATO DE OSELTAMIVIR 30MG      134\n",
       "FOSFATO DE OSELTAMIVIR 30MG       54\n",
       "HIDROXICLOROQUINA 200MG           25\n",
       "FOSFATO DE OSELTAMIVIR 75MG        2\n",
       "Name: ITEM, dtype: int64"
      ]
     },
     "execution_count": 16,
     "metadata": {},
     "output_type": "execute_result"
    }
   ],
   "source": [
    "df['ITEM'].value_counts()"
   ]
  },
  {
   "cell_type": "code",
   "execution_count": 20,
   "metadata": {},
   "outputs": [
    {
     "data": {
      "text/plain": [
       "UF         ITEM                         \n",
       "ACRE       DIFOSFATO DE CLOROQUINA 150MG    174500.0\n",
       "           FOSFATO DE OSELTAMIVIR 30MG        3150.0\n",
       "           FOSFATO DE OSELTAMIVIR 30MG       31010.0\n",
       "           FOSFATO DE OSELTAMIVIR 45MG       32500.0\n",
       "           FOSFATO DE OSELTAMIVIR 75MG      149500.0\n",
       "                                              ...   \n",
       "TOCANTINS  DIFOSFATO DE CLOROQUINA 150MG     43000.0\n",
       "           FOSFATO DE OSELTAMIVIR 30MG         500.0\n",
       "           FOSFATO DE OSELTAMIVIR 30MG        9000.0\n",
       "           FOSFATO DE OSELTAMIVIR 45MG        5500.0\n",
       "           FOSFATO DE OSELTAMIVIR 75MG       30500.0\n",
       "Name: QUANTIDADE, Length: 173, dtype: float64"
      ]
     },
     "execution_count": 20,
     "metadata": {},
     "output_type": "execute_result"
    }
   ],
   "source": [
    "#Quantidade de medicamentos distribuidos por UF\n",
    "df.groupby(['UF', 'ITEM'])['QUANTIDADE'].sum()"
   ]
  },
  {
   "cell_type": "code",
   "execution_count": 22,
   "metadata": {},
   "outputs": [
    {
     "data": {
      "text/html": [
       "<div>\n",
       "<style scoped>\n",
       "    .dataframe tbody tr th:only-of-type {\n",
       "        vertical-align: middle;\n",
       "    }\n",
       "\n",
       "    .dataframe tbody tr th {\n",
       "        vertical-align: top;\n",
       "    }\n",
       "\n",
       "    .dataframe thead th {\n",
       "        text-align: right;\n",
       "    }\n",
       "</style>\n",
       "<table border=\"1\" class=\"dataframe\">\n",
       "  <thead>\n",
       "    <tr style=\"text-align: right;\">\n",
       "      <th></th>\n",
       "      <th>REGIÃO</th>\n",
       "      <th>UF</th>\n",
       "      <th>DESTINATARIO</th>\n",
       "      <th>LOCALIDADE</th>\n",
       "      <th>ITEM</th>\n",
       "      <th>PROGRAMA DE SAÚDE</th>\n",
       "      <th>STATUS</th>\n",
       "    </tr>\n",
       "  </thead>\n",
       "  <tbody>\n",
       "    <tr>\n",
       "      <th>0</th>\n",
       "      <td>NORDESTE</td>\n",
       "      <td>ALAGOAS</td>\n",
       "      <td>SES</td>\n",
       "      <td>ALAGOAS</td>\n",
       "      <td>DIFOSFATO DE CLOROQUINA 150MG</td>\n",
       "      <td>COVID-19</td>\n",
       "      <td>REMANEJAMENTO</td>\n",
       "    </tr>\n",
       "    <tr>\n",
       "      <th>1</th>\n",
       "      <td>NORDESTE</td>\n",
       "      <td>MARANHÃO</td>\n",
       "      <td>SES</td>\n",
       "      <td>MARANHÃO</td>\n",
       "      <td>DIFOSFATO DE CLOROQUINA 150MG</td>\n",
       "      <td>COVID-19</td>\n",
       "      <td>REMANEJAMENTO</td>\n",
       "    </tr>\n",
       "    <tr>\n",
       "      <th>2</th>\n",
       "      <td>NORDESTE</td>\n",
       "      <td>PARAÍBA</td>\n",
       "      <td>SES</td>\n",
       "      <td>PARAÍBA</td>\n",
       "      <td>DIFOSFATO DE CLOROQUINA 150MG</td>\n",
       "      <td>COVID-19</td>\n",
       "      <td>REMANEJAMENTO</td>\n",
       "    </tr>\n",
       "    <tr>\n",
       "      <th>3</th>\n",
       "      <td>CENTRO-OESTE</td>\n",
       "      <td>DISTRITO FEDERAL</td>\n",
       "      <td>SES</td>\n",
       "      <td>DISTRITO FEDERAL</td>\n",
       "      <td>DIFOSFATO DE CLOROQUINA 150MG</td>\n",
       "      <td>COVID-19</td>\n",
       "      <td>REMANEJAMENTO</td>\n",
       "    </tr>\n",
       "    <tr>\n",
       "      <th>4</th>\n",
       "      <td>NORDESTE</td>\n",
       "      <td>RIO GRANDE DO NORTE</td>\n",
       "      <td>SES</td>\n",
       "      <td>RIO GRANDE DO NORTE</td>\n",
       "      <td>DIFOSFATO DE CLOROQUINA 150MG</td>\n",
       "      <td>COVID-19</td>\n",
       "      <td>REMANEJAMENTO</td>\n",
       "    </tr>\n",
       "    <tr>\n",
       "      <th>...</th>\n",
       "      <td>...</td>\n",
       "      <td>...</td>\n",
       "      <td>...</td>\n",
       "      <td>...</td>\n",
       "      <td>...</td>\n",
       "      <td>...</td>\n",
       "      <td>...</td>\n",
       "    </tr>\n",
       "    <tr>\n",
       "      <th>911</th>\n",
       "      <td>NORTE</td>\n",
       "      <td>AMAZONAS</td>\n",
       "      <td>SMS</td>\n",
       "      <td>MANAUS</td>\n",
       "      <td>HIDROXICLOROQUINA 200MG</td>\n",
       "      <td>COVID-19</td>\n",
       "      <td>ENTREGA REALIZADA</td>\n",
       "    </tr>\n",
       "    <tr>\n",
       "      <th>912</th>\n",
       "      <td>SUDESTE</td>\n",
       "      <td>MINAS GERAIS</td>\n",
       "      <td>SMS</td>\n",
       "      <td>DIVINOLANDIA DE MINAS</td>\n",
       "      <td>HIDROXICLOROQUINA 200MG</td>\n",
       "      <td>COVID-19</td>\n",
       "      <td>ENTREGA REALIZADA</td>\n",
       "    </tr>\n",
       "    <tr>\n",
       "      <th>913</th>\n",
       "      <td>SUDESTE</td>\n",
       "      <td>MINAS GERAIS</td>\n",
       "      <td>SMS</td>\n",
       "      <td>FORTUNA DE MINAS</td>\n",
       "      <td>HIDROXICLOROQUINA 200MG</td>\n",
       "      <td>COVID-19</td>\n",
       "      <td>ENTREGA REALIZADA</td>\n",
       "    </tr>\n",
       "    <tr>\n",
       "      <th>914</th>\n",
       "      <td>SUDESTE</td>\n",
       "      <td>MINAS GERAIS</td>\n",
       "      <td>SMS</td>\n",
       "      <td>MATENA</td>\n",
       "      <td>HIDROXICLOROQUINA 200MG</td>\n",
       "      <td>COVID-19</td>\n",
       "      <td>ENTREGA REALIZADA</td>\n",
       "    </tr>\n",
       "    <tr>\n",
       "      <th>915</th>\n",
       "      <td>SUL</td>\n",
       "      <td>RIO GRANDE DO SUL</td>\n",
       "      <td>SMS</td>\n",
       "      <td>PORTO ALEGRE</td>\n",
       "      <td>HIDROXICLOROQUINA 200MG</td>\n",
       "      <td>COVID-19</td>\n",
       "      <td>ENTREGA REALIZADA</td>\n",
       "    </tr>\n",
       "  </tbody>\n",
       "</table>\n",
       "<p>916 rows × 7 columns</p>\n",
       "</div>"
      ],
      "text/plain": [
       "           REGIÃO                    UF DESTINATARIO              LOCALIDADE  \\\n",
       "0        NORDESTE               ALAGOAS          SES                ALAGOAS    \n",
       "1        NORDESTE             MARANHÃO           SES               MARANHÃO    \n",
       "2        NORDESTE               PARAÍBA          SES                 PARAÍBA   \n",
       "3    CENTRO-OESTE     DISTRITO FEDERAL           SES       DISTRITO FEDERAL    \n",
       "4        NORDESTE  RIO GRANDE DO NORTE           SES    RIO GRANDE DO NORTE    \n",
       "..            ...                   ...          ...                     ...   \n",
       "911        NORTE              AMAZONAS           SMS                 MANAUS    \n",
       "912       SUDESTE         MINAS GERAIS           SMS  DIVINOLANDIA DE MINAS    \n",
       "913       SUDESTE         MINAS GERAIS           SMS       FORTUNA DE MINAS    \n",
       "914       SUDESTE         MINAS GERAIS           SMS                  MATENA   \n",
       "915          SUL     RIO GRANDE DO SUL           SMS            PORTO ALEGRE   \n",
       "\n",
       "                              ITEM PROGRAMA DE SAÚDE              STATUS  \n",
       "0    DIFOSFATO DE CLOROQUINA 150MG          COVID-19      REMANEJAMENTO   \n",
       "1    DIFOSFATO DE CLOROQUINA 150MG          COVID-19      REMANEJAMENTO   \n",
       "2    DIFOSFATO DE CLOROQUINA 150MG          COVID-19      REMANEJAMENTO   \n",
       "3    DIFOSFATO DE CLOROQUINA 150MG          COVID-19      REMANEJAMENTO   \n",
       "4    DIFOSFATO DE CLOROQUINA 150MG          COVID-19      REMANEJAMENTO   \n",
       "..                             ...               ...                 ...  \n",
       "911       HIDROXICLOROQUINA 200MG           COVID-19  ENTREGA REALIZADA   \n",
       "912       HIDROXICLOROQUINA 200MG           COVID-19  ENTREGA REALIZADA   \n",
       "913       HIDROXICLOROQUINA 200MG           COVID-19  ENTREGA REALIZADA   \n",
       "914       HIDROXICLOROQUINA 200MG           COVID-19  ENTREGA REALIZADA   \n",
       "915       HIDROXICLOROQUINA 200MG           COVID-19  ENTREGA REALIZADA   \n",
       "\n",
       "[916 rows x 7 columns]"
      ]
     },
     "execution_count": 22,
     "metadata": {},
     "output_type": "execute_result"
    }
   ],
   "source": [
    "#Visualização da tabela de colunas com string\n",
    "df.select_dtypes('object')"
   ]
  },
  {
   "cell_type": "code",
   "execution_count": 24,
   "metadata": {},
   "outputs": [
    {
     "data": {
      "text/plain": [
       "Index(['REGIÃO', 'UF', 'DESTINATARIO', 'LOCALIDADE', 'ITEM',\n",
       "       'PROGRAMA DE SAÚDE', 'STATUS'],\n",
       "      dtype='object')"
      ]
     },
     "execution_count": 24,
     "metadata": {},
     "output_type": "execute_result"
    }
   ],
   "source": [
    "#Visualização nome das colunas tipo string\n",
    "df.select_dtypes('object').columns"
   ]
  },
  {
   "cell_type": "code",
   "execution_count": 28,
   "metadata": {},
   "outputs": [
    {
     "name": "stdout",
     "output_type": "stream",
     "text": [
      "Removido espaço em branco dos textos\n"
     ]
    }
   ],
   "source": [
    "#Remove espacos em branco dos textos\n",
    "\n",
    "for registro in df.select_dtypes('object').columns:\n",
    "    df[registro] = df[registro].str.strip()\n",
    "    \n",
    "print(\"Removido espaço em branco dos textos\")"
   ]
  },
  {
   "cell_type": "code",
   "execution_count": 29,
   "metadata": {},
   "outputs": [
    {
     "data": {
      "text/plain": [
       "MATO GROSSO            70\n",
       "RIO GRANDE DO SUL      48\n",
       "MINAS GERAIS           48\n",
       "SANTA CATARINA         44\n",
       "BAHIA                  42\n",
       "CEARÁ                  42\n",
       "AMAZONAS               41\n",
       "PARÁ                   41\n",
       "ACRE                   39\n",
       "SÃO PAULO              37\n",
       "MATO GROSSO DO SUL     35\n",
       "PARANÁ                 35\n",
       "GOIÁS                  34\n",
       "RONDÔNIA               33\n",
       "RORAIMA                30\n",
       "ALAGOAS                29\n",
       "PARAÍBA                28\n",
       "PIAUÍ                  28\n",
       "RIO GRANDE DO NORTE    27\n",
       "ESPÍRITO SANTO         27\n",
       "PERNAMBUCO             25\n",
       "RIO DE JANEIRO         25\n",
       "SERGIPE                23\n",
       "DISTRITO FEDERAL       22\n",
       "MARANHÃO               22\n",
       "AMAPA                  22\n",
       "TOCANTINS              19\n",
       "Name: UF, dtype: int64"
      ]
     },
     "execution_count": 29,
     "metadata": {},
     "output_type": "execute_result"
    }
   ],
   "source": [
    "#Quantidade de medicamentos por UF\n",
    "df['UF'].value_counts()"
   ]
  },
  {
   "cell_type": "code",
   "execution_count": 31,
   "metadata": {},
   "outputs": [
    {
     "data": {
      "text/plain": [
       "<AxesSubplot:>"
      ]
     },
     "execution_count": 31,
     "metadata": {},
     "output_type": "execute_result"
    },
    {
     "data": {
      "image/png": "[encoded data removed]",
      "text/plain": [
       "<Figure size 432x288 with 1 Axes>"
      ]
     },
     "metadata": {
      "needs_background": "light"
     },
     "output_type": "display_data"
    }
   ],
   "source": [
    "#Exibir grafico da distribuição de medicamentos por UF\n",
    "%matplotlib inline\n",
    "df['UF'].value_counts().plot.barh()"
   ]
  },
  {
   "cell_type": "code",
   "execution_count": 32,
   "metadata": {},
   "outputs": [
    {
     "data": {
      "text/plain": [
       "MATO GROSSO            34\n",
       "RIO GRANDE DO SUL      30\n",
       "MINAS GERAIS           18\n",
       "SANTA CATARINA         17\n",
       "RORAIMA                14\n",
       "GOIÁS                  12\n",
       "BAHIA                  11\n",
       "SÃO PAULO               9\n",
       "ALAGOAS                 8\n",
       "PARANÁ                  8\n",
       "ESPÍRITO SANTO          7\n",
       "RIO GRANDE DO NORTE     7\n",
       "AMAZONAS                7\n",
       "MATO GROSSO DO SUL      7\n",
       "ACRE                    7\n",
       "PIAUÍ                   6\n",
       "PERNAMBUCO              6\n",
       "PARAÍBA                 6\n",
       "PARÁ                    6\n",
       "RIO DE JANEIRO          6\n",
       "RONDÔNIA                6\n",
       "CEARÁ                   5\n",
       "AMAPA                   5\n",
       "MARANHÃO                5\n",
       "TOCANTINS               5\n",
       "DISTRITO FEDERAL        5\n",
       "SERGIPE                 4\n",
       "Name: UF, dtype: int64"
      ]
     },
     "execution_count": 32,
     "metadata": {},
     "output_type": "execute_result"
    }
   ],
   "source": [
    "#Analise de programa de saude para COVID19\n",
    "df[df['PROGRAMA DE SAÚDE'] == 'COVID-19']['UF'].value_counts()"
   ]
  },
  {
   "cell_type": "code",
   "execution_count": 33,
   "metadata": {},
   "outputs": [
    {
     "data": {
      "text/plain": [
       "<AxesSubplot:>"
      ]
     },
     "execution_count": 33,
     "metadata": {},
     "output_type": "execute_result"
    },
    {
     "data": {
      "image/png": "[encoded data removed]",
      "text/plain": [
       "<Figure size 432x288 with 1 Axes>"
      ]
     },
     "metadata": {
      "needs_background": "light"
     },
     "output_type": "display_data"
    }
   ],
   "source": [
    "df[df['PROGRAMA DE SAÚDE'] == 'COVID-19']['UF'].value_counts().plot.barh()"
   ]
  },
  {
   "cell_type": "code",
   "execution_count": 36,
   "metadata": {},
   "outputs": [
    {
     "data": {
      "text/html": [
       "<div>\n",
       "<style scoped>\n",
       "    .dataframe tbody tr th:only-of-type {\n",
       "        vertical-align: middle;\n",
       "    }\n",
       "\n",
       "    .dataframe tbody tr th {\n",
       "        vertical-align: top;\n",
       "    }\n",
       "\n",
       "    .dataframe thead th {\n",
       "        text-align: right;\n",
       "    }\n",
       "</style>\n",
       "<table border=\"1\" class=\"dataframe\">\n",
       "  <thead>\n",
       "    <tr style=\"text-align: right;\">\n",
       "      <th></th>\n",
       "      <th>REGIÃO</th>\n",
       "      <th>UF</th>\n",
       "      <th>DESTINATARIO</th>\n",
       "      <th>LOCALIDADE</th>\n",
       "      <th>ITEM</th>\n",
       "      <th>PROGRAMA DE SAÚDE</th>\n",
       "      <th>QUANTIDADE</th>\n",
       "      <th>STATUS</th>\n",
       "      <th>DATA DE ENTREGA</th>\n",
       "      <th>VALOR UNITÁRIO</th>\n",
       "      <th>VALOR TOTAL</th>\n",
       "    </tr>\n",
       "  </thead>\n",
       "  <tbody>\n",
       "    <tr>\n",
       "      <th>731</th>\n",
       "      <td>NORDESTE</td>\n",
       "      <td>PIAUÍ</td>\n",
       "      <td>SMS</td>\n",
       "      <td>TERESINA</td>\n",
       "      <td>FOSFATO DE OSELTAMIVIR 45MG</td>\n",
       "      <td>INFLUENZA</td>\n",
       "      <td>NaN</td>\n",
       "      <td>ENTREGA REALIZADA</td>\n",
       "      <td>2020-09-14</td>\n",
       "      <td>3.0</td>\n",
       "      <td>0.0</td>\n",
       "    </tr>\n",
       "  </tbody>\n",
       "</table>\n",
       "</div>"
      ],
      "text/plain": [
       "       REGIÃO     UF DESTINATARIO LOCALIDADE                         ITEM  \\\n",
       "731  NORDESTE  PIAUÍ          SMS   TERESINA  FOSFATO DE OSELTAMIVIR 45MG   \n",
       "\n",
       "    PROGRAMA DE SAÚDE  QUANTIDADE             STATUS DATA DE ENTREGA  \\\n",
       "731         INFLUENZA         NaN  ENTREGA REALIZADA      2020-09-14   \n",
       "\n",
       "     VALOR UNITÁRIO   VALOR TOTAL   \n",
       "731              3.0           0.0  "
      ]
     },
     "execution_count": 36,
     "metadata": {},
     "output_type": "execute_result"
    }
   ],
   "source": [
    "#Verificar onde a quantidade é nula\n",
    "df[df['QUANTIDADE'].isnull()]"
   ]
  },
  {
   "cell_type": "code",
   "execution_count": null,
   "metadata": {},
   "outputs": [],
   "source": []
  }
 ],
 "metadata": {
  "kernelspec": {
   "display_name": "Python 3",
   "language": "python",
   "name": "python3"
  },
  "language_info": {
   "codemirror_mode": {
    "name": "ipython",
    "version": 3
   },
   "file_extension": ".py",
   "mimetype": "text/x-python",
   "name": "python",
   "nbconvert_exporter": "python",
   "pygments_lexer": "ipython3",
   "version": "3.8.6"
  }
 },
 "nbformat": 4,
 "nbformat_minor": 4
}
