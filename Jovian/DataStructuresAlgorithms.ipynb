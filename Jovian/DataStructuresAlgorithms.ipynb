{
 "cells": [
  {
   "cell_type": "code",
   "execution_count": 21,
   "id": "686aab6a",
   "metadata": {},
   "outputs": [],
   "source": [
    "def locate_card(cards, query):\n",
    "    position = 0\n",
    "    while True:\n",
    "        if position < len(cards):\n",
    "            if cards[position] == query:\n",
    "                return position\n",
    "            position += 1\n",
    "        else: \n",
    "            return position -1 "
   ]
  },
  {
   "cell_type": "code",
   "execution_count": 22,
   "id": "a76129eb",
   "metadata": {},
   "outputs": [
    {
     "name": "stdout",
     "output_type": "stream",
     "text": [
      "[{'input': {'cards': [13, 11, 10, 7, 4, 3, 1, 0], 'query': 7}, 'output': 3}, {'input': {'cards': [20, 17, 13, 11, 8, 5, 1], 'query': 11}, 'output': 3}, {'input': {'cards': [10, 5, 0, -3, -10], 'query': -3}, 'output': 3}, {'input': {'cards': [23, 23, 23, 10, 10, 8, 8, 8, 8, 5, 3, 1], 'query': 8}, 'output': 5}, {'input': {'cards': [8, 5, 4, 2, 1], 'query': 8}, 'output': 0}, {'input': {'cards': [4, 0, -3, -9], 'query': -9}, 'output': 3}, {'input': {'cards': [], 'query': ''}, 'output': ''}, {'input': {'cards': [8], 'query': 8}, 'output': 0}]\n"
     ]
    }
   ],
   "source": [
    "test = {'input':{'cards':[13, 11, 10, 7, 4, 3, 1, 0], 'query':7}, 'output':3}\n",
    "tests=[]\n",
    "tests.append(test)\n",
    "tests.append({'input':{'cards':[20, 17, 13, 11, 8, 5, 1], 'query':11}, 'output':3})\n",
    "tests.append({'input':{'cards':[10, 5, 0, -3, -10], 'query':-3}, 'output':3})\n",
    "tests.append({'input':{'cards':[23, 23, 23, 10, 10, 8, 8, 8, 8, 5, 3, 1], 'query':8}, 'output':5})\n",
    "tests.append({'input':{'cards':[8, 5, 4, 2, 1], 'query':8}, 'output':0})\n",
    "tests.append({'input':{'cards':[4, 0, -3, -9], 'query':-9}, 'output':3})\n",
    "tests.append({'input':{'cards':[], 'query': ''}, 'output': ''})\n",
    "tests.append({'input':{'cards':[8], 'query':8}, 'output':0})\n",
    "\n",
    "print(tests)"
   ]
  },
  {
   "cell_type": "code",
   "execution_count": 24,
   "id": "c7a0a962",
   "metadata": {},
   "outputs": [
    {
     "data": {
      "text/plain": [
       "True"
      ]
     },
     "execution_count": 24,
     "metadata": {},
     "output_type": "execute_result"
    }
   ],
   "source": [
    "locate_card(**test['input']) == test['output']"
   ]
  },
  {
   "cell_type": "code",
   "execution_count": 25,
   "id": "165eb4cd",
   "metadata": {},
   "outputs": [
    {
     "data": {
      "text/plain": [
       "True"
      ]
     },
     "execution_count": 25,
     "metadata": {},
     "output_type": "execute_result"
    }
   ],
   "source": [
    "locate_card(test['input']['cards'], test['input']['query']) == test['output']"
   ]
  },
  {
   "cell_type": "code",
   "execution_count": 26,
   "id": "59975867",
   "metadata": {},
   "outputs": [
    {
     "name": "stdout",
     "output_type": "stream",
     "text": [
      "True\n",
      "True\n",
      "True\n",
      "True\n",
      "True\n",
      "True\n",
      "False\n",
      "True\n"
     ]
    }
   ],
   "source": [
    "for teste in tests:\n",
    "    print(locate_card(**teste['input']) == teste['output'])"
   ]
  },
  {
   "cell_type": "code",
   "execution_count": null,
   "id": "f956b7a6",
   "metadata": {},
   "outputs": [],
   "source": []
  }
 ],
 "metadata": {
  "kernelspec": {
   "display_name": "Python 3 (ipykernel)",
   "language": "python",
   "name": "python3"
  },
  "language_info": {
   "codemirror_mode": {
    "name": "ipython",
    "version": 3
   },
   "file_extension": ".py",
   "mimetype": "text/x-python",
   "name": "python",
   "nbconvert_exporter": "python",
   "pygments_lexer": "ipython3",
   "version": "3.9.7"
  }
 },
 "nbformat": 4,
 "nbformat_minor": 5
}
