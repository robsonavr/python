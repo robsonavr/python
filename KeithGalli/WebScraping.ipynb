{
 "cells": [
  {
   "cell_type": "markdown",
   "id": "707eaea1-9388-4487-8ad0-a474210644af",
   "metadata": {},
   "source": [
    "# Scraping web pages\n",
    "\n",
    "### https://www.youtube.com/watch?v=GjKQ6V_ViQE"
   ]
  },
  {
   "cell_type": "code",
   "execution_count": 1,
   "id": "47ae470f-e4ec-4aa2-b573-bc62fd544dcf",
   "metadata": {},
   "outputs": [],
   "source": [
    "# Loading libraries\n",
    "import requests\n",
    "from bs4 import BeautifulSoup as bs"
   ]
  },
  {
   "cell_type": "code",
   "execution_count": 3,
   "id": "fe574b14-4d34-4ed9-8d60-10c8817bc511",
   "metadata": {},
   "outputs": [],
   "source": [
    "# Load our first page\n",
    "req = requests.get('https://keithgalli.github.io/web-scraping/example.html')\n",
    "\n",
    "# convert to a beautiful soup\n",
    "soup = bs(req.content)\n",
    "\n",
    "first_head = soup.find('h2')"
   ]
  },
  {
   "cell_type": "code",
   "execution_count": 4,
   "id": "81ed62c6-b05a-4c73-94dc-fbcc5bd40dac",
   "metadata": {},
   "outputs": [
    {
     "data": {
      "text/plain": [
       "<h2>A Header</h2>"
      ]
     },
     "execution_count": 4,
     "metadata": {},
     "output_type": "execute_result"
    }
   ],
   "source": [
    "first_head"
   ]
  },
  {
   "cell_type": "code",
   "execution_count": 5,
   "id": "9f299de1-d522-4c5e-8422-fa010f7e3c46",
   "metadata": {},
   "outputs": [],
   "source": [
    "headers = soup.find_all('h2')"
   ]
  },
  {
   "cell_type": "code",
   "execution_count": 6,
   "id": "87b6fa3e-282e-4ca7-8529-c8669f75a77c",
   "metadata": {},
   "outputs": [
    {
     "data": {
      "text/plain": [
       "[<h2>A Header</h2>, <h2>Another header</h2>]"
      ]
     },
     "execution_count": 6,
     "metadata": {},
     "output_type": "execute_result"
    }
   ],
   "source": [
    "headers"
   ]
  },
  {
   "cell_type": "code",
   "execution_count": 8,
   "id": "69afdb77-5d9d-4fdc-8051-7c9041b1aa40",
   "metadata": {},
   "outputs": [
    {
     "data": {
      "text/plain": [
       "<h1>HTML Webpage</h1>"
      ]
     },
     "execution_count": 8,
     "metadata": {},
     "output_type": "execute_result"
    }
   ],
   "source": [
    "first_head = soup.find(['h2', 'h1'])\n",
    "first_head"
   ]
  },
  {
   "cell_type": "code",
   "execution_count": 9,
   "id": "3f9d354a-7d2f-4930-a522-47eb264431c7",
   "metadata": {},
   "outputs": [
    {
     "data": {
      "text/plain": [
       "[<h1>HTML Webpage</h1>, <h2>A Header</h2>, <h2>Another header</h2>]"
      ]
     },
     "execution_count": 9,
     "metadata": {},
     "output_type": "execute_result"
    }
   ],
   "source": [
    "first_head = soup.find_all(['h2', 'h1'])\n",
    "first_head"
   ]
  },
  {
   "cell_type": "code",
   "execution_count": 11,
   "id": "e6460c83-4836-44cb-aab3-66417d6d96d0",
   "metadata": {},
   "outputs": [
    {
     "data": {
      "text/plain": [
       "[<p id=\"paragraph-id\"><b>Some bold text</b></p>]"
      ]
     },
     "execution_count": 11,
     "metadata": {},
     "output_type": "execute_result"
    }
   ],
   "source": [
    "paragraph = soup.find_all('p', attrs={'id':'paragraph-id'})\n",
    "paragraph"
   ]
  },
  {
   "cell_type": "code",
   "execution_count": 15,
   "id": "5e566b6b-8e15-4ea6-b451-091a03a00a4c",
   "metadata": {},
   "outputs": [
    {
     "data": {
      "text/plain": [
       "<h1>HTML Webpage</h1>"
      ]
     },
     "execution_count": 15,
     "metadata": {},
     "output_type": "execute_result"
    }
   ],
   "source": [
    "# you can nest find and find_all calls\n",
    "body = soup.find('body')\n",
    "div = body.find('div')\n",
    "header = div.find('h1')\n",
    "header"
   ]
  },
  {
   "cell_type": "code",
   "execution_count": 16,
   "id": "28bda090-22e2-4dc7-9eec-0cd86fbf1305",
   "metadata": {},
   "outputs": [
    {
     "data": {
      "text/plain": [
       "'<html>\\n <head>\\n  <title>\\n   HTML Example\\n  </title>\\n </head>\\n <body>\\n  <div align=\"middle\">\\n   <h1>\\n    HTML Webpage\\n   </h1>\\n   <p>\\n    Link to more interesting example:\\n    <a href=\"https://keithgalli.github.io/web-scraping/webpage.html\">\\n     keithgalli.github.io/web-scraping/webpage.html\\n    </a>\\n   </p>\\n  </div>\\n  <h2>\\n   A Header\\n  </h2>\\n  <p>\\n   <i>\\n    Some italicized text\\n   </i>\\n  </p>\\n  <h2>\\n   Another header\\n  </h2>\\n  <p id=\"paragraph-id\">\\n   <b>\\n    Some bold text\\n   </b>\\n  </p>\\n </body>\\n</html>\\n'"
      ]
     },
     "execution_count": 16,
     "metadata": {},
     "output_type": "execute_result"
    }
   ],
   "source": [
    "soup.prettify()"
   ]
  },
  {
   "cell_type": "code",
   "execution_count": 19,
   "id": "bf23b41a-449a-4f02-8d31-20e5d1a31bfe",
   "metadata": {},
   "outputs": [
    {
     "data": {
      "text/plain": [
       "[<p><i>Some italicized text</i></p>,\n",
       " <p id=\"paragraph-id\"><b>Some bold text</b></p>]"
      ]
     },
     "execution_count": 19,
     "metadata": {},
     "output_type": "execute_result"
    }
   ],
   "source": [
    "# we can search a string in our find find_all\n",
    "import re\n",
    "\n",
    "soup.find_all('p', string=re.compile('Some'))"
   ]
  },
  {
   "cell_type": "code",
   "execution_count": 23,
   "id": "04636ad0-6cb4-462c-af84-810b1d1f0330",
   "metadata": {},
   "outputs": [
    {
     "data": {
      "text/plain": [
       "[<h2>A Header</h2>, <h2>Another header</h2>]"
      ]
     },
     "execution_count": 23,
     "metadata": {},
     "output_type": "execute_result"
    }
   ],
   "source": [
    "soup.find_all('h2', string=re.compile('(H|h)eader'))"
   ]
  },
  {
   "cell_type": "markdown",
   "id": "2e61bbb6-6424-4b63-bb31-ca3110bc04c3",
   "metadata": {},
   "source": [
    "### Select (css selector)"
   ]
  },
  {
   "cell_type": "code",
   "execution_count": 24,
   "id": "bdb6414f-54db-481a-8617-4974dde7ae83",
   "metadata": {},
   "outputs": [
    {
     "data": {
      "text/plain": [
       "[<p>Link to more interesting example: <a href=\"https://keithgalli.github.io/web-scraping/webpage.html\">keithgalli.github.io/web-scraping/webpage.html</a></p>,\n",
       " <p><i>Some italicized text</i></p>,\n",
       " <p id=\"paragraph-id\"><b>Some bold text</b></p>]"
      ]
     },
     "execution_count": 24,
     "metadata": {},
     "output_type": "execute_result"
    }
   ],
   "source": [
    "content = soup.select('p')\n",
    "content"
   ]
  },
  {
   "cell_type": "code",
   "execution_count": 25,
   "id": "fb3f939d-e5b7-4df2-874e-350524e439b6",
   "metadata": {},
   "outputs": [
    {
     "data": {
      "text/plain": [
       "[<p>Link to more interesting example: <a href=\"https://keithgalli.github.io/web-scraping/webpage.html\">keithgalli.github.io/web-scraping/webpage.html</a></p>]"
      ]
     },
     "execution_count": 25,
     "metadata": {},
     "output_type": "execute_result"
    }
   ],
   "source": [
    "content = soup.select('div p')\n",
    "content"
   ]
  },
  {
   "cell_type": "code",
   "execution_count": 26,
   "id": "62ebb5ae-4e13-46c9-9a83-cb14c81627d2",
   "metadata": {},
   "outputs": [
    {
     "data": {
      "text/plain": [
       "[<p><i>Some italicized text</i></p>,\n",
       " <p id=\"paragraph-id\"><b>Some bold text</b></p>]"
      ]
     },
     "execution_count": 26,
     "metadata": {},
     "output_type": "execute_result"
    }
   ],
   "source": [
    "content = soup.select('h2 ~ p')\n",
    "content"
   ]
  },
  {
   "cell_type": "code",
   "execution_count": 28,
   "id": "42266372-d5e2-4667-a42e-25c7ffd18403",
   "metadata": {},
   "outputs": [
    {
     "data": {
      "text/plain": [
       "[<b>Some bold text</b>]"
      ]
     },
     "execution_count": 28,
     "metadata": {},
     "output_type": "execute_result"
    }
   ],
   "source": [
    "content = soup.select('p#paragraph-id b')\n",
    "content"
   ]
  },
  {
   "cell_type": "code",
   "execution_count": 32,
   "id": "b2c6ab79-c971-4b1b-b226-bf5a8301beb8",
   "metadata": {},
   "outputs": [
    {
     "data": {
      "text/plain": [
       "[<p><i>Some italicized text</i></p>,\n",
       " <p id=\"paragraph-id\"><b>Some bold text</b></p>]"
      ]
     },
     "execution_count": 32,
     "metadata": {},
     "output_type": "execute_result"
    }
   ],
   "source": [
    "paragraphs = soup.select('body > p')\n",
    "paragraphs"
   ]
  },
  {
   "cell_type": "code",
   "execution_count": 33,
   "id": "2ac02158-c2e6-43e7-81a2-39d12cba58cf",
   "metadata": {},
   "outputs": [
    {
     "name": "stdout",
     "output_type": "stream",
     "text": [
      "[<i>Some italicized text</i>]\n",
      "[]\n"
     ]
    }
   ],
   "source": [
    "for paragraph in paragraphs:\n",
    "    print(paragraph.select('i'))"
   ]
  },
  {
   "cell_type": "code",
   "execution_count": 34,
   "id": "ff13647e-12c9-4629-9cb8-5ddf451a992d",
   "metadata": {},
   "outputs": [
    {
     "data": {
      "text/plain": [
       "[<div align=\"middle\">\n",
       " <h1>HTML Webpage</h1>\n",
       " <p>Link to more interesting example: <a href=\"https://keithgalli.github.io/web-scraping/webpage.html\">keithgalli.github.io/web-scraping/webpage.html</a></p>\n",
       " </div>]"
      ]
     },
     "execution_count": 34,
     "metadata": {},
     "output_type": "execute_result"
    }
   ],
   "source": [
    "soup.select('[align=middle]')"
   ]
  },
  {
   "cell_type": "markdown",
   "id": "2cfd8655-1821-45ec-8c45-5f36a1c77708",
   "metadata": {},
   "source": [
    "### Get different properties from HTML"
   ]
  },
  {
   "cell_type": "code",
   "execution_count": 36,
   "id": "fceb6d8d-9f98-45ad-a459-fef3575faabf",
   "metadata": {},
   "outputs": [
    {
     "name": "stdout",
     "output_type": "stream",
     "text": [
      "<h2>A Header</h2>\n",
      "A Header\n"
     ]
    }
   ],
   "source": [
    "# use .string single element\n",
    "header = soup.find('h2')\n",
    "print(header)\n",
    "print(header.string)"
   ]
  },
  {
   "cell_type": "code",
   "execution_count": 39,
   "id": "17f299dc-83a5-4e91-8380-29a9c2f70d0f",
   "metadata": {},
   "outputs": [
    {
     "name": "stdout",
     "output_type": "stream",
     "text": [
      "<div align=\"middle\">\n",
      " <h1>\n",
      "  HTML Webpage\n",
      " </h1>\n",
      " <p>\n",
      "  Link to more interesting example:\n",
      "  <a href=\"https://keithgalli.github.io/web-scraping/webpage.html\">\n",
      "   keithgalli.github.io/web-scraping/webpage.html\n",
      "  </a>\n",
      " </p>\n",
      "</div>\n",
      "\n",
      "\n",
      " HTML Webpage \n",
      " Link to more interesting example:  keithgalli.github.io/web-scraping/webpage.html \n",
      "\n"
     ]
    }
   ],
   "source": [
    "# if you have multiple elements use get_text()\n",
    "div = soup.find('div')\n",
    "print(div.prettify())\n",
    "print(div.get_text(\" \", strip=False))"
   ]
  },
  {
   "cell_type": "markdown",
   "id": "66fca65f-1361-44bf-b42c-6b05f2f8af42",
   "metadata": {},
   "source": [
    "### Get a specific property from an element"
   ]
  },
  {
   "cell_type": "code",
   "execution_count": 40,
   "id": "c584a83b-9592-4859-875f-4c64588ab4a8",
   "metadata": {},
   "outputs": [
    {
     "data": {
      "text/plain": [
       "'https://keithgalli.github.io/web-scraping/webpage.html'"
      ]
     },
     "execution_count": 40,
     "metadata": {},
     "output_type": "execute_result"
    }
   ],
   "source": [
    "# to get a link\n",
    "link = soup.find('a')\n",
    "link['href']"
   ]
  },
  {
   "cell_type": "code",
   "execution_count": 45,
   "id": "9e11e1ee-e255-4130-a7ee-2c19bd332efc",
   "metadata": {},
   "outputs": [
    {
     "name": "stdout",
     "output_type": "stream",
     "text": [
      "[<p id=\"paragraph-id\"><b>Some bold text</b></p>]\n",
      "<p id=\"paragraph-id\"><b>Some bold text</b></p>\n",
      "paragraph-id\n"
     ]
    }
   ],
   "source": [
    "# to get id, class\n",
    "paragraphs = soup.select('p#paragraph-id')\n",
    "print(paragraphs)\n",
    "print(paragraphs[0])\n",
    "print(paragraphs[0]['id'])"
   ]
  },
  {
   "cell_type": "code",
   "execution_count": 46,
   "id": "a9045851-75b6-4409-a148-8c74b9c1fde3",
   "metadata": {},
   "outputs": [
    {
     "data": {
      "text/plain": [
       "'HTML Webpage'"
      ]
     },
     "execution_count": 46,
     "metadata": {},
     "output_type": "execute_result"
    }
   ],
   "source": [
    "# path syntax\n",
    "soup.body.div.h1.string"
   ]
  },
  {
   "cell_type": "code",
   "execution_count": 49,
   "id": "8ca16050-c5ff-40c6-99b2-8f103a8c8b09",
   "metadata": {},
   "outputs": [
    {
     "data": {
      "text/plain": [
       "<div align=\"middle\">\n",
       "<h1>HTML Webpage</h1>\n",
       "<p>Link to more interesting example: <a href=\"https://keithgalli.github.io/web-scraping/webpage.html\">keithgalli.github.io/web-scraping/webpage.html</a></p>\n",
       "</div>"
      ]
     },
     "execution_count": 49,
     "metadata": {},
     "output_type": "execute_result"
    }
   ],
   "source": [
    "# know the terms: Parent, sibling, child\n",
    "soup.body.find('div')"
   ]
  },
  {
   "cell_type": "code",
   "execution_count": 50,
   "id": "c1b477bd-bacc-44f9-945b-b842b544c2fd",
   "metadata": {},
   "outputs": [
    {
     "data": {
      "text/plain": [
       "[<h2>A Header</h2>,\n",
       " <p><i>Some italicized text</i></p>,\n",
       " <h2>Another header</h2>,\n",
       " <p id=\"paragraph-id\"><b>Some bold text</b></p>]"
      ]
     },
     "execution_count": 50,
     "metadata": {},
     "output_type": "execute_result"
    }
   ],
   "source": [
    "soup.body.find('div').find_next_siblings()"
   ]
  },
  {
   "cell_type": "markdown",
   "id": "2271edbe-fe45-4d0e-b45c-154331cba3da",
   "metadata": {},
   "source": [
    "## Exercises"
   ]
  },
  {
   "cell_type": "code",
   "execution_count": 51,
   "id": "ea898754-92a1-458b-a3ca-09d2bc20a24a",
   "metadata": {},
   "outputs": [],
   "source": [
    "req = requests.get('https://keithgalli.github.io/web-scraping/webpage.html')\n",
    "\n",
    "soup = bs(req.content)"
   ]
  },
  {
   "cell_type": "code",
   "execution_count": 53,
   "id": "017cde34-be15-4c36-88b8-85b1bb22ba10",
   "metadata": {},
   "outputs": [],
   "source": [
    "# soup.prettify()"
   ]
  },
  {
   "cell_type": "code",
   "execution_count": 93,
   "id": "7ff8ebc0-f9ff-4685-a79a-f7e8946b4fd3",
   "metadata": {},
   "outputs": [
    {
     "data": {
      "text/plain": [
       "[<li class=\"social instagram\"><b>Instagram: </b><a href=\"https://www.instagram.com/keithgalli/\">https://www.instagram.com/keithgalli/</a></li>,\n",
       " <li class=\"social twitter\"><b>Twitter: </b><a href=\"https://twitter.com/keithgalli\">https://twitter.com/keithgalli</a></li>,\n",
       " <li class=\"social linkedin\"><b>LinkedIn: </b><a href=\"https://www.linkedin.com/in/keithgalli/\">https://www.linkedin.com/in/keithgalli/</a></li>,\n",
       " <li class=\"social tiktok\"><b>TikTok: </b><a href=\"https://www.tiktok.com/@keithgalli\">https://www.tiktok.com/@keithgalli</a></li>]"
      ]
     },
     "execution_count": 93,
     "metadata": {},
     "output_type": "execute_result"
    }
   ],
   "source": [
    "# grab all of the social links from the webpage\n",
    "social_links = soup.find_all('li', class_=re.compile('social *'))\n",
    "social_links"
   ]
  },
  {
   "cell_type": "code",
   "execution_count": null,
   "id": "f5bc5ddf-df08-49cf-b77f-c74f43a4d04d",
   "metadata": {},
   "outputs": [],
   "source": []
  }
 ],
 "metadata": {
  "kernelspec": {
   "display_name": "Python 3",
   "language": "python",
   "name": "python3"
  },
  "language_info": {
   "codemirror_mode": {
    "name": "ipython",
    "version": 3
   },
   "file_extension": ".py",
   "mimetype": "text/x-python",
   "name": "python",
   "nbconvert_exporter": "python",
   "pygments_lexer": "ipython3",
   "version": "3.9.2"
  }
 },
 "nbformat": 4,
 "nbformat_minor": 5
}
